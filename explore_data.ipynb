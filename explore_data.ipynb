{
 "cells": [
  {
   "cell_type": "markdown",
   "metadata": {},
   "source": [
    "#  Importing and explore environmental data using Pandas "
   ]
  },
  {
   "cell_type": "code",
   "execution_count": 60,
   "metadata": {},
   "outputs": [],
   "source": [
    "import pandas as pd\n",
    "\n",
    "# Import the air quality dataset \n",
    "\n",
    "CO2Data = pd.read_csv(\"MartinezTrejo_etal_2023_TA_DIC_RawData.csv\")"
   ]
  },
  {
   "cell_type": "markdown",
   "metadata": {},
   "source": [
    "## Explore a Pandas DataFrame in Python\n"
   ]
  },
  {
   "cell_type": "markdown",
   "metadata": {},
   "source": [
    "- Get the number of rows and columns in the DataFrame"
   ]
  },
  {
   "cell_type": "code",
   "execution_count": 61,
   "metadata": {},
   "outputs": [
    {
     "name": "stdout",
     "output_type": "stream",
     "text": [
      "(106, 21)\n"
     ]
    }
   ],
   "source": [
    "print(CO2Data.shape)"
   ]
  },
  {
   "cell_type": "markdown",
   "metadata": {},
   "source": [
    "- Print the first few rows of the DataFrame"
   ]
  },
  {
   "cell_type": "code",
   "execution_count": 62,
   "metadata": {},
   "outputs": [
    {
     "name": "stdout",
     "output_type": "stream",
     "text": [
      "   Sample        Date     Estuary   Area Station Layer_depth Season  \\\n",
      "0  CDL01S  05/03/2020  Candelaria  River   CDL01     Surface    Dry   \n",
      "1  CDL01F  05/03/2020  Candelaria  River   CDL01      Bottom    Dry   \n",
      "2  CDL02S  05/03/2020  Candelaria  River   CDL02     Surface    Dry   \n",
      "3  CDL02F  05/03/2020  Candelaria  River   CDL02      Bottom    Dry   \n",
      "4  CDL03S  05/03/2020  Candelaria  River   CDL03     Surface    Dry   \n",
      "\n",
      "   Chlorophy_microg_L  Cond_microsiemens_cm  Depth_m  ...  DO_mg_L  Sal_psu  \\\n",
      "0                0.36                7015.4    0.464  ...     7.12     3.56   \n",
      "1                4.19               29886.1    7.792  ...     4.90    16.97   \n",
      "2                0.92               16691.1    0.453  ...     6.99     8.94   \n",
      "3                2.23               24847.4    1.261  ...     6.52    13.87   \n",
      "4                0.58               46341.6    0.465  ...     6.24    28.06   \n",
      "\n",
      "   Sp_cond_microsiemens_cm  Turbidity_fnu  Temp_C  latitude  longitude  \\\n",
      "0                   6547.7           1.47  28.740  18.55736  -91.25012   \n",
      "1                  27751.2          95.33  29.028  18.55722  -91.24990   \n",
      "2                  15429.1           5.50  29.283  18.61007  -91.24410   \n",
      "3                  23074.0          13.44  29.024  18.61005  -91.24403   \n",
      "4                  43670.8           3.60  28.202  18.63166  -91.29359   \n",
      "\n",
      "   DIC_micromol_kg  TA_micromol_kg  dummy_data  \n",
      "0             3915            3863      3863.0  \n",
      "1             3698            3685      3685.0  \n",
      "2             3724            3708      3708.0  \n",
      "3             3667            3992      3992.0  \n",
      "4             2928            3023      3023.0  \n",
      "\n",
      "[5 rows x 21 columns]\n"
     ]
    }
   ],
   "source": [
    "print(CO2Data.head())"
   ]
  },
  {
   "cell_type": "markdown",
   "metadata": {},
   "source": [
    "- Get information about the columns in the DataFrame using th"
   ]
  },
  {
   "cell_type": "code",
   "execution_count": 63,
   "metadata": {},
   "outputs": [
    {
     "name": "stdout",
     "output_type": "stream",
     "text": [
      "<class 'pandas.core.frame.DataFrame'>\n",
      "RangeIndex: 106 entries, 0 to 105\n",
      "Data columns (total 21 columns):\n",
      " #   Column                   Non-Null Count  Dtype  \n",
      "---  ------                   --------------  -----  \n",
      " 0   Sample                   106 non-null    object \n",
      " 1   Date                     106 non-null    object \n",
      " 2   Estuary                  106 non-null    object \n",
      " 3   Area                     106 non-null    object \n",
      " 4   Station                  106 non-null    object \n",
      " 5   Layer_depth              106 non-null    object \n",
      " 6   Season                   106 non-null    object \n",
      " 7   Chlorophy_microg_L       106 non-null    float64\n",
      " 8   Cond_microsiemens_cm     106 non-null    float64\n",
      " 9   Depth_m                  106 non-null    float64\n",
      " 10  DO_percent_sat           106 non-null    float64\n",
      " 11  DO_mg_L                  106 non-null    float64\n",
      " 12  Sal_psu                  106 non-null    float64\n",
      " 13  Sp_cond_microsiemens_cm  106 non-null    float64\n",
      " 14  Turbidity_fnu            106 non-null    float64\n",
      " 15  Temp_C                   106 non-null    float64\n",
      " 16  latitude                 106 non-null    float64\n",
      " 17  longitude                106 non-null    float64\n",
      " 18  DIC_micromol_kg          106 non-null    int64  \n",
      " 19  TA_micromol_kg           106 non-null    int64  \n",
      " 20  dummy_data               100 non-null    float64\n",
      "dtypes: float64(12), int64(2), object(7)\n",
      "memory usage: 17.5+ KB\n",
      "None\n"
     ]
    }
   ],
   "source": [
    "print(CO2Data.info())"
   ]
  },
  {
   "cell_type": "markdown",
   "metadata": {},
   "source": [
    "-  Summary of the statistics for each column in the DataFrame "
   ]
  },
  {
   "cell_type": "code",
   "execution_count": 64,
   "metadata": {},
   "outputs": [
    {
     "name": "stdout",
     "output_type": "stream",
     "text": [
      "       Chlorophy_microg_L  Cond_microsiemens_cm     Depth_m  DO_percent_sat  \\\n",
      "count          106.000000            106.000000  106.000000      106.000000   \n",
      "mean             6.545472          27895.183962    1.830160       89.515094   \n",
      "std             14.941262          20931.232513    2.038739       29.772291   \n",
      "min              0.360000             13.800000    0.105000        1.700000   \n",
      "25%              2.555000           1778.025000    0.428750       84.575000   \n",
      "50%              3.705000          33202.600000    0.638500       97.100000   \n",
      "75%              5.925000          47046.650000    2.883250      105.300000   \n",
      "max            150.900000          59988.600000    8.558000      174.100000   \n",
      "\n",
      "          DO_mg_L     Sal_psu  Sp_cond_microsiemens_cm  Turbidity_fnu  \\\n",
      "count  106.000000  106.000000               106.000000     106.000000   \n",
      "mean     6.474340   17.331981             27126.980189     100.429623   \n",
      "std      2.104254   13.578980             20527.530804     290.290113   \n",
      "min      0.120000    0.000000                13.700000       0.880000   \n",
      "25%      5.632500    0.857500              1706.875000       5.950000   \n",
      "50%      6.940000   19.760000             31803.250000      19.090000   \n",
      "75%      7.722500   30.297500             46668.975000      54.762500   \n",
      "max     11.660000   38.780000             58105.000000    2422.930000   \n",
      "\n",
      "           Temp_C    latitude   longitude  DIC_micromol_kg  TA_micromol_kg  \\\n",
      "count  106.000000  106.000000  106.000000       106.000000      106.000000   \n",
      "mean    26.758755   18.615912  -91.602783      2797.981132     2912.915094   \n",
      "std      0.917242    0.112832    0.240359       499.852416      472.694346   \n",
      "min     24.470000   18.424030  -91.902180      2152.000000     2357.000000   \n",
      "25%     26.062000   18.535825  -91.809810      2452.250000     2585.500000   \n",
      "50%     26.806000   18.610050  -91.786895      2646.500000     2823.000000   \n",
      "75%     27.153250   18.698798  -91.367565      2963.250000     3053.750000   \n",
      "max     29.283000   18.821780  -91.244000      4324.000000     4307.000000   \n",
      "\n",
      "        dummy_data  \n",
      "count   100.000000  \n",
      "mean   2912.490000  \n",
      "std     480.980553  \n",
      "min    2357.000000  \n",
      "25%    2571.250000  \n",
      "50%    2816.000000  \n",
      "75%    3048.750000  \n",
      "max    4307.000000  \n"
     ]
    }
   ],
   "source": [
    "print(CO2Data.describe())"
   ]
  },
  {
   "cell_type": "markdown",
   "metadata": {},
   "source": [
    "-  Group the data by a categorical column, and calculate the mean and standard deviation of a numerical column"
   ]
  },
  {
   "cell_type": "code",
   "execution_count": 65,
   "metadata": {},
   "outputs": [
    {
     "name": "stdout",
     "output_type": "stream",
     "text": [
      "       TA_micromol_kg             DIC_micromol_kg            \n",
      "                 mean         std            mean         std\n",
      "Season                                                       \n",
      "Dry       3092.333333  452.211935     2942.625000  521.669731\n",
      "Rainy     2532.970588  228.041262     2491.676471  259.152198\n"
     ]
    }
   ],
   "source": [
    "grouped_data = CO2Data.groupby(\"Season\")[['TA_micromol_kg', 'DIC_micromol_kg']].agg(['mean', 'std'])\n",
    "print(grouped_data)"
   ]
  },
  {
   "cell_type": "code",
   "execution_count": 66,
   "metadata": {},
   "outputs": [
    {
     "name": "stdout",
     "output_type": "stream",
     "text": [
      "                  TA_micromol_kg             DIC_micromol_kg            \n",
      "                            mean         std            mean         std\n",
      "Season Estuary                                                          \n",
      "Dry    Candelaria    3076.777778  556.680114     2917.055556  630.585893\n",
      "       Palizada      3107.888889  323.177154     2968.194444  391.242257\n",
      "Rainy  Candelaria    2537.062500  192.848635     2474.125000  306.407980\n",
      "       Palizada      2529.333333  260.962923     2507.277778  216.751092\n"
     ]
    }
   ],
   "source": [
    "grouped_data = CO2Data.groupby([\"Season\", \"Estuary\"])[['TA_micromol_kg', 'DIC_micromol_kg']].agg(['mean', 'std'])\n",
    "print(grouped_data)"
   ]
  },
  {
   "attachments": {},
   "cell_type": "markdown",
   "metadata": {},
   "source": [
    "-  Missing values in each column."
   ]
  },
  {
   "cell_type": "code",
   "execution_count": 70,
   "metadata": {},
   "outputs": [
    {
     "name": "stdout",
     "output_type": "stream",
     "text": [
      "Sample                     0\n",
      "Date                       0\n",
      "Estuary                    0\n",
      "Area                       0\n",
      "Station                    0\n",
      "Layer_depth                0\n",
      "Season                     0\n",
      "Chlorophy_microg_L         0\n",
      "Cond_microsiemens_cm       0\n",
      "Depth_m                    0\n",
      "DO_percent_sat             0\n",
      "DO_mg_L                    0\n",
      "Sal_psu                    0\n",
      "Sp_cond_microsiemens_cm    0\n",
      "Turbidity_fnu              0\n",
      "Temp_C                     0\n",
      "latitude                   0\n",
      "longitude                  0\n",
      "DIC_micromol_kg            0\n",
      "TA_micromol_kg             0\n",
      "dummy_data                 0\n",
      "dtype: int64\n"
     ]
    }
   ],
   "source": [
    "# 1. Use the Pandas isnull() function to identify the number of missing values in each column.\n",
    "\n",
    "print(CO2Data.isnull().sum())"
   ]
  },
  {
   "cell_type": "code",
   "execution_count": 71,
   "metadata": {},
   "outputs": [
    {
     "name": "stdout",
     "output_type": "stream",
     "text": [
      "Sample                     0\n",
      "Date                       0\n",
      "Estuary                    0\n",
      "Area                       0\n",
      "Station                    0\n",
      "Layer_depth                0\n",
      "Season                     0\n",
      "Chlorophy_microg_L         0\n",
      "Cond_microsiemens_cm       0\n",
      "Depth_m                    0\n",
      "DO_percent_sat             0\n",
      "DO_mg_L                    0\n",
      "Sal_psu                    0\n",
      "Sp_cond_microsiemens_cm    0\n",
      "Turbidity_fnu              0\n",
      "Temp_C                     0\n",
      "latitude                   0\n",
      "longitude                  0\n",
      "DIC_micromol_kg            0\n",
      "TA_micromol_kg             0\n",
      "dummy_data                 0\n",
      "dtype: int64\n"
     ]
    }
   ],
   "source": [
    "# Replace the missing values in the dummy_data' column with the median value of the column.\n",
    "\n",
    "median_dummy_data = CO2Data['dummy_data'].median()\n",
    "\n",
    "CO2Data['dummy_data'].fillna(median_dummy_data, inplace=True)\n",
    "\n",
    "print(CO2Data.isnull().sum())"
   ]
  }
 ],
 "metadata": {
  "kernelspec": {
   "display_name": "Python 3 (ipykernel)",
   "language": "python",
   "name": "python3"
  },
  "language_info": {
   "codemirror_mode": {
    "name": "ipython",
    "version": 3
   },
   "file_extension": ".py",
   "mimetype": "text/x-python",
   "name": "python",
   "nbconvert_exporter": "python",
   "pygments_lexer": "ipython3",
   "version": "3.9.16"
  }
 },
 "nbformat": 4,
 "nbformat_minor": 4
}
