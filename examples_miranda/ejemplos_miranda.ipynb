{
 "cells": [
  {
   "cell_type": "markdown",
   "metadata": {},
   "source": [
    "# Examples of the course "
   ]
  },
  {
   "cell_type": "code",
   "execution_count": null,
   "metadata": {},
   "outputs": [],
   "source": [
    "print (\"hello world\")"
   ]
  },
  {
   "cell_type": "code",
   "execution_count": null,
   "metadata": {},
   "outputs": [],
   "source": [
    "# es para saber la versión de python que se está ejecutando\n",
    "import sys\n",
    "\n",
    "print(sys.version)"
   ]
  },
  {
   "cell_type": "code",
   "execution_count": null,
   "metadata": {},
   "outputs": [],
   "source": [
    "#aplicamos el gato para hacer un comentario\n",
    "# python marca error si no aplicamos la sangría  \n",
    "# y después de un if con variables hay que poner dos puntos\n",
    "if 5 > 4:\n",
    "    print(\"Five is greater than four!\")    \n"
   ]
  },
  {
   "cell_type": "code",
   "execution_count": null,
   "metadata": {},
   "outputs": [],
   "source": [
    "#python no tiene un comando para declarar variables como en otros lenguajes\n",
    "#se declaran y se asignan valores en una sola línea\n",
    "x = 5\n",
    "y =\"Hello, Miranda\""
   ]
  },
  {
   "cell_type": "code",
   "execution_count": null,
   "metadata": {},
   "outputs": [],
   "source": [
    "\"\"\"\n",
    "Este también es un comentario\n",
    "pero es de varias líneas\n",
    "\"\"\"\n",
    "print(\"hola\")"
   ]
  },
  {
   "cell_type": "markdown",
   "metadata": {},
   "source": [
    "## Variables \n",
    "### Creación de variables"
   ]
  },
  {
   "cell_type": "code",
   "execution_count": null,
   "metadata": {},
   "outputs": [],
   "source": [
    "x = 2 \n",
    "y = \"miranda\"\n",
    "print(x)\n",
    "print(y)\n",
    "\n",
    "#no se necesita declarar el tipo de variable\n",
    "# a esto se le llama \"casting\"\n",
    "x = str(8)    # x will be '8'\n",
    "y = int(8)    # y will be 8\n",
    "z = float(8)  # z will be 8.0"
   ]
  },
  {
   "cell_type": "code",
   "execution_count": null,
   "metadata": {},
   "outputs": [],
   "source": [
    "#get the type of a variable\n",
    "\n",
    "#en este caso \"x\" es un string, que es una cadena de texto\n",
    "print(type(x))\n",
    "#en este caso \"y\" es un entero, el valor es un número entero\n",
    "print(type(y))\n"
   ]
  },
  {
   "cell_type": "code",
   "execution_count": null,
   "metadata": {},
   "outputs": [],
   "source": [
    "x =\"miranda\"\n",
    "# es lo mismo que escribir \n",
    "y = 'ana'\n",
    "print(x)\n",
    "print(y)"
   ]
  },
  {
   "cell_type": "code",
   "execution_count": null,
   "metadata": {},
   "outputs": [],
   "source": [
    "#las variables son case-sensitive, por lo tanto hay que tener cuidado en el código, ya que cada una la identificará \n",
    "#como una variable diferente\n",
    "a = 5\n",
    "A = \"andrea\"\n",
    "print(a)\n",
    "print(A)"
   ]
  },
  {
   "cell_type": "markdown",
   "metadata": {},
   "source": [
    "### Variable Name \n",
    "> #### Reglas para variables \n",
    "> * El nombre de una variable debe de empezar con una letra o un guión bajo (A-z, 0-9 y _)\n",
    "> * No puede empezar con un número \n",
    "> * Debido a las mayúsculas (EDAD,edad,Edad) todas serían consideradas como variables distintas (ya que si reconoce entre mayúsculas y minúsculas)"
   ]
  },
  {
   "cell_type": "code",
   "execution_count": null,
   "metadata": {},
   "outputs": [],
   "source": [
    "myvar = \"miraanda\"\n",
    "Myvar = \"mirannda\"\n",
    "MYVAR = \"mirandaaa\""
   ]
  },
  {
   "cell_type": "markdown",
   "metadata": {},
   "source": [
    "Si queremos escribir una variable muy larga es recomendable separarla por guíón bajo "
   ]
  },
  {
   "cell_type": "code",
   "execution_count": null,
   "metadata": {},
   "outputs": [],
   "source": [
    "my_var_name = \"myday\""
   ]
  },
  {
   "cell_type": "markdown",
   "metadata": {},
   "source": [
    "### Varios valores para multiples valores "
   ]
  },
  {
   "cell_type": "code",
   "execution_count": null,
   "metadata": {},
   "outputs": [],
   "source": [
    "x, y, z = \"red\", \"dark gray\", \"blue\"\n",
    "print(x)\n",
    "print(y)    \n",
    "print(z)\n",
    "#se pueden asignar el mismo valor a varias variables en una sola línea, asegurarse que sea el mismo número de variables"
   ]
  },
  {
   "cell_type": "markdown",
   "metadata": {},
   "source": [
    "### Un valor para multiples variables "
   ]
  },
  {
   "cell_type": "code",
   "execution_count": null,
   "metadata": {},
   "outputs": [],
   "source": [
    "x = y = z = \"taylor\"\n",
    "print(x)\n",
    "print(y)   \n",
    "print(z)    \n"
   ]
  },
  {
   "cell_type": "markdown",
   "metadata": {},
   "source": [
    "### Unpack a collection"
   ]
  },
  {
   "cell_type": "code",
   "execution_count": null,
   "metadata": {},
   "outputs": [],
   "source": [
    "taylor = [\"red\", \"fornite\", \"clean\"]\n",
    "x, y, z = taylor\n",
    "print(x)\n",
    "print(y)\n",
    "print(z)\n",
    "#en el orden que se pongan las variables, se asignarán los valores de la lista"
   ]
  },
  {
   "cell_type": "markdown",
   "metadata": {},
   "source": [
    "### Output variables"
   ]
  },
  {
   "cell_type": "code",
   "execution_count": null,
   "metadata": {},
   "outputs": [],
   "source": [
    "x = \"day6\"\n",
    "print(x)"
   ]
  },
  {
   "cell_type": "markdown",
   "metadata": {},
   "source": [
    "In the print() function, you output multiple variables, separated by a comma:"
   ]
  },
  {
   "cell_type": "code",
   "execution_count": null,
   "metadata": {},
   "outputs": [],
   "source": [
    "x = \"day6\"\n",
    "y = \"beatles\"\n",
    "z = \"taylor swift\"\n",
    "\n",
    "print(x, y, z)\n",
    "#tambien se puede usar \"+\" para concatenar variables pero no deja espacios entre las variables\n",
    "print (x + y + z)   "
   ]
  },
  {
   "cell_type": "code",
   "execution_count": null,
   "metadata": {},
   "outputs": [],
   "source": [
    "#para los números \"+\" lo entiende como operación matemática\n",
    "x = 10\n",
    "y = 2\n",
    "print(x + y)\n",
    "#no se puede hacer esto si las variables no son del mismo tipo, si se quiere hacer, se necesita hacer uso de la coma "
   ]
  },
  {
   "cell_type": "markdown",
   "metadata": {},
   "source": [
    "## Variables globales "
   ]
  },
  {
   "cell_type": "code",
   "execution_count": null,
   "metadata": {},
   "outputs": [],
   "source": [
    "# estas pueden ser usadas dentro o fuera de las funciones \n",
    "\n",
    "x = \"paul\"\n",
    "def  myfunc():\n",
    "    print (\"one of the greatest beatles is \" + x)\n",
    "myfunc()\n",
    "\n",
    "x = \"paul\"\n"
   ]
  },
  {
   "cell_type": "code",
   "execution_count": null,
   "metadata": {},
   "outputs": [],
   "source": [
    "x = \"paul\"\n",
    "def myfunc():\n",
    "    x = \"george\"\n",
    "    print(\"one of the greatest beatles is \" + x)\n",
    "myfunc()\n",
    "\n",
    "print (\"one of the greatest beatles is \" + x)\n",
    "#Obedece el orden de las variables"
   ]
  },
  {
   "cell_type": "markdown",
   "metadata": {},
   "source": [
    "### The global Keyword"
   ]
  },
  {
   "cell_type": "code",
   "execution_count": null,
   "metadata": {},
   "outputs": [],
   "source": [
    "def myfunc():\n",
    "    global x\n",
    "    x = \"john\"\n",
    "myfunc()\n",
    "print(\"one of the greatest beatles is \" + x)\n"
   ]
  },
  {
   "cell_type": "code",
   "execution_count": null,
   "metadata": {},
   "outputs": [],
   "source": [
    "x = \"awesome\"\n",
    "\n",
    "def myfunc():\n",
    "  global x\n",
    "  x = \"fantastic\"\n",
    "\n",
    "myfunc()\n",
    "\n",
    "print(\"Python is \" + x)\n",
    "#obedece a la variable global"
   ]
  },
  {
   "cell_type": "markdown",
   "metadata": {},
   "source": [
    "## Python Data Types \n",
    "Las variables pueden almacenar distintos tipos de datos, con los cuales se pueden realizar distintos tipos de cosas.\n",
    "\n",
    "**Text Type: str**\n",
    "- x = str(\"Hola\")\n",
    "\n",
    "**Numeric Types: int, float, complex**\n",
    "- x = int(20)\n",
    "*es un número, ya sea positivo o negativo, sin decimales, e ilimitada longitud.*\n",
    "- x = float(20.5)\n",
    "***floating point number*** *un número ya sea positivo o negativo que contiene uno o más decimales, aquí también aplican los números científicos \"e\" indica a la 10 potencia*\n",
    "- x = complex(1j)\n",
    "*estos su parte imaginaria es escrita con \"j\"*\n",
    "\n",
    "Sequence Types: list, tuple, range \n",
    "- x = list((\"manzana\", \"arriba\", \"red\"))\n",
    "- x = tuple((\"manzana\", \"arriba\", \"red\"))\n",
    "- x = range (6)\n",
    "\n",
    "Mapping type: dict\n",
    "- x = dict(name=\"jon\", age=36)\n",
    "\n",
    "Set Types: set, frozenset\n",
    "- x = set((\"manzana\", \"arriba\", \"red\"))\n",
    "- x = frozenset((\"manzana\", \"arriba\", \"red\"))\n",
    "\n",
    "Boolean Type: bool\n",
    "- x = (5)\n",
    "\n",
    "Binary Types: bytes, bytearray, memoryview\n",
    "- x = bytes(5)\n",
    "- x = bytearray(5)\n",
    "- x = memoryview(bytes(5))\n",
    "\n",
    "None Type:\n"
   ]
  },
  {
   "cell_type": "code",
   "execution_count": null,
   "metadata": {},
   "outputs": [],
   "source": [
    "# para verificar el tipo de variable se usa la función type()\n",
    "x = 5\n",
    "print(type(x))"
   ]
  },
  {
   "cell_type": "code",
   "execution_count": null,
   "metadata": {},
   "outputs": [],
   "source": [
    "#Type Conversion \n",
    "x = 2\n",
    "y = 3.5\n",
    "#no se pueden convertir números complejos a otro tipo de variable\n",
    "z = 5j\n",
    "#convert from int to float:\n",
    "a = float(x)\n",
    "#convert from float to int:\n",
    "b = int(y)\n",
    "#convert from int to complex:\n",
    "c = complex(x)\n",
    "\n",
    "print(a)\n",
    "print(b)\n",
    "print(c)\n",
    "\n",
    "print(type(a))\n",
    "print(type(b))\n",
    "print(type(c))\n"
   ]
  },
  {
   "cell_type": "code",
   "execution_count": null,
   "metadata": {},
   "outputs": [],
   "source": [
    "#Random Number\n",
    "#Python no tiene una función random() para hacer un número aleatorio, pero se puede importar un módulo llamado random para \n",
    "# hacer números aleatorios\n",
    "import random\n",
    "print(random.randrange(1, 20))"
   ]
  },
  {
   "cell_type": "code",
   "execution_count": null,
   "metadata": {},
   "outputs": [],
   "source": [
    "#Specify a Variable Type\n",
    "#Otra forma de especificar un tipo de variable es con el constructor de la clase int(), float(), str(), etc.\n",
    "x = int(1)   # x will be 1\n",
    "y = float(2) # y will be 2.0\n",
    "z = str(3)   # z will be '3'\n",
    "w = int(\"6\") # w will be 6\n",
    "print(x)\n",
    "print(y)\n",
    "print(z)\n",
    "print(w)\n"
   ]
  },
  {
   "cell_type": "markdown",
   "metadata": {},
   "source": [
    "## Python Strings \n",
    "se pueden utilizar dobles comillas o comas simples \n",
    "y se pueden mostrar literal con la función print()"
   ]
  },
  {
   "cell_type": "code",
   "execution_count": null,
   "metadata": {},
   "outputs": [],
   "source": [
    "print(\"miranda\")\n",
    "print ('day6')\n",
    "print(\"a miranda le gusta 'day6'\")"
   ]
  },
  {
   "cell_type": "code",
   "execution_count": null,
   "metadata": {},
   "outputs": [],
   "source": [
    "#asignando texto a una variable\n",
    "a = \"miranda\"\n",
    "print(a)\n",
    "\n",
    "#multiple strings para una sola variable se hace poniendo tres comillas dobles o comillas simples\n",
    "w = \"\"\"gold rush\n",
    "es de las mejores canciones de taylor swift\"\"\"\n",
    "print(w)"
   ]
  },
  {
   "cell_type": "code",
   "execution_count": null,
   "metadata": {},
   "outputs": [],
   "source": [
    "# strings son arrays (matrices)\n",
    "#Get the character at position 1 \n",
    "# (remember that the first character has the position 0):\n",
    "a = \"Hello, Miranda!\"\n",
    "print(a[1])"
   ]
  },
  {
   "cell_type": "code",
   "execution_count": null,
   "metadata": {},
   "outputs": [],
   "source": [
    "#Looping Through a String\n",
    "#Since strings are arrays, we can loop through\n",
    "# the characters in a string, with a for loop.\n",
    "for x in \"day6\":\n",
    "  print(x)"
   ]
  },
  {
   "cell_type": "code",
   "execution_count": null,
   "metadata": {},
   "outputs": [],
   "source": [
    "#String Length\n",
    "#The len() function returns the length of a string:\n",
    "#Contando todos los caracteres de la cadena de texto\n",
    "#incluyendo los espacios\n",
    "a = \"Hello, Miranda!\"\n",
    "print(len(a))"
   ]
  },
  {
   "cell_type": "code",
   "execution_count": null,
   "metadata": {},
   "outputs": [],
   "source": [
    "#Check String\n",
    "#para checar si una palabra esta presente en la cadena \n",
    "#de texto se usa la palabra reservada \"in\"\n",
    "txt = \"day6 es el mejor grupo de kpop\"\n",
    "print(\"day6\" in txt)"
   ]
  },
  {
   "cell_type": "code",
   "execution_count": null,
   "metadata": {},
   "outputs": [],
   "source": [
    "#Usar el \"if\" en una oración \n",
    "txt = \"day6 es el mejor grupo de kpop\"\n",
    "if \"day6\" in txt:\n",
    "  print(\"Yes, 'day6' is present.\")\n",
    "#checar que no esté presente podemos utilizar \"if not\"\n",
    "txt = \"day6 es el mejor grupo de kpop\"\n",
    "if \"taylor\" not in txt:\n",
    "  print(\"Yes, 'taylor' is NOT present.\")"
   ]
  },
  {
   "cell_type": "code",
   "execution_count": null,
   "metadata": {},
   "outputs": [],
   "source": [
    "#Python - Slicing Strings\n",
    "b = \"Hola miranda\"\n",
    "print(b[2:5])\n",
    "#esto imprimirá \"la \" porque empieza en la posición 2 y termina en la posición 5\n",
    "#pero no incluye la posición 5\n",
    "#recuerda que se empieza a contar desde 0"
   ]
  },
  {
   "cell_type": "code",
   "execution_count": null,
   "metadata": {},
   "outputs": [],
   "source": [
    "b = \"Hola miranda\"\n",
    "print(b[:3])"
   ]
  },
  {
   "cell_type": "code",
   "execution_count": null,
   "metadata": {},
   "outputs": [],
   "source": [
    "#Slice to the end \n",
    "b = \"Hola miranda\"\n",
    "print(b[2:])"
   ]
  },
  {
   "cell_type": "code",
   "execution_count": null,
   "metadata": {},
   "outputs": [],
   "source": [
    "#negative indexing\n",
    "b = \"Hello, World!\"\n",
    "print(b[-5:-2])"
   ]
  },
  {
   "cell_type": "code",
   "execution_count": null,
   "metadata": {},
   "outputs": [],
   "source": [
    "#Upper Case\n",
    "#combierte todo el texto en mayúsculas\n",
    "a = \"hello, miranda!\"\n",
    "print(a.upper())"
   ]
  },
  {
   "cell_type": "code",
   "execution_count": null,
   "metadata": {},
   "outputs": [],
   "source": [
    "#Lower Case\n",
    "#combierte todo el texto en minúsculas\n",
    "a = \"HELLO, MIRANDA!\"\n",
    "print(a.lower())"
   ]
  },
  {
   "cell_type": "code",
   "execution_count": null,
   "metadata": {},
   "outputs": [],
   "source": [
    "#Remove Whitespace\n",
    "a = \" Hello, Miranda! \"\n",
    "print(a.strip()) # returns \"Hello, Miranda!\""
   ]
  },
  {
   "cell_type": "code",
   "execution_count": null,
   "metadata": {},
   "outputs": [],
   "source": [
    "#Replace String\n",
    "a = \"Hello, Miranda!\"\n",
    "print(a.replace(\"H\", \"M\"))"
   ]
  },
  {
   "cell_type": "code",
   "execution_count": null,
   "metadata": {},
   "outputs": [],
   "source": [
    "#string concatenation\n",
    "a = \"hola\"\n",
    "b = \"miranda\"\n",
    "c = a + b\n",
    "print(c)\n",
    "#poner un espacio entre las variables\n",
    "c = a + \" \" + b\n",
    "print(c)"
   ]
  },
  {
   "cell_type": "code",
   "execution_count": null,
   "metadata": {},
   "outputs": [],
   "source": [
    "age = 26\n",
    "# con \"f\" se puede concatenar texto con variables\n",
    "txt = f\"My name is Miranda, and I am {age}\"\n",
    "print(txt)"
   ]
  },
  {
   "cell_type": "code",
   "execution_count": null,
   "metadata": {},
   "outputs": [],
   "source": [
    "###Placeholders and Modifiers\n",
    "price = 49\n",
    "txt = f\"The price is {price:.2f} dollars\"\n",
    "print(txt)"
   ]
  },
  {
   "cell_type": "code",
   "execution_count": null,
   "metadata": {},
   "outputs": [],
   "source": [
    "###Placeholders and Modifiers\n",
    "price = 49\n",
    "txt = f\"The price is {price * 20:.2f} dollars\"\n",
    "print(txt)"
   ]
  },
  {
   "cell_type": "code",
   "execution_count": null,
   "metadata": {},
   "outputs": [],
   "source": [
    "print(\"escribe1\")"
   ]
  },
  {
   "cell_type": "code",
   "execution_count": null,
   "metadata": {},
   "outputs": [],
   "source": [
    "#Calculate normality test of a data set\n",
    "from numpy.random import seed\n",
    "from numpy.random import randn\n",
    "from scipy.stats import shapiro\n",
    "# seed the random number generator\n",
    "seed(1)\n",
    "# generate univariate observations"
   ]
  },
  {
   "cell_type": "code",
   "execution_count": null,
   "metadata": {},
   "outputs": [],
   "source": []
  },
  {
   "cell_type": "code",
   "execution_count": null,
   "metadata": {},
   "outputs": [],
   "source": [
    "import matplotlib.pyplot as plt\n",
    "import cartopy.crs as ccrs\n",
    "import cartopy.feature as cfeature\n",
    "\n",
    "# Coordenadas de las ciudades\n",
    "ciudades = {\n",
    "    \"Minatitlán\": (17.98061, -94.54165),\n",
    "    \"Campeche\": (19.84, -90.52),\n",
    "    \"Cd. del Carmen\": (18.64, -91.82),\n",
    "}\n",
    "\n",
    "# Crear el mapa\n",
    "fig, ax = plt.subplots(figsize=(8, 6), subplot_kw={\"projection\": ccrs.PlateCarree()})\n",
    "ax.set_extent([-118, -85, 10, 33])  # Extensión del mapa\n",
    "\n",
    "# Agregar características geográficas\n",
    "ax.add_feature(cfeature.BORDERS, linestyle=\":\")\n",
    "ax.add_feature(cfeature.COASTLINE)\n",
    "ax.add_feature(cfeature.LAND, edgecolor=\"black\")\n",
    "ax.add_feature(cfeature.OCEAN, color=\"lightblue\")\n",
    "ax.text(-102, 23, \"MÉXICO\", fontsize=10, fontweight=\"bold\", color=\"darkgreen\",\n",
    "        transform=ccrs.PlateCarree(), ha=\"center\")\n",
    "#ax.stock_img() \n",
    "\n",
    "# Graficar las ciudades\n",
    "for ciudad, (lat, lon) in ciudades.items():\n",
    "    ax.plot(lon, lat, marker=\"o\", markersize=3.5, color=\"darkred\", transform=ccrs.PlateCarree())\n",
    "    ax.text(lon + 0.3, lat, ciudad, fontsize=8,color = \"black\",fontweight=\"bold\", transform=ccrs.PlateCarree())\n",
    "\n",
    "# Mostrar el mapa\n",
    "plt.show()\n",
    "#plt.savefig(\"mapa_ciudades.png\", dpi=300)\n"
   ]
  },
  {
   "cell_type": "markdown",
   "metadata": {},
   "source": []
  },
  {
   "cell_type": "code",
   "execution_count": null,
   "metadata": {},
   "outputs": [],
   "source": []
  }
 ],
 "metadata": {
  "kernelspec": {
   "display_name": "Python 3",
   "language": "python",
   "name": "python3"
  },
  "language_info": {
   "codemirror_mode": {
    "name": "ipython",
    "version": 3
   },
   "file_extension": ".py",
   "mimetype": "text/x-python",
   "name": "python",
   "nbconvert_exporter": "python",
   "pygments_lexer": "ipython3",
   "version": "3.11.9"
  }
 },
 "nbformat": 4,
 "nbformat_minor": 2
}
