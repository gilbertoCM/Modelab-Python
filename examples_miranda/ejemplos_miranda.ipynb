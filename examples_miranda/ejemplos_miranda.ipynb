{
 "cells": [
  {
   "cell_type": "markdown",
   "metadata": {},
   "source": [
    "# Examples of the course "
   ]
  },
  {
   "cell_type": "code",
   "execution_count": 2,
   "metadata": {},
   "outputs": [
    {
     "name": "stdout",
     "output_type": "stream",
     "text": [
      "hello world\n"
     ]
    }
   ],
   "source": [
    "print (\"hello world\")"
   ]
  },
  {
   "cell_type": "code",
   "execution_count": 3,
   "metadata": {},
   "outputs": [
    {
     "name": "stdout",
     "output_type": "stream",
     "text": [
      "3.11.9 (tags/v3.11.9:de54cf5, Apr  2 2024, 10:12:12) [MSC v.1938 64 bit (AMD64)]\n"
     ]
    }
   ],
   "source": [
    "# es para saber la versión de python que se está ejecutando\n",
    "import sys\n",
    "\n",
    "print(sys.version)"
   ]
  },
  {
   "cell_type": "code",
   "execution_count": 4,
   "metadata": {},
   "outputs": [
    {
     "name": "stdout",
     "output_type": "stream",
     "text": [
      "Five is greater than four!\n"
     ]
    }
   ],
   "source": [
    "#aplicamos el gato para hacer un comentario\n",
    "# python marca error si no aplicamos la sangría  \n",
    "# y después de un if con variables hay que poner dos puntos\n",
    "if 5 > 4:\n",
    "    print(\"Five is greater than four!\")    \n"
   ]
  },
  {
   "cell_type": "code",
   "execution_count": 5,
   "metadata": {},
   "outputs": [],
   "source": [
    "#python no tiene un comando para declarar variables como en otros lenguajes\n",
    "#se declaran y se asignan valores en una sola línea\n",
    "x = 5\n",
    "y =\"Hello, Miranda\""
   ]
  },
  {
   "cell_type": "code",
   "execution_count": 6,
   "metadata": {},
   "outputs": [
    {
     "name": "stdout",
     "output_type": "stream",
     "text": [
      "hola\n"
     ]
    }
   ],
   "source": [
    "\"\"\"\n",
    "Este también es un comentario\n",
    "pero es de varias líneas\n",
    "\"\"\"\n",
    "print(\"hola\")"
   ]
  },
  {
   "cell_type": "markdown",
   "metadata": {},
   "source": [
    "## Variables \n",
    "### Creación de variables"
   ]
  },
  {
   "cell_type": "code",
   "execution_count": 7,
   "metadata": {},
   "outputs": [
    {
     "name": "stdout",
     "output_type": "stream",
     "text": [
      "2\n",
      "miranda\n"
     ]
    }
   ],
   "source": [
    "x = 2 \n",
    "y = \"miranda\"\n",
    "print(x)\n",
    "print(y)\n",
    "\n",
    "#no se necesita declarar el tipo de variable\n",
    "# a esto se le llama \"casting\"\n",
    "x = str(8)    # x will be '8'\n",
    "y = int(8)    # y will be 8\n",
    "z = float(8)  # z will be 8.0"
   ]
  },
  {
   "cell_type": "code",
   "execution_count": 8,
   "metadata": {},
   "outputs": [
    {
     "name": "stdout",
     "output_type": "stream",
     "text": [
      "<class 'str'>\n",
      "<class 'int'>\n"
     ]
    }
   ],
   "source": [
    "#get the type of a variable\n",
    "\n",
    "#en este caso \"x\" es un string, que es una cadena de texto\n",
    "print(type(x))\n",
    "#en este caso \"y\" es un entero, el valor es un número entero\n",
    "print(type(y))\n"
   ]
  },
  {
   "cell_type": "code",
   "execution_count": 9,
   "metadata": {},
   "outputs": [
    {
     "name": "stdout",
     "output_type": "stream",
     "text": [
      "miranda\n",
      "ana\n"
     ]
    }
   ],
   "source": [
    "x =\"miranda\"\n",
    "# es lo mismo que escribir \n",
    "y = 'ana'\n",
    "print(x)\n",
    "print(y)"
   ]
  },
  {
   "cell_type": "code",
   "execution_count": 20,
   "metadata": {},
   "outputs": [
    {
     "name": "stdout",
     "output_type": "stream",
     "text": [
      "5\n",
      "andrea\n"
     ]
    }
   ],
   "source": [
    "#las variables son case-sensitive, por lo tanto hay que tener cuidado en el código, ya que cada una la identificará \n",
    "#como una variable diferente\n",
    "a = 5\n",
    "A = \"andrea\"\n",
    "print(a)\n",
    "print(A)"
   ]
  },
  {
   "cell_type": "markdown",
   "metadata": {},
   "source": [
    "### Variable Name \n",
    "> #### Reglas para variables \n",
    "> * El nombre de una variable debe de empezar con una letra o un guión bajo (A-z, 0-9 y _)\n",
    "> * No puede empezar con un número \n",
    "> * Debido a las mayúsculas (EDAD,edad,Edad) todas serían consideradas como variables distintas (ya que si reconoce entre mayúsculas y minúsculas)"
   ]
  },
  {
   "cell_type": "code",
   "execution_count": 11,
   "metadata": {},
   "outputs": [],
   "source": [
    "myvar = \"miraanda\"\n",
    "Myvar = \"mirannda\"\n",
    "MYVAR = \"mirandaaa\""
   ]
  },
  {
   "cell_type": "markdown",
   "metadata": {},
   "source": [
    "Si queremos escribir una variable muy larga es recomendable separarla por guíón bajo "
   ]
  },
  {
   "cell_type": "code",
   "execution_count": 12,
   "metadata": {},
   "outputs": [],
   "source": [
    "my_var_name = \"myday\""
   ]
  },
  {
   "cell_type": "markdown",
   "metadata": {},
   "source": [
    "### Varios valores para multiples valores "
   ]
  },
  {
   "cell_type": "code",
   "execution_count": 16,
   "metadata": {},
   "outputs": [
    {
     "name": "stdout",
     "output_type": "stream",
     "text": [
      "red\n",
      "dark gray\n",
      "blue\n"
     ]
    }
   ],
   "source": [
    "x, y, z = \"red\", \"dark gray\", \"blue\"\n",
    "print(x)\n",
    "print(y)    \n",
    "print(z)\n",
    "#se pueden asignar el mismo valor a varias variables en una sola línea, asegurarse que sea el mismo número de variables"
   ]
  },
  {
   "cell_type": "markdown",
   "metadata": {},
   "source": [
    "### Un valor para multiples variables "
   ]
  },
  {
   "cell_type": "code",
   "execution_count": 17,
   "metadata": {},
   "outputs": [
    {
     "name": "stdout",
     "output_type": "stream",
     "text": [
      "taylor\n",
      "taylor\n",
      "taylor\n"
     ]
    }
   ],
   "source": [
    "x = y = z = \"taylor\"\n",
    "print(x)\n",
    "print(y)   \n",
    "print(z)    \n"
   ]
  },
  {
   "cell_type": "markdown",
   "metadata": {},
   "source": [
    "### Unpack a collection"
   ]
  },
  {
   "cell_type": "code",
   "execution_count": 20,
   "metadata": {},
   "outputs": [
    {
     "name": "stdout",
     "output_type": "stream",
     "text": [
      "red\n",
      "fornite\n",
      "clean\n"
     ]
    }
   ],
   "source": [
    "taylor = [\"red\", \"fornite\", \"clean\"]\n",
    "x, y, z = taylor\n",
    "print(x)\n",
    "print(y)\n",
    "print(z)\n",
    "#en el orden que se pongan las variables, se asignarán los valores de la lista"
   ]
  },
  {
   "cell_type": "markdown",
   "metadata": {},
   "source": [
    "### Output variables"
   ]
  },
  {
   "cell_type": "code",
   "execution_count": 23,
   "metadata": {},
   "outputs": [
    {
     "name": "stdout",
     "output_type": "stream",
     "text": [
      "day6\n"
     ]
    }
   ],
   "source": [
    "x = \"day6\"\n",
    "print(x)"
   ]
  },
  {
   "cell_type": "markdown",
   "metadata": {},
   "source": [
    "In the print() function, you output multiple variables, separated by a comma:"
   ]
  },
  {
   "cell_type": "code",
   "execution_count": 26,
   "metadata": {},
   "outputs": [
    {
     "name": "stdout",
     "output_type": "stream",
     "text": [
      "day6 beatles taylor swift\n",
      "day6beatlestaylor swift\n"
     ]
    }
   ],
   "source": [
    "x = \"day6\"\n",
    "y = \"beatles\"\n",
    "z = \"taylor swift\"\n",
    "\n",
    "print(x, y, z)\n",
    "#tambien se puede usar \"+\" para concatenar variables pero no deja espacios entre las variables\n",
    "print (x + y + z)   "
   ]
  },
  {
   "cell_type": "code",
   "execution_count": 29,
   "metadata": {},
   "outputs": [
    {
     "name": "stdout",
     "output_type": "stream",
     "text": [
      "12\n"
     ]
    }
   ],
   "source": [
    "#para los números \"+\" lo entiende como operación matemática\n",
    "x = 10\n",
    "y = 2\n",
    "print(x + y)\n",
    "#no se puede hacer esto si las variables no son del mismo tipo, si se quiere hacer, se necesita hacer uso de la coma "
   ]
  },
  {
   "cell_type": "markdown",
   "metadata": {},
   "source": [
    "## Variables globales "
   ]
  },
  {
   "cell_type": "code",
   "execution_count": null,
   "metadata": {},
   "outputs": [
    {
     "name": "stdout",
     "output_type": "stream",
     "text": [
      "one of the greatest beatles ispaul\n"
     ]
    }
   ],
   "source": [
    "# estas pueden ser usadas dentro o fuera de las funciones \n",
    "\n",
    "x = \"paul\"\n",
    "def  myfunc():\n",
    "    print (\"one of the greatest beatles is\" + x)\n",
    "myfunc()\n",
    "\n",
    "x = \"paul\"\n"
   ]
  },
  {
   "cell_type": "code",
   "execution_count": 35,
   "metadata": {},
   "outputs": [
    {
     "name": "stderr",
     "output_type": "stream",
     "text": [
      "C:\\Users\\UNAM\\AppData\\Local\\Packages\\PythonSoftwareFoundation.Python.3.11_qbz5n2kfra8p0\\LocalCache\\local-packages\\Python311\\site-packages\\cartopy\\io\\__init__.py:241: DownloadWarning: Downloading: https://naturalearth.s3.amazonaws.com/50m_physical/ne_50m_land.zip\n",
      "  warnings.warn(f'Downloading: {url}', DownloadWarning)\n",
      "C:\\Users\\UNAM\\AppData\\Local\\Packages\\PythonSoftwareFoundation.Python.3.11_qbz5n2kfra8p0\\LocalCache\\local-packages\\Python311\\site-packages\\cartopy\\io\\__init__.py:241: DownloadWarning: Downloading: https://naturalearth.s3.amazonaws.com/50m_physical/ne_50m_ocean.zip\n",
      "  warnings.warn(f'Downloading: {url}', DownloadWarning)\n",
      "C:\\Users\\UNAM\\AppData\\Local\\Packages\\PythonSoftwareFoundation.Python.3.11_qbz5n2kfra8p0\\LocalCache\\local-packages\\Python311\\site-packages\\cartopy\\io\\__init__.py:241: DownloadWarning: Downloading: https://naturalearth.s3.amazonaws.com/50m_cultural/ne_50m_admin_0_boundary_lines_land.zip\n",
      "  warnings.warn(f'Downloading: {url}', DownloadWarning)\n",
      "C:\\Users\\UNAM\\AppData\\Local\\Packages\\PythonSoftwareFoundation.Python.3.11_qbz5n2kfra8p0\\LocalCache\\local-packages\\Python311\\site-packages\\cartopy\\io\\__init__.py:241: DownloadWarning: Downloading: https://naturalearth.s3.amazonaws.com/50m_physical/ne_50m_coastline.zip\n",
      "  warnings.warn(f'Downloading: {url}', DownloadWarning)\n"
     ]
    },
    {
     "data": {
      "image/png": "[encoded data removed]",
      "text/plain": [
       "<Figure size 800x600 with 1 Axes>"
      ]
     },
     "metadata": {},
     "output_type": "display_data"
    }
   ],
   "source": [
    "import matplotlib.pyplot as plt\n",
    "import cartopy.crs as ccrs\n",
    "import cartopy.feature as cfeature\n",
    "\n",
    "# Coordenadas de las ciudades\n",
    "ciudades = {\n",
    "    \"Ciudad de México\": (19.43, -99.13),\n",
    "    \"Guadalajara\": (20.67, -103.35),\n",
    "    \"Monterrey\": (25.67, -100.31),\n",
    "    \"Mérida\": (20.97, -89.62),\n",
    "}\n",
    "\n",
    "# Crear el mapa\n",
    "fig, ax = plt.subplots(figsize=(8, 6), subplot_kw={\"projection\": ccrs.PlateCarree()})\n",
    "ax.set_extent([-120, -80, 10, 35])  # Extensión del mapa\n",
    "\n",
    "# Agregar características geográficas\n",
    "ax.add_feature(cfeature.BORDERS, linestyle=\":\")\n",
    "ax.add_feature(cfeature.COASTLINE)\n",
    "ax.add_feature(cfeature.LAND, edgecolor=\"black\")\n",
    "ax.add_feature(cfeature.OCEAN, color=\"lightblue\")\n",
    "\n",
    "# Graficar las ciudades\n",
    "for ciudad, (lat, lon) in ciudades.items():\n",
    "    ax.plot(lon, lat, marker=\"o\", markersize=5, color=\"red\", transform=ccrs.PlateCarree())\n",
    "    ax.text(lon + 0.5, lat, ciudad, fontsize=10, transform=ccrs.PlateCarree())\n",
    "\n",
    "# Mostrar el mapa\n",
    "plt.show()\n"
   ]
  },
  {
   "cell_type": "markdown",
   "metadata": {},
   "source": []
  },
  {
   "cell_type": "code",
   "execution_count": null,
   "metadata": {},
   "outputs": [],
   "source": []
  }
 ],
 "metadata": {
  "kernelspec": {
   "display_name": "Python 3",
   "language": "python",
   "name": "python3"
  },
  "language_info": {
   "codemirror_mode": {
    "name": "ipython",
    "version": 3
   },
   "file_extension": ".py",
   "mimetype": "text/x-python",
   "name": "python",
   "nbconvert_exporter": "python",
   "pygments_lexer": "ipython3",
   "version": "3.11.9"
  }
 },
 "nbformat": 4,
 "nbformat_minor": 2
}
