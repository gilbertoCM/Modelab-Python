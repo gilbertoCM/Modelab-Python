{
 "cells": [
  {
   "cell_type": "markdown",
   "id": "0",
   "metadata": {},
   "source": [
    "# Exploratory Analysis Functions for Environmental Data Clustering"
   ]
  },
  {
   "cell_type": "code",
   "execution_count": null,
   "id": "1",
   "metadata": {},
   "outputs": [],
   "source": [
    "# Import necessary libraries\n",
    "import pandas as pd\n",
    "import numpy as np\n",
    "import matplotlib.pyplot as plt\n",
    "from sklearn.preprocessing import StandardScaler\n",
    "from scipy.cluster.hierarchy import linkage, dendrogram, fcluster\n",
    "from matplotlib import colormaps"
   ]
  },
  {
   "cell_type": "code",
   "execution_count": null,
   "id": "2",
   "metadata": {},
   "outputs": [],
   "source": [
    "# Read in the data from the csv file\n",
    "CO2Data = pd.read_csv(\"../data/Terminos_lagoon_TA_DIC_2023_RawData.csv\")"
   ]
  },
  {
   "cell_type": "markdown",
   "id": "3",
   "metadata": {},
   "source": [
    "## Set functions to be used later"
   ]
  },
  {
   "cell_type": "code",
   "execution_count": null,
   "id": "4",
   "metadata": {},
   "outputs": [],
   "source": [
    "def preprocess_data(df, variables):\n",
    "    \"\"\"\n",
    "    Standardize selected variables and return clean DataFrame.\n",
    "    \"\"\"\n",
    "    df_clean = df.dropna(subset=variables)\n",
    "    scaler = StandardScaler()\n",
    "    X_scaled = scaler.fit_transform(df_clean[variables])\n",
    "    return df_clean, X_scaled"
   ]
  },
  {
   "cell_type": "code",
   "execution_count": null,
   "id": "5",
   "metadata": {},
   "outputs": [],
   "source": [
    "def perform_hierarchical_clustering(X_scaled, method='ward', n_clusters=3):\n",
    "    \"\"\"\n",
    "    Perform hierarchical clustering and return cluster labels.\n",
    "    \"\"\"\n",
    "    linkage_matrix = linkage(X_scaled, method=method)\n",
    "    cluster_labels = fcluster(linkage_matrix, t=n_clusters, criterion='maxclust')\n",
    "    return linkage_matrix, cluster_labels"
   ]
  },
  {
   "cell_type": "code",
   "execution_count": null,
   "id": "6",
   "metadata": {},
   "outputs": [],
   "source": [
    "# Plot dendrogram with viridis colormap\n",
    "def plot_dendrogram(linkage_matrix, labels=None):\n",
    "    \"\"\"\n",
    "    Plot a dendrogram from the hierarchical clustering with sample labels and viridis colormap.\n",
    "    \"\"\"\n",
    "    cmap = colormaps.get_cmap('viridis')\n",
    "    num_colors = len(linkage_matrix) + 1\n",
    "    colors = [cmap(i / num_colors) for i in range(num_colors)]\n",
    "\n",
    "    def link_color_func(k):\n",
    "        return f\"#{int(colors[k % len(colors)][0] * 255):02x}{int(colors[k % len(colors)][1] * 255):02x}{int(colors[k % len(colors)][2] * 255):02x}\"\n",
    "\n",
    "    plt.figure(figsize=(10, 5))\n",
    "    dendrogram(linkage_matrix, labels=labels, link_color_func=link_color_func)\n",
    "    plt.title('Hierarchical Clustering Dendrogram')\n",
    "    plt.xlabel('Sample Labels')\n",
    "    plt.ylabel('Distance')\n",
    "    plt.tight_layout()\n",
    "    plt.show()"
   ]
  },
  {
   "cell_type": "code",
   "execution_count": null,
   "id": "7",
   "metadata": {},
   "outputs": [],
   "source": [
    "# Main workflow\n",
    "\n",
    "# Select variables for clustering\n",
    "selected_vars = ['dic_micromol_kg', 'ta_micromol_kg', 'sal_psu', 'temp_c', 'do_mg_l', 'chlorophy_microg_l','turbidity_fnu']\n",
    "\n",
    "# Preprocess the data\n",
    "df_clean, X_scaled = preprocess_data(CO2Data, selected_vars)\n",
    "\n",
    "# Perform hierarchical clustering\n",
    "linkage_matrix, clusters = perform_hierarchical_clustering(X_scaled, n_clusters=3)\n",
    " \n",
    "# Add cluster labels to the DataFrame\n",
    "df_clean['cluster'] = clusters\n",
    "\n",
    "# Plot dendrogram using sample labels \n",
    "plot_dendrogram(linkage_matrix, labels=df_clean['sample'].values)"
   ]
  },
  {
   "cell_type": "markdown",
   "id": "8",
   "metadata": {},
   "source": [
    "_________________________________"
   ]
  },
  {
   "cell_type": "markdown",
   "id": "9",
   "metadata": {},
   "source": []
  }
 ],
 "metadata": {
  "kernelspec": {
   "display_name": "enviromental_python",
   "language": "python",
   "name": "python3"
  },
  "language_info": {
   "codemirror_mode": {
    "name": "ipython",
    "version": 3
   },
   "file_extension": ".py",
   "mimetype": "text/x-python",
   "name": "python",
   "nbconvert_exporter": "python",
   "pygments_lexer": "ipython3",
   "version": "3.10.16"
  }
 },
 "nbformat": 4,
 "nbformat_minor": 5
}
