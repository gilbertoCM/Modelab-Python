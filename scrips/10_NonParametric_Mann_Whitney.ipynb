{
 "cells": [
  {
   "attachments": {},
   "cell_type": "markdown",
   "metadata": {},
   "source": [
    "#   Inferential statistic Non-parametric: **Mann-Whitney U Test**"
   ]
  },
  {
   "cell_type": "markdown",
   "metadata": {},
   "source": [
    "![Non-parametric](../scrips/figures/flowchart_nonparametric.png)\n",
    "- https://pingouin-stats.org/build/html/index.html\n"
   ]
  },
  {
   "cell_type": "code",
   "execution_count": null,
   "metadata": {},
   "outputs": [],
   "source": [
    "def import_csv(file):\n",
    "    # Read the file into a DataFrame: df\n",
    "    import pandas as pd\n",
    "    return pd.read_csv(file)"
   ]
  },
  {
   "cell_type": "code",
   "execution_count": null,
   "metadata": {},
   "outputs": [],
   "source": [
    "# Path to the file to be imported\n",
    "path = \"../data/Terminos_lagoon_TA_DIC_2023_RawData.csv\"\n",
    "\n",
    "# Import the file\n",
    "co2_data = import_csv(path)"
   ]
  },
  {
   "cell_type": "markdown",
   "metadata": {},
   "source": [
    "## Mann-Whitney U test"
   ]
  },
  {
   "cell_type": "code",
   "execution_count": null,
   "metadata": {},
   "outputs": [],
   "source": [
    "from scipy.stats import mannwhitneyu\n",
    "\n",
    "def mann_whitney_test(data1, data2, alpha=0.05):\n",
    "    \"\"\"\n",
    "    Performs the Mann-Whitney U test and prints U statistic, p-value, and result.\n",
    "    \"\"\"\n",
    "    result = mannwhitneyu(data1, data2, alternative='two-sided')\n",
    "    \n",
    "    print(f\"U statistic = {result.statistic}\")\n",
    "    print(f\"p-value = {result.pvalue}\")\n",
    "\n",
    "    if result.pvalue < alpha:\n",
    "        print(\"The difference is statistically significant.\")\n",
    "    else:\n",
    "        print(\"The difference is not statistically significant.\")"
   ]
  },
  {
   "cell_type": "code",
   "execution_count": null,
   "metadata": {},
   "outputs": [],
   "source": [
    "# Plot the box plot of TA by season\n",
    "import seaborn as sns\n",
    "import matplotlib.pyplot as plt\n",
    "\n",
    "# Create a box plot\n",
    "sns.boxplot(x='season', y='ta_micromol_kg', data=co2_data)\n",
    "#sns.swarmplot(x='season', y='sal_psu', data=co2_data, color=\".25\")\n",
    "\n",
    "# Add labels and title\n",
    "plt.xlabel('Season')\n",
    "plt.ylabel('TA (μmol/kg)')\n",
    "plt.title('Box Plot of TA by Season')\n",
    "\n",
    "# Show the plot\n",
    "plt.show()"
   ]
  },
  {
   "cell_type": "code",
   "execution_count": null,
   "metadata": {},
   "outputs": [],
   "source": [
    "# Filter the TA data by season\n",
    "ta_dry = co2_data.loc[co2_data[\"season\"] == \"Dry\", \"ta_micromol_kg\"]\n",
    "ta_rainy = co2_data.loc[co2_data[\"season\"] == \"Rainy\", \"ta_micromol_kg\"]\n",
    "\n",
    "# Perform the Mann-Whitney U test for TA between dry and rainy seasons\n",
    "mann_whitney_test(ta_dry, ta_rainy)\n"
   ]
  },
  {
   "cell_type": "code",
   "execution_count": null,
   "metadata": {},
   "outputs": [],
   "source": [
    "# Plot the box plot of TA by season\n",
    "import seaborn as sns\n",
    "import matplotlib.pyplot as plt\n",
    "\n",
    "# Create a box plot\n",
    "sns.boxplot(x='season', y='ta_micromol_kg', data=co2_data)\n",
    "#sns.swarmplot(x='season', y='sal_psu', data=co2_data, color=\".25\")\n",
    "\n",
    "# Add labels and title\n",
    "plt.xlabel('Season')\n",
    "plt.ylabel('TA (μmol/kg)')\n",
    "plt.title('Box Plot of Salinity by Season')\n",
    "\n",
    "# Show the plot\n",
    "plt.show()"
   ]
  },
  {
   "cell_type": "code",
   "execution_count": null,
   "metadata": {},
   "outputs": [],
   "source": [
    "# Plot the box plot of salinity by season\n",
    "import seaborn as sns\n",
    "import matplotlib.pyplot as plt\n",
    "\n",
    "# Create a box plot\n",
    "sns.boxplot(x='season', y='sal_psu', data=co2_data)\n",
    "sns.swarmplot(x='season', y='sal_psu', data=co2_data, color=\".25\")\n",
    "\n",
    "# Add labels and title\n",
    "plt.xlabel('Season')\n",
    "plt.ylabel('Salinity (PSU)')\n",
    "plt.title('Box Plot of Salinity by Season')\n",
    "\n",
    "# Show the plot\n",
    "plt.show()"
   ]
  },
  {
   "cell_type": "code",
   "execution_count": null,
   "metadata": {},
   "outputs": [],
   "source": [
    "# Filter the salinity data by season\n",
    "sal_dry = co2_data.loc[co2_data[\"season\"] == \"Dry\", \"sal_psu\"]\n",
    "sal_rainy = co2_data.loc[co2_data[\"season\"] == \"Rainy\", \"sal_psu\"]\n",
    "\n",
    "# Perform the Mann-Whitney U test for salinity between dry and rainy seasons\n",
    "mann_whitney_test(sal_dry, sal_rainy)"
   ]
  },
  {
   "cell_type": "code",
   "execution_count": null,
   "metadata": {},
   "outputs": [],
   "source": [
    "import seaborn as sns\n",
    "import matplotlib.pyplot as plt\n",
    "\n",
    "\n",
    "# Create a box plot\n",
    "sns.violinplot(x='season', y='sal_psu', data=co2_data)\n",
    "\n",
    "plt.title('Salinity Distribution by Season')\n",
    "plt.xlabel('Season')\n",
    "plt.ylabel('Salinity (PSU)')\n",
    "plt.show()"
   ]
  },
  {
   "cell_type": "markdown",
   "metadata": {},
   "source": [
    "### Exercise: \"Evaluate the Mann-Whitney U test for DIC and temperatura. Create boxplots and violin plots for these analyses.\""
   ]
  },
  {
   "attachments": {},
   "cell_type": "markdown",
   "metadata": {},
   "source": [
    "Vallat, R. (2018). Pingouin: statistics in Python. Journal of Open Source Software, 3(31), 1026\n",
    "- https://pingouin-stats.org/build/html/index.html\n",
    "- https://doi.org/10.21105/joss.01026"
   ]
  }
 ],
 "metadata": {
  "kernelspec": {
   "display_name": "base",
   "language": "python",
   "name": "python3"
  },
  "language_info": {
   "codemirror_mode": {
    "name": "ipython",
    "version": 3
   },
   "file_extension": ".py",
   "mimetype": "text/x-python",
   "name": "python",
   "nbconvert_exporter": "python",
   "pygments_lexer": "ipython3",
   "version": "3.12.3"
  }
 },
 "nbformat": 4,
 "nbformat_minor": 4
}
