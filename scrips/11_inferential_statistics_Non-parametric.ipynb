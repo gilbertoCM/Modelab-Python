{
 "cells": [
  {
   "attachments": {},
   "cell_type": "markdown",
   "metadata": {},
   "source": [
    "#   Inferential statistic Non-parametric"
   ]
  },
  {
   "cell_type": "markdown",
   "metadata": {},
   "source": [
    "![Non-parametric](../scrips/figures/flowchart_nonparametric.png)"
   ]
  },
  {
   "cell_type": "code",
   "execution_count": null,
   "metadata": {},
   "outputs": [],
   "source": [
    "def import_csv(file):\n",
    "    # Read the file into a DataFrame: df\n",
    "    import pandas as pd\n",
    "    return pd.read_csv(file)"
   ]
  },
  {
   "cell_type": "code",
   "execution_count": null,
   "metadata": {},
   "outputs": [],
   "source": [
    "# Path to the file to be imported\n",
    "path = \"../data/Terminos_lagoon_TA_DIC__2023_RawData.csv\"\n",
    "\n",
    "# Import the file\n",
    "co2_data = import_csv(path)"
   ]
  },
  {
   "cell_type": "markdown",
   "metadata": {},
   "source": [
    "## Mann-Whitney U test"
   ]
  },
  {
   "cell_type": "code",
   "execution_count": null,
   "metadata": {},
   "outputs": [],
   "source": [
    "from scipy.stats import mannwhitneyu\n",
    "\n",
    "def mann_whitney_test(data1, data2, alpha=0.05):\n",
    "    \"\"\"\n",
    "    Performs the Mann-Whitney U test and prints U statistic, p-value, and result.\n",
    "    \"\"\"\n",
    "    result = mannwhitneyu(data1, data2, alternative='two-sided')\n",
    "    \n",
    "    print(f\"U statistic = {result.statistic}\")\n",
    "    print(f\"p-value = {result.pvalue}\")\n",
    "\n",
    "    if result.pvalue < alpha:\n",
    "        print(\"The difference is statistically significant.\")\n",
    "    else:\n",
    "        print(\"The difference is not statistically significant.\")"
   ]
  },
  {
   "cell_type": "code",
   "execution_count": null,
   "metadata": {},
   "outputs": [],
   "source": [
    "salinity = co2_data[\"sal_psu\"]\n",
    "dic = co2_data[\"dic_micromol_kg\"]"
   ]
  },
  {
   "cell_type": "code",
   "execution_count": null,
   "metadata": {},
   "outputs": [],
   "source": [
    "mann_whitney_test(salinity, dic)"
   ]
  },
  {
   "attachments": {},
   "cell_type": "markdown",
   "metadata": {},
   "source": [
    "Vallat, R. (2018). Pingouin: statistics in Python. Journal of Open Source Software, 3(31), 1026\n",
    "- https://pingouin-stats.org/build/html/index.html\n",
    "- https://doi.org/10.21105/joss.01026"
   ]
  }
 ],
 "metadata": {
  "kernelspec": {
   "display_name": "base",
   "language": "python",
   "name": "python3"
  },
  "language_info": {
   "codemirror_mode": {
    "name": "ipython",
    "version": 3
   },
   "file_extension": ".py",
   "mimetype": "text/x-python",
   "name": "python",
   "nbconvert_exporter": "python",
   "pygments_lexer": "ipython3",
   "version": "3.12.3"
  }
 },
 "nbformat": 4,
 "nbformat_minor": 4
}
