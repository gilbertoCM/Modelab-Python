{
 "cells": [
  {
   "cell_type": "markdown",
   "metadata": {},
   "source": [
    "#   Normality test"
   ]
  },
  {
   "cell_type": "code",
   "execution_count": null,
   "metadata": {},
   "outputs": [],
   "source": [
    "# Read the file into a DataFrame: df\n",
    "def import_csv(file):\n",
    "    # Read the file into a DataFrame: df\n",
    "    import pandas as pd\n",
    "    return pd.read_csv(file)"
   ]
  },
  {
   "cell_type": "code",
   "execution_count": null,
   "metadata": {},
   "outputs": [],
   "source": [
    "# Path to the file to be imported\n",
    "path = \"../data/Terminos_lagoon_TA_DIC_2023_RawData.csv\"\n",
    "\n",
    "# Import the file\n",
    "CO2Data = import_csv(path)\n",
    "\n",
    "print(CO2Data.head())"
   ]
  },
  {
   "cell_type": "markdown",
   "metadata": {},
   "source": [
    "### Shapiro-Wilk Test\n",
    "- If the p-value of the test is greater than α = 0.05, then the data is assumed to be normally distributed."
   ]
  },
  {
   "cell_type": "code",
   "execution_count": null,
   "metadata": {},
   "outputs": [],
   "source": [
    "from scipy.stats import shapiro\n",
    "\n",
    "ta = CO2Data['ta_micromol_kg']\n",
    "\n",
    "stat, p = shapiro(ta)\n",
    "print(f'Estadístico= {stat:.5f}, p-valor= {p:.5f}')\n",
    "if p > 0.05:\n",
    "    print(\"La distribución es normal (no se rechaza H0)\")\n",
    "else:\n",
    "    print(\"La distribución NO es normal (se rechaza H0)\")"
   ]
  },
  {
   "cell_type": "markdown",
   "metadata": {},
   "source": [
    "________________________________________________________________"
   ]
  },
  {
   "cell_type": "code",
   "execution_count": null,
   "metadata": {},
   "outputs": [],
   "source": [
    "from scipy.stats import shapiro \n",
    "\n",
    "#perform Shapiro-Wilk test for normality\n",
    "\n",
    "TA = CO2Data['ta_micromol_kg']\n",
    "\n",
    "shapiro_results = shapiro(TA)\n",
    "\n",
    "\n",
    "print(f'Statistic= {stat:.5f}, p-value= {p:.5f}')\n",
    "\n",
    "if shapiro_results.pvalue < 0.05:\n",
    "    print(\"The data is not normally distributed (reject H₀).\")\n",
    "\n",
    "else:\n",
    "    print(\"The data is normally distributed (fail to reject H₀).\")\n",
    "\n",
    "    "
   ]
  },
  {
   "cell_type": "code",
   "execution_count": null,
   "metadata": {},
   "outputs": [],
   "source": [
    "print(shapiro_results)"
   ]
  },
  {
   "cell_type": "markdown",
   "metadata": {},
   "source": [
    "## Exercise:\n",
    "- Respond to the following question: When is it appropriate to use the Kolmogorov-Smirnov test instead of the Shapiro-Wilk test?\n",
    "- Based on the previous answer, perform the appropriate test to assess normality in the DIC (Dissolved Inorganic Carbon) and Salinity datasets."
   ]
  },
  {
   "cell_type": "markdown",
   "metadata": {},
   "source": []
  }
 ],
 "metadata": {
  "kernelspec": {
   "display_name": "base",
   "language": "python",
   "name": "python3"
  },
  "language_info": {
   "codemirror_mode": {
    "name": "ipython",
    "version": 3
   },
   "file_extension": ".py",
   "mimetype": "text/x-python",
   "name": "python",
   "nbconvert_exporter": "python",
   "pygments_lexer": "ipython3",
   "version": "3.12.3"
  }
 },
 "nbformat": 4,
 "nbformat_minor": 4
}
