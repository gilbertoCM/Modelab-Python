{
 "cells": [
  {
   "cell_type": "markdown",
   "metadata": {},
   "source": [
    "#  Seaborn: statistical data visualization"
   ]
  },
  {
   "cell_type": "code",
   "execution_count": null,
   "metadata": {},
   "outputs": [],
   "source": [
    "import pandas as pd\n",
    "# Import the air quality dataset \n",
    "\n",
    "CO2Data = pd.read_csv(\"MartinezTrejo_etal_2023_TA_DIC_RawData.csv\")\n",
    "\n",
    "print(CO2Data.info())"
   ]
  },
  {
   "cell_type": "markdown",
   "metadata": {},
   "source": [
    "- load libs and set figure"
   ]
  },
  {
   "cell_type": "code",
   "execution_count": null,
   "metadata": {},
   "outputs": [],
   "source": [
    "import seaborn as sns\n",
    "import matplotlib.pyplot as plt \n",
    "\n",
    "#create your own color array (viridis)\n",
    "my_colors = [\"#5ec962\", \"#3b528b\"]\n",
    "\n",
    "# add color array to set_palette\n",
    "sns.set(font_scale=2, style=\"ticks\", palette= my_colors)"
   ]
  },
  {
   "cell_type": "markdown",
   "metadata": {},
   "source": [
    "- plot boxplot with Catplot in Seaborn"
   ]
  },
  {
   "cell_type": "code",
   "execution_count": null,
   "metadata": {},
   "outputs": [],
   "source": [
    "ax = sns.catplot(data=CO2Data,\n",
    "                 x=\"Area\", y=\"TA_micromol_kg\",\n",
    "                hue=\"Season\", col=\"Estuary\",\n",
    "                kind=\"box\", \n",
    "                height=7, aspect=1)\n",
    "\n",
    "  \n",
    "ax.set(xlabel='', ylabel=' TA ($\\mu mol \\; kg^{-1}$)')\n",
    "\n",
    "ax.set_titles(col_template=\"{col_name}\", row_template=\"{row_name}\")\n",
    "\n",
    "plt.setp(ax._legend.get_title(), fontsize=20)\n",
    "\n",
    "sns.despine(top=False,right=False)\n",
    "\n",
    "plt.show()"
   ]
  },
  {
   "cell_type": "markdown",
   "metadata": {},
   "source": [
    "- plot a violin with Catplot in Seaborn"
   ]
  },
  {
   "cell_type": "code",
   "execution_count": null,
   "metadata": {},
   "outputs": [],
   "source": [
    "ax = sns.catplot(data=CO2Data, \n",
    "                x=\"Area\", y=\"TA_micromol_kg\",\n",
    "                hue=\"Season\", col=\"Estuary\", \n",
    "                kind=\"violin\", \n",
    "                height=7, aspect=1)\n",
    "\n",
    "  \n",
    "ax.set(xlabel='', ylabel=' TA ($\\mu mol \\; kg^{-1}$)')\n",
    "\n",
    "ax.set_titles(col_template=\"{col_name}\", row_template=\"{row_name}\")\n",
    "\n",
    "plt.setp(ax._legend.get_title(), fontsize=20)\n",
    "\n",
    "sns.despine(top=False,right=False)\n",
    "\n",
    "plt.show()"
   ]
  },
  {
   "cell_type": "markdown",
   "metadata": {},
   "source": [
    "- Plotting a three-way ANOVA"
   ]
  },
  {
   "cell_type": "code",
   "execution_count": null,
   "metadata": {},
   "outputs": [],
   "source": [
    "\n",
    "# Draw a pointplot to show pulse as a function of three categorical factors\n",
    "ax = sns.catplot(\n",
    "    data=CO2Data, x=\"Season\", \n",
    "    y=\"TA_micromol_kg\", hue=\"Estuary\", col=\"Area\",\n",
    "    capsize=.2, palette=\"YlGnBu_d\", errorbar=\"se\",\n",
    "    kind=\"point\", height=6, aspect=.75,\n",
    ")\n",
    "ax.despine(left=True)\n",
    "\n",
    "ax.set(xlabel='', ylabel=' TA ($\\mu mol \\; kg^{-1}$)')\n",
    "\n",
    "ax.set_titles(col_template=\"{col_name}\", row_template=\"{row_name}\")\n",
    "\n",
    "plt.setp(ax._legend.get_title(), fontsize=20)\n",
    "\n",
    "sns.despine(top=False,right=False)\n",
    "\n",
    "plt.show()\n"
   ]
  },
  {
   "cell_type": "markdown",
   "metadata": {},
   "source": [
    "- Scatterplots DIC vs Salinity by Estuary "
   ]
  },
  {
   "cell_type": "code",
   "execution_count": null,
   "metadata": {},
   "outputs": [],
   "source": [
    "ax = sns.lmplot(x=\"Sal_psu\", y=\"TA_micromol_kg\",\n",
    "                hue=\"Season\",col=\"Estuary\",\n",
    "                data=CO2Data, \n",
    "                height=7, aspect=1)\n",
    "\n",
    "ax.set(xlabel='Salinity (PSU)', ylabel=' DIC ($\\mu mol \\; kg^{-1}$)')\n",
    "\n",
    "ax.set_titles(col_template=\"{col_name}\", row_template=\"{row_name}\")\n",
    "\n",
    "plt.setp(ax._legend.get_title(), fontsize=20)\n",
    "\n",
    "sns.despine(top=False,right=False)\n",
    "\n",
    "plt.show()"
   ]
  },
  {
   "cell_type": "code",
   "execution_count": null,
   "metadata": {},
   "outputs": [],
   "source": []
  },
  {
   "cell_type": "code",
   "execution_count": null,
   "metadata": {},
   "outputs": [],
   "source": []
  }
 ],
 "metadata": {
  "kernelspec": {
   "display_name": "Python 3 (ipykernel)",
   "language": "python",
   "name": "python3"
  },
  "language_info": {
   "codemirror_mode": {
    "name": "ipython",
    "version": 3
   },
   "file_extension": ".py",
   "mimetype": "text/x-python",
   "name": "python",
   "nbconvert_exporter": "python",
   "pygments_lexer": "ipython3",
   "version": "3.10.9"
  }
 },
 "nbformat": 4,
 "nbformat_minor": 4
}
