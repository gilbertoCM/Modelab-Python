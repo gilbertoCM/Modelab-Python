{
 "cells": [
  {
   "attachments": {},
   "cell_type": "markdown",
   "metadata": {},
   "source": [
    "- Import library and read data with pandas "
   ]
  },
  {
   "cell_type": "code",
   "execution_count": 1,
   "metadata": {},
   "outputs": [],
   "source": [
    "import pandas as pd\n",
    "CO2Data = pd.read_csv(\"MartinezTrejo_etal_2023_TA_DIC_RawData.csv\")"
   ]
  },
  {
   "attachments": {},
   "cell_type": "markdown",
   "metadata": {},
   "source": [
    "- Scatter plot  with linear regretion"
   ]
  },
  {
   "cell_type": "code",
   "execution_count": 5,
   "metadata": {},
   "outputs": [
    {
     "data": {
      "image/png": "[encoded data removed]",
      "text/plain": [
       "<Figure size 600x400 with 1 Axes>"
      ]
     },
     "metadata": {},
     "output_type": "display_data"
    }
   ],
   "source": [
    "import matplotlib.pyplot as plt\n",
    "from scipy import stats\n",
    "\n",
    "x = CO2Data['TA_micromol_kg']\n",
    "y = CO2Data['DIC_micromol_kg']\n",
    "\n",
    "plt.scatter(x, y, label='original data')\n",
    "\n",
    "# Add labels and title\n",
    "plt.xlabel('TA ($\\mu mol  \\; kg^{-1}$)', fontsize = 12, )\n",
    "plt.ylabel('DIC ($\\mu mol  \\; kg^{-1}$)', fontsize = 12)\n",
    "\n",
    "# Calculate the linear regression line\n",
    "slope, intercept, r_value, p_value, std_err = stats.linregress(x, y)\n",
    "\n",
    "# Plot linear regression \n",
    "\n",
    "plt.plot(x, intercept + slope*x, 'r', label='fitted line')\n",
    "\n",
    "# set the figure size\n",
    "plt.gcf().set_size_inches(6, 4)\n",
    "\n",
    "# save the plot as a PDF file paper format \n",
    "\n",
    "plt.savefig('DIC_TA_pH.pdf', dpi=300, bbox_inches='tight')\n",
    "\n",
    "plt.show()"
   ]
  },
  {
   "cell_type": "code",
   "execution_count": 3,
   "metadata": {},
   "outputs": [
    {
     "name": "stdout",
     "output_type": "stream",
     "text": [
      "r-squared: 0.7784247010713174\n",
      "p_value: 8.179416835110045e-36\n"
     ]
    }
   ],
   "source": [
    "print(\"r-squared:\", r_value**2)\n",
    "print(\"p_value:\", p_value)"
   ]
  },
  {
   "attachments": {},
   "cell_type": "markdown",
   "metadata": {},
   "source": [
    "- Perform  least squares (OLS) regression"
   ]
  },
  {
   "cell_type": "code",
   "execution_count": 4,
   "metadata": {},
   "outputs": [
    {
     "name": "stdout",
     "output_type": "stream",
     "text": [
      "                            OLS Regression Results                            \n",
      "==============================================================================\n",
      "Dep. Variable:        DIC_micromol_kg   R-squared:                       0.778\n",
      "Model:                            OLS   Adj. R-squared:                  0.776\n",
      "Method:                 Least Squares   F-statistic:                     365.4\n",
      "Date:                Tue, 06 Jun 2023   Prob (F-statistic):           8.18e-36\n",
      "Time:                        17:22:53   Log-Likelihood:                -728.75\n",
      "No. Observations:                 106   AIC:                             1462.\n",
      "Df Residuals:                     104   BIC:                             1467.\n",
      "Df Model:                           1                                         \n",
      "Covariance Type:            nonrobust                                         \n",
      "==================================================================================\n",
      "                     coef    std err          t      P>|t|      [0.025      0.975]\n",
      "----------------------------------------------------------------------------------\n",
      "const             80.3061    144.021      0.558      0.578    -205.292     365.905\n",
      "TA_micromol_kg     0.9330      0.049     19.115      0.000       0.836       1.030\n",
      "==============================================================================\n",
      "Omnibus:                       62.113   Durbin-Watson:                   1.542\n",
      "Prob(Omnibus):                  0.000   Jarque-Bera (JB):              263.618\n",
      "Skew:                          -2.001   Prob(JB):                     5.70e-58\n",
      "Kurtosis:                       9.608   Cond. No.                     1.85e+04\n",
      "==============================================================================\n",
      "\n",
      "Notes:\n",
      "[1] Standard Errors assume that the covariance matrix of the errors is correctly specified.\n",
      "[2] The condition number is large, 1.85e+04. This might indicate that there are\n",
      "strong multicollinearity or other numerical problems.\n"
     ]
    }
   ],
   "source": [
    "import statsmodels.api as sm\n",
    "\n",
    "#define predictor and response variables\n",
    "x = CO2Data['TA_micromol_kg']\n",
    "y = CO2Data['DIC_micromol_kg']\n",
    "\n",
    "#add constant to predictor variables\n",
    "x = sm.add_constant(x)\n",
    "\n",
    "#fit linear regression model\n",
    "model = sm.OLS(y, x).fit()\n",
    "\n",
    "#view model summary\n",
    "print(model.summary())\n",
    "\n",
    "# export model summary to text file\n",
    "with open('model_summary.txt', 'w') as file:\n",
    "    file.write(model.summary().as_text())"
   ]
  },
  {
   "cell_type": "code",
   "execution_count": null,
   "metadata": {},
   "outputs": [],
   "source": []
  }
 ],
 "metadata": {
  "kernelspec": {
   "display_name": "Python 3 (ipykernel)",
   "language": "python",
   "name": "python3"
  },
  "language_info": {
   "codemirror_mode": {
    "name": "ipython",
    "version": 3
   },
   "file_extension": ".py",
   "mimetype": "text/x-python",
   "name": "python",
   "nbconvert_exporter": "python",
   "pygments_lexer": "ipython3",
   "version": "3.10.9"
  }
 },
 "nbformat": 4,
 "nbformat_minor": 4
}
