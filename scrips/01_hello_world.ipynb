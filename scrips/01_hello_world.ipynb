{
 "cells": [
  {
   "cell_type": "markdown",
   "metadata": {},
   "source": [
    "# Markdown \n",
    "\n",
    "Markdown is a lightweight markup language that you can use to add formatting elements to plaintext text documents.\n",
    "\n",
    "## Headers\n",
    "\n",
    "You can create a header by using the `#` symbol. The number of `#` you use will determine the size of the header.\n",
    "\n"
   ]
  },
  {
   "cell_type": "markdown",
   "metadata": {},
   "source": [
    "```markdown\n",
    "# Header 1\n",
    "## Header 2\n",
    "### Header 3\n",
    "\n",
    "*This text will be italic*\n",
    "**This text will be bold**"
   ]
  },
  {
   "cell_type": "markdown",
   "metadata": {},
   "source": [
    "*This text will be italic*\n",
    "**This text will be bold**"
   ]
  },
  {
   "cell_type": "markdown",
   "metadata": {},
   "source": [
    "* Item 1\n",
    "* Item 2\n",
    "\n",
    "1. Item 1\n",
    "2. Item 2"
   ]
  },
  {
   "cell_type": "markdown",
   "metadata": {},
   "source": [
    "# ______________________________________"
   ]
  },
  {
   "cell_type": "markdown",
   "metadata": {},
   "source": [
    "# Python \"Hello , World!\" Tutorial\n",
    "\n",
    "Python is a powerful, easy-to-learn programming language. One of the simplest programs you can write in Python is the \"Hello, World!\" program. This program will print the text \"Hello, World!\" to the console.\n",
    "\n",
    "## Writing the Program\n",
    "\n",
    "Here are the steps to write a \"Hello, World!\" program in Python:\n",
    "\n",
    "1. Open your text editor or Python IDE (Integrated Development Environment).\n",
    "2. Write the following code:\n"
   ]
  },
  {
   "cell_type": "code",
   "execution_count": null,
   "metadata": {},
   "outputs": [],
   "source": [
    "print(\"hello world\")"
   ]
  },
  {
   "cell_type": "code",
   "execution_count": 1,
   "metadata": {},
   "outputs": [
    {
     "name": "stdout",
     "output_type": "stream",
     "text": [
      "hello world\n"
     ]
    }
   ],
   "source": [
    "greetings = \"hello world\"\n",
    "\n",
    "print(greetings)"
   ]
  },
  {
   "cell_type": "code",
   "execution_count": null,
   "metadata": {},
   "outputs": [],
   "source": []
  }
 ],
 "metadata": {
  "kernelspec": {
   "display_name": "base",
   "language": "python",
   "name": "python3"
  },
  "language_info": {
   "codemirror_mode": {
    "name": "ipython",
    "version": 3
   },
   "file_extension": ".py",
   "mimetype": "text/x-python",
   "name": "python",
   "nbconvert_exporter": "python",
   "pygments_lexer": "ipython3",
   "version": "3.9.13"
  }
 },
 "nbformat": 4,
 "nbformat_minor": 2
}
