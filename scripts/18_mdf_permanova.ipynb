{
 "cells": [
  {
   "cell_type": "markdown",
   "id": "0",
   "metadata": {},
   "source": [
    "# Exploratory Analysis Functions for Environmental Data Clustering, MDS and PERMANOVA"
   ]
  },
  {
   "cell_type": "code",
   "execution_count": null,
   "id": "1",
   "metadata": {},
   "outputs": [],
   "source": [
    "# Read in the data from the csv file\n",
    "import pandas as pd\n",
    "CO2Data = pd.read_csv(\"../data/Terminos_lagoon_TA_DIC_2023_RawData.csv\")"
   ]
  },
  {
   "cell_type": "code",
   "execution_count": null,
   "id": "2",
   "metadata": {},
   "outputs": [],
   "source": [
    "# Import necessary libraries\n",
    "import pandas as pd\n",
    "import numpy as np\n",
    "import matplotlib.pyplot as plt\n",
    "import seaborn as sns\n",
    "from sklearn.preprocessing import StandardScaler\n",
    "from sklearn.metrics import pairwise_distances\n",
    "from sklearn.manifold import MDS\n",
    "from scipy.cluster.hierarchy import linkage, fcluster, dendrogram\n",
    "\n",
    "# Optional: run PERMANOVA if scikit-bio is available\n",
    "try:\n",
    "    from skbio.stats.distance import DistanceMatrix, permanova\n",
    "    SKBIO_AVAILABLE = True\n",
    "except ImportError:\n",
    "    SKBIO_AVAILABLE = False\n"
   ]
  },
  {
   "cell_type": "markdown",
   "id": "3",
   "metadata": {},
   "source": [
    "## Set functions to be used later"
   ]
  },
  {
   "cell_type": "code",
   "execution_count": null,
   "id": "4",
   "metadata": {},
   "outputs": [],
   "source": [
    "def preprocess_data(df, variables):\n",
    "    \"\"\"\n",
    "    Standardize selected variables and return clean DataFrame.\n",
    "    \"\"\"\n",
    "    df_clean = df.dropna(subset=variables)\n",
    "    scaler = StandardScaler()\n",
    "    X_scaled = scaler.fit_transform(df_clean[variables])\n",
    "    return df_clean, X_scaled"
   ]
  },
  {
   "cell_type": "code",
   "execution_count": null,
   "id": "5",
   "metadata": {},
   "outputs": [],
   "source": [
    "def perform_hierarchical_clustering(X_scaled, method='ward', n_clusters=3):\n",
    "    \"\"\"\n",
    "    Perform hierarchical clustering and return cluster labels.\n",
    "    \"\"\"\n",
    "    linkage_matrix = linkage(X_scaled, method=method)\n",
    "    cluster_labels = fcluster(linkage_matrix, t=n_clusters, criterion='maxclust')\n",
    "    return linkage_matrix, cluster_labels"
   ]
  },
  {
   "cell_type": "code",
   "execution_count": null,
   "id": "6",
   "metadata": {},
   "outputs": [],
   "source": [
    "def plot_dendrogram(linkage_matrix, labels=None):\n",
    "    \"\"\"\n",
    "    Plot a dendrogram from the hierarchical clustering with sample labels.\n",
    "    \"\"\"\n",
    "    plt.figure(figsize=(10, 5))\n",
    "    dendrogram(linkage_matrix, labels=labels)\n",
    "    plt.title('Hierarchical Clustering Dendrogram')\n",
    "    plt.xlabel('Sample Labels')\n",
    "    plt.ylabel('Distance')\n",
    "    plt.tight_layout()\n",
    "    plt.show()"
   ]
  },
  {
   "cell_type": "code",
   "execution_count": null,
   "id": "7",
   "metadata": {},
   "outputs": [],
   "source": [
    "def compute_mds(X_scaled, metadata_df, n_components=2):\n",
    "    \"\"\"\n",
    "    Compute MDS coordinates from a distance matrix.\n",
    "    \"\"\"\n",
    "    dist_matrix = pairwise_distances(X_scaled, metric='euclidean')\n",
    "    mds = MDS(n_components=n_components, dissimilarity='precomputed', random_state=42)\n",
    "    coords = mds.fit_transform(dist_matrix)\n",
    "    columns = [f\"MDS{i+1}\" for i in range(n_components)]\n",
    "    mds_df = pd.DataFrame(coords, columns=columns)\n",
    "    mds_df = pd.concat([mds_df, metadata_df.reset_index(drop=True)], axis=1)\n",
    "    return dist_matrix, mds_df\n"
   ]
  },
  {
   "cell_type": "code",
   "execution_count": null,
   "id": "8",
   "metadata": {},
   "outputs": [],
   "source": [
    "def plot_mds_with_clusters(mds_df, label_column='sample'):\n",
    "    \"\"\"\n",
    "    Plot MDS colored by clusters and annotated by sample names.\n",
    "    \"\"\"\n",
    "    plt.figure(figsize=(10, 8))\n",
    "    sns.scatterplot(data=mds_df, x='MDS1', y='MDS2', hue='cluster', style='season', s=100, palette='Set1')\n",
    "    for i, row in mds_df.iterrows():\n",
    "        plt.text(row['MDS1'], row['MDS2'], row[label_column], fontsize=7, alpha=0.6)\n",
    "    plt.title('MDS with Cluster and Sample Labels')\n",
    "    plt.xlabel('MDS1')\n",
    "    plt.ylabel('MDS2')\n",
    "    plt.legend(title='Cluster / Season')\n",
    "    plt.tight_layout()\n",
    "    plt.show()\n"
   ]
  },
  {
   "cell_type": "code",
   "execution_count": null,
   "id": "9",
   "metadata": {},
   "outputs": [],
   "source": [
    "def plot_mds_3d(mds_df, label_column='sample'):\n",
    "    \"\"\"\n",
    "    Plot 3D MDS with sample annotations.\n",
    "    \"\"\"\n",
    "    fig = plt.figure(figsize=(10, 8))\n",
    "    ax = fig.add_subplot(111, projection='3d')\n",
    "    scatter = ax.scatter(mds_df['MDS1'], mds_df['MDS2'], mds_df['MDS3'],\n",
    "                         c=mds_df['cluster'].astype(int), cmap='Set1', s=70)\n",
    "    for i, row in mds_df.iterrows():\n",
    "        ax.text(row['MDS1'], row['MDS2'], row['MDS3'], row[label_column], size=6)\n",
    "    ax.set_xlabel('MDS1')\n",
    "    ax.set_ylabel('MDS2')\n",
    "    ax.set_zlabel('MDS3')\n",
    "    plt.title('3D MDS with Clusters and Sample Labels')\n",
    "    plt.tight_layout()\n",
    "    plt.show()"
   ]
  },
  {
   "cell_type": "code",
   "execution_count": null,
   "id": "10",
   "metadata": {},
   "outputs": [],
   "source": [
    "import numpy as np\n",
    "from skbio.stats.distance import permanova\n",
    "from skbio import DistanceMatrix\n",
    "\n",
    "def run_permanova(dist_matrix, metadata_df, group_column, permutations=999):\n",
    "    \"\"\"\n",
    "    Performs PERMANOVA analysis on a distance matrix and a metadata DataFrame.\n",
    "    \n",
    "    Parameters:\n",
    "    - dist_matrix: Distance matrix (must be symmetric and contain no NaNs).\n",
    "    - metadata_df: DataFrame containing the metadata, which must include a group column.\n",
    "    - group_column: Name of the column in metadata_df containing the group information.\n",
    "    - permutations: Number of permutations for the test (default is 999).\n",
    "    \n",
    "    Returns:\n",
    "    - PERMANOVA results.\n",
    "    \"\"\"\n",
    "    # Check if the distance matrix contains NaNs\n",
    "    if np.any(np.isnan(dist_matrix)):\n",
    "        print(\"The distance matrix contains NaN values. Replacing with the mean value.\")\n",
    "        mean_value = np.nanmean(dist_matrix)\n",
    "        dist_matrix[np.isnan(dist_matrix)] = mean_value\n",
    "\n",
    "    # Ensure the distance matrix is symmetric\n",
    "    if not np.allclose(dist_matrix, dist_matrix.T):\n",
    "        print(\"The distance matrix is not symmetric. Making it symmetric by averaging with the transpose.\")\n",
    "        dist_matrix = (dist_matrix + dist_matrix.T) / 2\n",
    "    \n",
    "    # Create the DistanceMatrix object for skbio\n",
    "    dist_matrix_obj = DistanceMatrix(dist_matrix)\n",
    "    \n",
    "    # Ensure the group column exists in the metadata DataFrame\n",
    "    if group_column not in metadata_df.columns:\n",
    "        raise ValueError(f\"The column {group_column} does not exist in the metadata DataFrame.\")\n",
    "    \n",
    "    # Perform the PERMANOVA\n",
    "    result = permanova(dist_matrix_obj, metadata_df[group_column], permutations=permutations)\n",
    "    \n",
    "    return result\n",
    "\n"
   ]
  },
  {
   "cell_type": "code",
   "execution_count": null,
   "id": "11",
   "metadata": {},
   "outputs": [],
   "source": [
    "# Preprocess the data and perform hierarchical clustering\n",
    "# Select variables for clustering\n",
    "selected_vars = ['dic_micromol_kg', 'ta_micromol_kg', 'sal_psu', 'temp_c', 'do_mg_l', 'chlorophy_microg_l','turbidity_fnu']\n",
    "\n",
    "# Preprocess the data\n",
    "df_clean, X_scaled = preprocess_data(CO2Data, selected_vars)\n",
    "\n",
    "# Perform hierarchical clustering\n",
    "linkage_matrix, clusters = perform_hierarchical_clustering(X_scaled, n_clusters=3)\n",
    "\n",
    "# Add cluster labels to the DataFrame\n",
    "df_clean['cluster'] = clusters\n",
    "\n",
    "# Plot dendrogram\n",
    "plot_dendrogram(linkage_matrix, labels=df_clean['sample'].values)"
   ]
  },
  {
   "cell_type": "markdown",
   "id": "12",
   "metadata": {},
   "source": [
    "## Compute MDS coordinates"
   ]
  },
  {
   "cell_type": "code",
   "execution_count": null,
   "id": "13",
   "metadata": {},
   "outputs": [],
   "source": [
    "# compute MDS of the scaled data and plot it\n",
    "dist_matrix, mds_df = compute_mds(X_scaled, df_clean[['season', 'estuary', 'sample', 'cluster']])\n",
    "\n",
    "plot_mds_with_clusters(mds_df)\n"
   ]
  },
  {
   "cell_type": "code",
   "execution_count": null,
   "id": "14",
   "metadata": {},
   "outputs": [],
   "source": [
    "# Example usage of the function with checks\n",
    "try:\n",
    "    # Ensure the distance matrix is symmetric and contains no NaNs\n",
    "    if np.any(np.isnan(dist_matrix)):\n",
    "        print(\"The distance matrix contains NaN values. Replacing with zeros.\")\n",
    "        dist_matrix[np.isnan(dist_matrix)] = 0\n",
    "\n",
    "    if not np.allclose(dist_matrix, dist_matrix.T):\n",
    "        print(\"The distance matrix is not symmetric. Making it symmetric by averaging with the transpose.\")\n",
    "        dist_matrix = (dist_matrix + dist_matrix.T) / 2\n",
    "\n",
    "    # Call the function passing the distance matrix and metadata DataFrame\n",
    "    result = run_permanova(dist_matrix, df_clean, 'cluster')\n",
    "    \n",
    "    # Print the results if no errors occur\n",
    "    print(result)\n",
    "except ValueError as e:\n",
    "    # Print the error message if an exception is raised\n",
    "    print(f\"Error: {e}\")\n"
   ]
  },
  {
   "cell_type": "code",
   "execution_count": null,
   "id": "15",
   "metadata": {},
   "outputs": [],
   "source": [
    "# Verificar si la matriz es simétrica\n",
    "if np.allclose(dist_matrix, dist_matrix.T):\n",
    "    print(\"La matriz de distancias es simétrica.\")\n",
    "else:\n",
    "    print(\"La matriz de distancias no es simétrica.\")\n"
   ]
  },
  {
   "cell_type": "markdown",
   "id": "16",
   "metadata": {},
   "source": [
    "## MDS 3D Plot"
   ]
  },
  {
   "cell_type": "code",
   "execution_count": null,
   "id": "17",
   "metadata": {},
   "outputs": [],
   "source": [
    "dist_matrix, mds_df = compute_mds(X_scaled, df_clean[['season', 'estuary', 'sample', 'cluster']], n_components=3)\n",
    "plot_mds_3d(mds_df)"
   ]
  },
  {
   "cell_type": "code",
   "execution_count": null,
   "id": "18",
   "metadata": {},
   "outputs": [],
   "source": [
    "dist_matrix"
   ]
  },
  {
   "cell_type": "code",
   "execution_count": null,
   "id": "19",
   "metadata": {},
   "outputs": [],
   "source": [
    "df_clean"
   ]
  },
  {
   "cell_type": "code",
   "execution_count": null,
   "id": "20",
   "metadata": {},
   "outputs": [],
   "source": []
  }
 ],
 "metadata": {
  "kernelspec": {
   "display_name": "enviromental_python",
   "language": "python",
   "name": "python3"
  },
  "language_info": {
   "codemirror_mode": {
    "name": "ipython",
    "version": 3
   },
   "file_extension": ".py",
   "mimetype": "text/x-python",
   "name": "python",
   "nbconvert_exporter": "python",
   "pygments_lexer": "ipython3",
   "version": "3.10.16"
  }
 },
 "nbformat": 4,
 "nbformat_minor": 5
}
