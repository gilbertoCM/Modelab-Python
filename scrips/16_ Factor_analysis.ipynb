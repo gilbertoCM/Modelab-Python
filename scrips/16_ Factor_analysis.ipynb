{
 "cells": [
  {
   "cell_type": "markdown",
   "metadata": {},
   "source": [
    "# Spearman's Correlation Matrix"
   ]
  },
  {
   "cell_type": "code",
   "execution_count": null,
   "metadata": {},
   "outputs": [],
   "source": [
    "# Read in the data from the csv file\n",
    "import pandas as pd\n",
    "CO2Data = pd.read_csv(\"../data/Terminos_lagoon_TA_DIC_2023_RawData.csv\")"
   ]
  },
  {
   "cell_type": "code",
   "execution_count": null,
   "metadata": {},
   "outputs": [],
   "source": [
    "# Printe the column names\n",
    "print(CO2Data.columns)"
   ]
  },
  {
   "cell_type": "markdown",
   "metadata": {},
   "source": [
    "## Adequacy Test"
   ]
  },
  {
   "cell_type": "code",
   "execution_count": null,
   "metadata": {},
   "outputs": [],
   "source": [
    "# Select the columns that we need for the analysis\n",
    "\n",
    "CO2Data_FA_vars = CO2Data[['depth_m', 'do_mg_l', 'sal_psu', 'turbidity_fnu', 'temp_c', 'ta_micromol_kg', 'dic_micromol_kg', 'chlorophy_microg_l']]\n",
    "\n",
    "# Select numeric columns for factor analysis\n",
    "numeric_columns = CO2Data_FA_vars.select_dtypes(include=['float64', 'int64']).dropna(axis=1)\n",
    "numeric_values = numeric_columns.values\n"
   ]
  },
  {
   "cell_type": "code",
   "execution_count": null,
   "metadata": {},
   "outputs": [],
   "source": [
    "# Perform Bartlett's test of sphericity\n",
    "from factor_analyzer.factor_analyzer import calculate_bartlett_sphericity\n",
    "\n",
    "# Perform Bartlett's test of sphericity\n",
    "chi_square_value, p_value = calculate_bartlett_sphericity(numeric_values)\n",
    "\n",
    "# Print results\n",
    "print(f\"The data is {'not ' if p_value < 0.05 else ''}an identity matrix.\")\n",
    "print(f\"p-value: {p_value:.4f}, chi-square value: {chi_square_value:.4f}\")"
   ]
  },
  {
   "cell_type": "code",
   "execution_count": null,
   "metadata": {},
   "outputs": [],
   "source": [
    "# The KMO test measures the suitability of data for factor analysis. It is a measure of sampling adequacy.\n",
    "from factor_analyzer.factor_analyzer import calculate_kmo\n",
    "\n",
    "# Perform the Kaiser-Meyer-Olkin test\n",
    "_, kmo_model = calculate_kmo(numeric_values)\n",
    "\n",
    "# Print results with interpretation\n",
    "print(f\"KMO Value: {kmo_model:.2f}\")\n",
    "if kmo_model > 0.8:\n",
    "    print(\"Suitability: Excellent\")\n",
    "elif 0.7 <= kmo_model <= 0.79:\n",
    "    print(\"Suitability: Acceptable\")\n",
    "elif 0.6 <= kmo_model <= 0.69:\n",
    "    print(\"Suitability: Mediocre\")\n",
    "else:\n",
    "    print(\"Suitability: Poor\")\n",
    "\n",
    "print(\"Interpretation: A KMO value above 0.6 is considered acceptable for factor analysis.\")\n"
   ]
  },
  {
   "cell_type": "markdown",
   "metadata": {},
   "source": [
    "## Choosing the Number of Factors"
   ]
  },
  {
   "cell_type": "code",
   "execution_count": null,
   "metadata": {},
   "outputs": [],
   "source": [
    "import numpy as np\n",
    "from sklearn.decomposition import PCA\n",
    "\n",
    "# Apply PCA to compute the eigenvalues of the correlation matrix\n",
    "pca = PCA()\n",
    "pca.fit(numeric_values)\n",
    "\n",
    "# Extract eigenvalues representing the variance explained by each component\n",
    "eigenvalues = pca.explained_variance_\n",
    "print(\"Eigenvalues:\", eigenvalues)\n",
    "\n",
    "# Apply the Kaiser criterion: retain components with eigenvalues > 1\n",
    "n_factors = np.sum(eigenvalues > 1)\n",
    "print(f\"Number of factors to retain (Kaiser criterion): {n_factors}\")\n"
   ]
  },
  {
   "cell_type": "code",
   "execution_count": null,
   "metadata": {},
   "outputs": [],
   "source": [
    "import matplotlib.pyplot as plt\n",
    "\n",
    "plt.figure(figsize=(8,5))\n",
    "plt.plot(range(1, len(eigenvalues) + 1), eigenvalues, marker='o', linestyle='-')\n",
    "plt.axhline(y=1, color='red', linestyle='--', label='Kaiser Criterion')\n",
    "plt.title('Scree Plot')\n",
    "plt.xlabel('Factor Number')\n",
    "plt.ylabel('Eigenvalue')\n",
    "plt.legend()\n",
    "plt.show()"
   ]
  },
  {
   "cell_type": "code",
   "execution_count": null,
   "metadata": {},
   "outputs": [],
   "source": [
    "from sklearn.decomposition import FactorAnalysis\n",
    "from sklearn.preprocessing import StandardScaler\n",
    "from tabulate import tabulate  # For displaying tables\n",
    "\n",
    "# Select numeric columns for factor analysis\n",
    "numeric_columns = CO2Data_FA_vars.select_dtypes(include=['float64', 'int64']).dropna(axis=1)\n",
    "X = numeric_columns.values\n",
    "\n",
    "# Standardize the data\n",
    "scaler = StandardScaler()\n",
    "X_scaled = scaler.fit_transform(X)\n",
    "\n",
    "# Perform factor analysis\n",
    "fa = FactorAnalysis(n_components=2,  rotation='varimax')  # Adjust n_components as needed\n",
    "X_factors = fa.fit_transform(X_scaled)\n",
    "\n",
    "# Display the factor loadings in a table (rounded to 2 decimal places)\n",
    "factor_loadings = pd.DataFrame(\n",
    "    fa.components_.T, \n",
    "    index=numeric_columns.columns, \n",
    "    columns=[f'Factor{i+1}' for i in range(fa.n_components)]\n",
    ").round(2)  # Round to 2 decimal places\n",
    "\n",
    "print(tabulate(factor_loadings, headers='keys', tablefmt='grid'))"
   ]
  },
  {
   "cell_type": "code",
   "execution_count": null,
   "metadata": {},
   "outputs": [],
   "source": [
    "def plot_fa_biplot_final(df, vars_numericas, group_col=None, label_col=None,\n",
    "                         n_factors=2, title='Factor Analysis - Terminos Lagoon',\n",
    "                         show_labels=True, save_path=None, figsize=(10, 10)):\n",
    "    import matplotlib.pyplot as plt\n",
    "    import numpy as np\n",
    "    from sklearn.decomposition import FactorAnalysis\n",
    "    from sklearn.preprocessing import StandardScaler\n",
    "    import matplotlib\n",
    "    from matplotlib.patheffects import withStroke\n",
    "\n",
    "    # Datos y FA\n",
    "    X = df[vars_numericas].dropna()\n",
    "    df_clean = df.loc[X.index]\n",
    "    scaler = StandardScaler()\n",
    "    X_scaled = scaler.fit_transform(X)\n",
    "    fa = FactorAnalysis(n_components=n_factors)\n",
    "    X_factors = fa.fit_transform(X_scaled)\n",
    "    loadings = fa.components_.T * np.sqrt(fa.noise_variance_)[:, np.newaxis]\n",
    "\n",
    "    # Agrupaciones\n",
    "    groups = df_clean[group_col].values if group_col else None\n",
    "    labels = df_clean[label_col].values if label_col else [\"\" for _ in range(len(X_factors))]\n",
    "    unique_groups = np.unique(groups) if groups is not None else None\n",
    "\n",
    "    # Paleta viridis corregida\n",
    "    colormap = matplotlib.colormaps.get_cmap('viridis').resampled(len(unique_groups)) if groups is not None else None\n",
    "\n",
    "    # Figura\n",
    "    fig, ax = plt.subplots(figsize=figsize)\n",
    "    ax.axhline(0, color='lightgray', lw=1, zorder=1)\n",
    "    ax.axvline(0, color='lightgray', lw=1, zorder=1)\n",
    "    circle = plt.Circle((0, 0), 1, color='gray', fill=False, linestyle='dashed', linewidth=1)\n",
    "    ax.add_artist(circle)\n",
    "\n",
    "    # Flechas\n",
    "    arrow_scale = 4\n",
    "    for i, var in enumerate(vars_numericas):\n",
    "        x = loadings[i, 0] * arrow_scale\n",
    "        y = loadings[i, 1] * arrow_scale\n",
    "        ax.arrow(0, 0, x, y,\n",
    "                 color='black', alpha=0.9,\n",
    "                 head_width=0.12, head_length=0.15,\n",
    "                 linewidth=2.4, length_includes_head=True, zorder=3)\n",
    "        ax.text(x * 1.2, y * 1.2, var, fontsize=13,\n",
    "                ha='center', va='center', weight='bold',\n",
    "                path_effects=[withStroke(linewidth=3, foreground='white')],\n",
    "                zorder=4)\n",
    "\n",
    "    # Puntos y etiquetas\n",
    "    if groups is not None:\n",
    "        for i, g in enumerate(unique_groups):\n",
    "            idx = groups == g\n",
    "            ax.scatter(X_factors[idx, 0], X_factors[idx, 1],\n",
    "                       label=g, alpha=0.85, s=70,\n",
    "                       edgecolor='white', linewidth=0.6,\n",
    "                       color=colormap(i), zorder=2)\n",
    "            if show_labels:\n",
    "                for j in np.where(idx)[0]:\n",
    "                    ax.text(X_factors[j, 0], X_factors[j, 1], labels[j],\n",
    "                            fontsize=6.5, alpha=0.5)\n",
    "    else:\n",
    "        ax.scatter(X_factors[:, 0], X_factors[:, 1], alpha=0.7, s=50, zorder=2)\n",
    "\n",
    "    # Estética\n",
    "    ax.set_xlabel('Factor 1', fontsize=14, weight='bold', family='serif')\n",
    "    ax.set_ylabel('Factor 2', fontsize=14, weight='bold', family='serif')\n",
    "    ax.set_title(title, fontsize=16, weight='bold', family='serif')\n",
    "    if groups is not None:\n",
    "        ax.legend(title=group_col, fontsize=10, title_fontsize=11, loc='best')\n",
    "    ax.tick_params(labelsize=11)\n",
    "    ax.set_aspect('equal')\n",
    "\n",
    "    # Límites automáticos con margen\n",
    "    margin = 0.5\n",
    "    xlims = X_factors[:, 0].min() - margin, X_factors[:, 0].max() + margin\n",
    "    ylims = X_factors[:, 1].min() - margin, X_factors[:, 1].max() + margin\n",
    "    ax.set_xlim(*xlims)\n",
    "    ax.set_ylim(*ylims)\n",
    "\n",
    "    plt.tight_layout()\n",
    "\n",
    "    # Guardar si se solicita\n",
    "    if save_path:\n",
    "        if save_path.endswith('.pdf') or save_path.endswith('.svg'):\n",
    "            plt.savefig(save_path, bbox_inches='tight')\n",
    "        else:\n",
    "            plt.savefig(save_path, dpi=600, bbox_inches='tight')\n",
    "\n",
    "    plt.show()\n"
   ]
  },
  {
   "cell_type": "code",
   "execution_count": null,
   "metadata": {},
   "outputs": [],
   "source": [
    "plot_fa_biplot_final(\n",
    "    df=CO2Data,\n",
    "    vars_numericas=CO2Data_FA_vars.select_dtypes(include=['float64', 'int64']).columns.tolist(),\n",
    "    group_col='season',\n",
    "    label_col='sample',\n",
    "    n_factors=2,\n",
    "    title='Factor Analysis - Terminos Lagoon'\n",
    ")"
   ]
  },
  {
   "cell_type": "code",
   "execution_count": null,
   "metadata": {},
   "outputs": [],
   "source": []
  }
 ],
 "metadata": {
  "kernelspec": {
   "display_name": "base",
   "language": "python",
   "name": "python3"
  },
  "language_info": {
   "codemirror_mode": {
    "name": "ipython",
    "version": 3
   },
   "file_extension": ".py",
   "mimetype": "text/x-python",
   "name": "python",
   "nbconvert_exporter": "python",
   "pygments_lexer": "ipython3",
   "version": "3.12.3"
  }
 },
 "nbformat": 4,
 "nbformat_minor": 4
}
