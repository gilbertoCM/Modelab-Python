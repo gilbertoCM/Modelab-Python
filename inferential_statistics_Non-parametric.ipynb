{
 "cells": [
  {
   "attachments": {},
   "cell_type": "markdown",
   "metadata": {},
   "source": [
    "#   Inferential statistic Non-parametric"
   ]
  },
  {
   "cell_type": "code",
   "execution_count": 1,
   "metadata": {},
   "outputs": [],
   "source": [
    "import pandas as pd\n",
    "\n",
    "# Import the air quality dataset \n",
    "\n",
    "CO2Data = pd.read_csv(\"MartinezTrejo_etal_2023_TA_DIC_RawData.csv\")"
   ]
  },
  {
   "attachments": {},
   "cell_type": "markdown",
   "metadata": {},
   "source": [
    "![Alt text](warning.png)"
   ]
  },
  {
   "attachments": {},
   "cell_type": "markdown",
   "metadata": {},
   "source": [
    "![Alt text](UriasMPRecurso%201graphicalAbstract10.png)\n",
    "- Vallat, R. (2018)"
   ]
  },
  {
   "cell_type": "code",
   "execution_count": 2,
   "metadata": {},
   "outputs": [
    {
     "ename": "ModuleNotFoundError",
     "evalue": "No module named 'pingouin'",
     "output_type": "error",
     "traceback": [
      "\u001b[1;31m---------------------------------------------------------------------------\u001b[0m",
      "\u001b[1;31mModuleNotFoundError\u001b[0m                       Traceback (most recent call last)",
      "Cell \u001b[1;32mIn[2], line 1\u001b[0m\n\u001b[1;32m----> 1\u001b[0m \u001b[39mimport\u001b[39;00m \u001b[39mpingouin\u001b[39;00m \u001b[39mas\u001b[39;00m \u001b[39mpg\u001b[39;00m\n\u001b[0;32m      3\u001b[0m \u001b[39m# 1. This is a between subject design, so the first step is to test for equality of variances\u001b[39;00m\n\u001b[0;32m      4\u001b[0m pg\u001b[39m.\u001b[39mhomoscedasticity(data\u001b[39m=\u001b[39mCO2Data, dv\u001b[39m=\u001b[39m\u001b[39m'\u001b[39m\u001b[39mTA_micromol_kg\u001b[39m\u001b[39m'\u001b[39m, group\u001b[39m=\u001b[39m\u001b[39m'\u001b[39m\u001b[39mArea\u001b[39m\u001b[39m'\u001b[39m)\n",
      "\u001b[1;31mModuleNotFoundError\u001b[0m: No module named 'pingouin'"
     ]
    }
   ],
   "source": [
    "import pingouin as pg\n",
    "\n",
    "# 1. This is a between subject design, so the first step is to test for equality of variances\n",
    "pg.homoscedasticity(data=CO2Data, dv='TA_micromol_kg', group='Area')\n"
   ]
  },
  {
   "cell_type": "code",
   "execution_count": null,
   "metadata": {},
   "outputs": [],
   "source": [
    "# 2. If the groups have equal variances, we can use a regular one-way ANOVA\n",
    "pg.anova(data=CO2Data, dv='TA_micromol_kg', between='Area')\n"
   ]
  },
  {
   "cell_type": "code",
   "execution_count": 3,
   "metadata": {},
   "outputs": [
    {
     "ename": "NameError",
     "evalue": "name 'pg' is not defined",
     "output_type": "error",
     "traceback": [
      "\u001b[1;31m---------------------------------------------------------------------------\u001b[0m",
      "\u001b[1;31mNameError\u001b[0m                                 Traceback (most recent call last)",
      "Cell \u001b[1;32mIn[3], line 2\u001b[0m\n\u001b[0;32m      1\u001b[0m \u001b[38;5;66;03m# 3. If there is a main effect, we can proceed to post-hoc Tukey test\u001b[39;00m\n\u001b[1;32m----> 2\u001b[0m \u001b[43mpg\u001b[49m\u001b[38;5;241m.\u001b[39mpairwise_tukey(data\u001b[38;5;241m=\u001b[39mCO2Data, dv\u001b[38;5;241m=\u001b[39m\u001b[38;5;124m'\u001b[39m\u001b[38;5;124mTA_micromol_kg\u001b[39m\u001b[38;5;124m'\u001b[39m, between\u001b[38;5;241m=\u001b[39m\u001b[38;5;124m'\u001b[39m\u001b[38;5;124mArea\u001b[39m\u001b[38;5;124m'\u001b[39m)\n",
      "\u001b[1;31mNameError\u001b[0m: name 'pg' is not defined"
     ]
    }
   ],
   "source": [
    "# 3. If there is a main effect, we can proceed to post-hoc Tukey test\n",
    "pg.pairwise_tukey(data=CO2Data, dv='TA_micromol_kg', between='Area')"
   ]
  },
  {
   "attachments": {},
   "cell_type": "markdown",
   "metadata": {},
   "source": [
    "Vallat, R. (2018). Pingouin: statistics in Python. Journal of Open Source Software, 3(31), 1026\n",
    "- https://doi.org/10.21105/joss.01026"
   ]
  }
 ],
 "metadata": {
  "kernelspec": {
   "display_name": "Python 3 (ipykernel)",
   "language": "python",
   "name": "python3"
  },
  "language_info": {
   "codemirror_mode": {
    "name": "ipython",
    "version": 3
   },
   "file_extension": ".py",
   "mimetype": "text/x-python",
   "name": "python",
   "nbconvert_exporter": "python",
   "pygments_lexer": "ipython3",
   "version": "3.10.9"
  }
 },
 "nbformat": 4,
 "nbformat_minor": 4
}
