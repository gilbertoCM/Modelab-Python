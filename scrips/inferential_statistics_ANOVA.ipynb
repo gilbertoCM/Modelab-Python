{
 "cells": [
  {
   "attachments": {},
   "cell_type": "markdown",
   "metadata": {},
   "source": [
    "#   Inferential statistic ANOVA"
   ]
  },
  {
   "cell_type": "code",
   "execution_count": null,
   "metadata": {},
   "outputs": [],
   "source": [
    "def import_csv(file):\n",
    "    # Read the file into a DataFrame: df\n",
    "    import pandas as pd\n",
    "    return pd.read_csv(file)"
   ]
  },
  {
   "cell_type": "code",
   "execution_count": null,
   "metadata": {},
   "outputs": [],
   "source": [
    "# Path to the file to be imported\n",
    "path = \"../data/Terminos_lagoon_TA_DIC__2023_RawData.csv\"\n",
    "\n",
    "# Import the file\n",
    "co2_data = import_csv(path)"
   ]
  },
  {
   "attachments": {},
   "cell_type": "markdown",
   "metadata": {},
   "source": [
    "![Alt text](warning.png)"
   ]
  },
  {
   "attachments": {},
   "cell_type": "markdown",
   "metadata": {},
   "source": [
    "![Alt text](UriasMPRecurso%201graphicalAbstract10.png)\n",
    "- Vallat, R. (2018)"
   ]
  },
  {
   "cell_type": "code",
   "execution_count": null,
   "metadata": {},
   "outputs": [],
   "source": [
    "import pingouin as pg\n",
    "\n",
    "# 1. This is a between subject design, so the first step is to test for equality of variances\n",
    "pg.homoscedasticity(data=co2_data, dv='TA_micromol_kg', group='Area')\n"
   ]
  },
  {
   "cell_type": "code",
   "execution_count": null,
   "metadata": {},
   "outputs": [],
   "source": [
    "# 2. If the groups have equal variances, we can use a regular one-way ANOVA\n",
    "pg.anova(data=co2_data, dv='TA_micromol_kg', between='Area')\n"
   ]
  },
  {
   "cell_type": "code",
   "execution_count": null,
   "metadata": {},
   "outputs": [],
   "source": [
    "# 3. If there is a main effect, we can proceed to post-hoc Tukey test\n",
    "pg.pairwise_tukey(data=co2_data, dv='TA_micromol_kg', between='Area')"
   ]
  },
  {
   "attachments": {},
   "cell_type": "markdown",
   "metadata": {},
   "source": [
    "Vallat, R. (2018). Pingouin: statistics in Python. Journal of Open Source Software, 3(31), 1026\n",
    "- https://doi.org/10.21105/joss.01026"
   ]
  },
  {
   "cell_type": "markdown",
   "metadata": {},
   "source": []
  }
 ],
 "metadata": {
  "kernelspec": {
   "display_name": "base",
   "language": "python",
   "name": "python3"
  },
  "language_info": {
   "codemirror_mode": {
    "name": "ipython",
    "version": 3
   },
   "file_extension": ".py",
   "mimetype": "text/x-python",
   "name": "python",
   "nbconvert_exporter": "python",
   "pygments_lexer": "ipython3",
   "version": "3.12.3"
  }
 },
 "nbformat": 4,
 "nbformat_minor": 4
}
