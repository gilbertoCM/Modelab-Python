{
 "cells": [
  {
   "cell_type": "markdown",
   "metadata": {},
   "source": [
    "# Spearman's Correlation Matrix"
   ]
  },
  {
   "cell_type": "code",
   "execution_count": null,
   "metadata": {},
   "outputs": [],
   "source": [
    "# Read in the data from the csv file\n",
    "\n",
    "import pandas as pd\n",
    "\n",
    "CO2Data = pd.read_csv(\"../data/Terminos_lagoon_TA_DIC__2023_RawData.csv\")"
   ]
  },
  {
   "cell_type": "code",
   "execution_count": null,
   "metadata": {},
   "outputs": [],
   "source": [
    "# Printe the column names\n",
    "print(CO2Data.columns)"
   ]
  },
  {
   "cell_type": "markdown",
   "metadata": {},
   "source": [
    "## Adequacy Test"
   ]
  },
  {
   "cell_type": "code",
   "execution_count": null,
   "metadata": {},
   "outputs": [],
   "source": [
    "# Select the columns that we need for the analysis\n",
    "\n",
    "CO2Data_FA_vars = CO2Data[['depth_m', 'do_mg_l', 'sal_psu', 'turbidity_fnu', 'temp_c', 'ta_micromol_kg', 'dic_micromol_kg', 'chlorophy_microg_l']]\n",
    "\n",
    "# Select numeric columns for factor analysis\n",
    "numeric_columns = CO2Data_FA_vars.select_dtypes(include=['float64', 'int64']).dropna(axis=1)\n",
    "numeric_values = numeric_columns.values\n"
   ]
  },
  {
   "cell_type": "code",
   "execution_count": null,
   "metadata": {},
   "outputs": [],
   "source": [
    "# Perform Bartlett's test of sphericity\n",
    "from factor_analyzer.factor_analyzer import calculate_bartlett_sphericity\n",
    "\n",
    "# Perform Bartlett's test of sphericity\n",
    "chi_square_value, p_value = calculate_bartlett_sphericity(numeric_values)\n",
    "\n",
    "# Print results\n",
    "print(f\"The data is {'not ' if p_value < 0.05 else ''}an identity matrix.\")\n",
    "print(f\"p-value: {p_value:.4f}, chi-square value: {chi_square_value:.4f}\")"
   ]
  },
  {
   "cell_type": "code",
   "execution_count": null,
   "metadata": {},
   "outputs": [],
   "source": [
    "# The KMO test measures the suitability of data for factor analysis. It is a measure of sampling adequacy.\n",
    "from factor_analyzer.factor_analyzer import calculate_kmo\n",
    "\n",
    "# Perform the Kaiser-Meyer-Olkin test\n",
    "_, kmo_model = calculate_kmo(numeric_values)\n",
    "\n",
    "# Print results with interpretation\n",
    "print(f\"KMO Value: {kmo_model:.2f}\")\n",
    "if kmo_model > 0.8:\n",
    "    print(\"Suitability: Excellent\")\n",
    "elif 0.7 <= kmo_model <= 0.79:\n",
    "    print(\"Suitability: Acceptable\")\n",
    "elif 0.6 <= kmo_model <= 0.69:\n",
    "    print(\"Suitability: Mediocre\")\n",
    "else:\n",
    "    print(\"Suitability: Poor\")\n",
    "\n",
    "print(\"Interpretation: A KMO value above 0.6 is considered acceptable for factor analysis.\")\n"
   ]
  },
  {
   "cell_type": "markdown",
   "metadata": {},
   "source": [
    "## Choosing the Number of Factors"
   ]
  },
  {
   "cell_type": "code",
   "execution_count": null,
   "metadata": {},
   "outputs": [],
   "source": [
    "import numpy as np\n",
    "from sklearn.decomposition import PCA\n",
    "\n",
    "# Apply PCA to compute the eigenvalues of the correlation matrix\n",
    "pca = PCA()\n",
    "pca.fit(numeric_values)\n",
    "\n",
    "# Extract eigenvalues representing the variance explained by each component\n",
    "eigenvalues = pca.explained_variance_\n",
    "print(\"Eigenvalues:\", eigenvalues)\n",
    "\n",
    "# Apply the Kaiser criterion: retain components with eigenvalues > 1\n",
    "n_factors = np.sum(eigenvalues > 1)\n",
    "print(f\"Number of factors to retain (Kaiser criterion): {n_factors}\")\n"
   ]
  },
  {
   "cell_type": "code",
   "execution_count": null,
   "metadata": {},
   "outputs": [],
   "source": [
    "import matplotlib.pyplot as plt\n",
    "\n",
    "plt.figure(figsize=(8,5))\n",
    "plt.plot(range(1, len(eigenvalues) + 1), eigenvalues, marker='o', linestyle='-')\n",
    "plt.axhline(y=1, color='red', linestyle='--', label='Kaiser Criterion')\n",
    "plt.title('Scree Plot')\n",
    "plt.xlabel('Factor Number')\n",
    "plt.ylabel('Eigenvalue')\n",
    "plt.legend()\n",
    "plt.show()"
   ]
  },
  {
   "cell_type": "code",
   "execution_count": null,
   "metadata": {},
   "outputs": [],
   "source": [
    "from sklearn.decomposition import FactorAnalysis\n",
    "from sklearn.preprocessing import StandardScaler\n",
    "from tabulate import tabulate  # For displaying tables\n",
    "\n",
    "# Select numeric columns for factor analysis\n",
    "numeric_columns = CO2Data_FA_vars.select_dtypes(include=['float64', 'int64']).dropna(axis=1)\n",
    "X = numeric_columns.values\n",
    "\n",
    "# Standardize the data\n",
    "scaler = StandardScaler()\n",
    "X_scaled = scaler.fit_transform(X)\n",
    "\n",
    "# Perform factor analysis\n",
    "fa = FactorAnalysis(n_components=2, random_state=42)  # Adjust n_components as needed\n",
    "X_factors = fa.fit_transform(X_scaled)\n",
    "\n",
    "# Display the factor loadings in a table (rounded to 2 decimal places)\n",
    "factor_loadings = pd.DataFrame(\n",
    "    fa.components_.T, \n",
    "    index=numeric_columns.columns, \n",
    "    columns=[f'Factor{i+1}' for i in range(fa.n_components)]\n",
    ").round(2)  # Round to 2 decimal places\n",
    "\n",
    "print(tabulate(factor_loadings, headers='keys', tablefmt='grid'))"
   ]
  },
  {
   "cell_type": "code",
   "execution_count": null,
   "metadata": {},
   "outputs": [],
   "source": []
  }
 ],
 "metadata": {
  "kernelspec": {
   "display_name": "base",
   "language": "python",
   "name": "python3"
  },
  "language_info": {
   "codemirror_mode": {
    "name": "ipython",
    "version": 3
   },
   "file_extension": ".py",
   "mimetype": "text/x-python",
   "name": "python",
   "nbconvert_exporter": "python",
   "pygments_lexer": "ipython3",
   "version": "3.12.3"
  }
 },
 "nbformat": 4,
 "nbformat_minor": 4
}
