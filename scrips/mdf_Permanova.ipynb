{
 "cells": [
  {
   "cell_type": "markdown",
   "id": "0",
   "metadata": {},
   "source": [
    "# Exploratory Analysis Functions for Environmental Data (PCA, Clustering, PERMANOVA)\n"
   ]
  },
  {
   "cell_type": "code",
   "execution_count": null,
   "id": "1",
   "metadata": {},
   "outputs": [],
   "source": [
    "# Read in the data from the csv file\n",
    "import pandas as pd\n",
    "CO2Data = pd.read_csv(\"../data/Terminos_lagoon_TA_DIC_2023_RawData.csv\")"
   ]
  },
  {
   "cell_type": "code",
   "execution_count": null,
   "id": "2",
   "metadata": {},
   "outputs": [],
   "source": [
    "\n",
    "import pandas as pd\n",
    "import numpy as np\n",
    "import matplotlib.pyplot as plt\n",
    "import seaborn as sns\n",
    "from sklearn.preprocessing import StandardScaler\n",
    "from sklearn.metrics import pairwise_distances\n",
    "from sklearn.manifold import MDS\n",
    "from scipy.cluster.hierarchy import linkage, fcluster, dendrogram\n",
    "\n",
    "# Optional: run PERMANOVA if scikit-bio is available\n",
    "try:\n",
    "    from skbio.stats.distance import DistanceMatrix, permanova\n",
    "    SKBIO_AVAILABLE = True\n",
    "except ImportError:\n",
    "    SKBIO_AVAILABLE = False\n"
   ]
  },
  {
   "cell_type": "code",
   "execution_count": null,
   "id": "3",
   "metadata": {},
   "outputs": [],
   "source": [
    "def preprocess_data(df, variables):\n",
    "    \"\"\"\n",
    "    Standardize selected variables and return clean DataFrame.\n",
    "    \"\"\"\n",
    "    df_clean = df.dropna(subset=variables)\n",
    "    scaler = StandardScaler()\n",
    "    X_scaled = scaler.fit_transform(df_clean[variables])\n",
    "    return df_clean, X_scaled"
   ]
  },
  {
   "cell_type": "code",
   "execution_count": null,
   "id": "4",
   "metadata": {},
   "outputs": [],
   "source": [
    "def perform_hierarchical_clustering(X_scaled, method='ward', n_clusters=3):\n",
    "    \"\"\"\n",
    "    Perform hierarchical clustering and return cluster labels.\n",
    "    \"\"\"\n",
    "    linkage_matrix = linkage(X_scaled, method=method)\n",
    "    cluster_labels = fcluster(linkage_matrix, t=n_clusters, criterion='maxclust')\n",
    "    return linkage_matrix, cluster_labels"
   ]
  },
  {
   "cell_type": "code",
   "execution_count": null,
   "id": "5",
   "metadata": {},
   "outputs": [],
   "source": [
    "def plot_dendrogram(linkage_matrix, labels=None):\n",
    "    \"\"\"\n",
    "    Plot a dendrogram from the hierarchical clustering with sample labels.\n",
    "    \"\"\"\n",
    "    plt.figure(figsize=(10, 5))\n",
    "    dendrogram(linkage_matrix, labels=labels)\n",
    "    plt.title('Hierarchical Clustering Dendrogram')\n",
    "    plt.xlabel('Sample Labels')\n",
    "    plt.ylabel('Distance')\n",
    "    plt.tight_layout()\n",
    "    plt.show()"
   ]
  },
  {
   "cell_type": "code",
   "execution_count": null,
   "id": "6",
   "metadata": {},
   "outputs": [],
   "source": [
    "def compute_mds(X_scaled, metadata_df, n_components=2):\n",
    "    \"\"\"\n",
    "    Compute MDS coordinates from a distance matrix.\n",
    "    \"\"\"\n",
    "    dist_matrix = pairwise_distances(X_scaled, metric='euclidean')\n",
    "    mds = MDS(n_components=n_components, dissimilarity='precomputed', random_state=42)\n",
    "    coords = mds.fit_transform(dist_matrix)\n",
    "    columns = [f\"MDS{i+1}\" for i in range(n_components)]\n",
    "    mds_df = pd.DataFrame(coords, columns=columns)\n",
    "    mds_df = pd.concat([mds_df, metadata_df.reset_index(drop=True)], axis=1)\n",
    "    return dist_matrix, mds_df\n"
   ]
  },
  {
   "cell_type": "code",
   "execution_count": null,
   "id": "7",
   "metadata": {},
   "outputs": [],
   "source": [
    "def plot_mds_with_clusters(mds_df, label_column='sample'):\n",
    "    \"\"\"\n",
    "    Plot MDS colored by clusters and annotated by sample names.\n",
    "    \"\"\"\n",
    "    plt.figure(figsize=(10, 8))\n",
    "    sns.scatterplot(data=mds_df, x='MDS1', y='MDS2', hue='cluster', style='season', s=100, palette='Set1')\n",
    "    for i, row in mds_df.iterrows():\n",
    "        plt.text(row['MDS1'], row['MDS2'], row[label_column], fontsize=7, alpha=0.6)\n",
    "    plt.title('MDS with Cluster and Sample Labels')\n",
    "    plt.xlabel('MDS1')\n",
    "    plt.ylabel('MDS2')\n",
    "    plt.legend(title='Cluster / Season')\n",
    "    plt.tight_layout()\n",
    "    plt.show()\n"
   ]
  },
  {
   "cell_type": "code",
   "execution_count": null,
   "id": "8",
   "metadata": {},
   "outputs": [],
   "source": [
    "def plot_mds_3d(mds_df, label_column='sample'):\n",
    "    \"\"\"\n",
    "    Plot 3D MDS with sample annotations.\n",
    "    \"\"\"\n",
    "    fig = plt.figure(figsize=(10, 8))\n",
    "    ax = fig.add_subplot(111, projection='3d')\n",
    "    scatter = ax.scatter(mds_df['MDS1'], mds_df['MDS2'], mds_df['MDS3'],\n",
    "                         c=mds_df['cluster'].astype(int), cmap='Set1', s=70)\n",
    "    for i, row in mds_df.iterrows():\n",
    "        ax.text(row['MDS1'], row['MDS2'], row['MDS3'], row[label_column], size=6)\n",
    "    ax.set_xlabel('MDS1')\n",
    "    ax.set_ylabel('MDS2')\n",
    "    ax.set_zlabel('MDS3')\n",
    "    plt.title('3D MDS with Clusters and Sample Labels')\n",
    "    plt.tight_layout()\n",
    "    plt.show()"
   ]
  },
  {
   "cell_type": "code",
   "execution_count": null,
   "id": "9",
   "metadata": {},
   "outputs": [],
   "source": [
    "def run_permanova(dist_matrix, metadata_df, group_column):\n",
    "    \"\"\"\n",
    "    Run PERMANOVA if scikit-bio is available.\n",
    "    \"\"\"\n",
    "    if not SKBIO_AVAILABLE:\n",
    "        print(\"scikit-bio not available. Please install it to run PERMANOVA: conda install anaconda::scikit-bio\")\n",
    "        return None\n",
    "    dm = DistanceMatrix(dist_matrix)\n",
    "    result = permanova(dm, metadata_df, column=group_column, permutations=999)\n",
    "    return result"
   ]
  },
  {
   "cell_type": "code",
   "execution_count": null,
   "id": "10",
   "metadata": {},
   "outputs": [],
   "source": [
    "selected_vars = ['dic_micromol_kg', 'ta_micromol_kg', 'sal_psu', 'temp_c', 'do_mg_l', 'chlorophy_microg_l']\n",
    "df_clean, X_scaled = preprocess_data(CO2Data, selected_vars)\n",
    "linkage_matrix, clusters = perform_hierarchical_clustering(X_scaled, n_clusters=3)\n",
    "df_clean['cluster'] = clusters\n",
    "plot_dendrogram(linkage_matrix, labels=df_clean['sample'].values)"
   ]
  },
  {
   "cell_type": "code",
   "execution_count": null,
   "id": "11",
   "metadata": {},
   "outputs": [],
   "source": [
    "dist_matrix, mds_df = compute_mds(X_scaled, df_clean[['season', 'estuary', 'sample', 'cluster']])\n",
    "plot_mds_with_clusters(mds_df)\n"
   ]
  },
  {
   "cell_type": "code",
   "execution_count": null,
   "id": "12",
   "metadata": {},
   "outputs": [],
   "source": [
    "result = run_permanova(dist_matrix, df_clean[['season']], 'season')\n",
    "print(result)\n"
   ]
  },
  {
   "cell_type": "markdown",
   "id": "13",
   "metadata": {},
   "source": [
    "## MDS 3D Plot"
   ]
  },
  {
   "cell_type": "code",
   "execution_count": null,
   "id": "14",
   "metadata": {},
   "outputs": [],
   "source": [
    "dist_matrix, mds_df = compute_mds(X_scaled, df_clean[['season', 'estuary', 'sample', 'cluster']], n_components=3)\n",
    "plot_mds_3d(mds_df)"
   ]
  }
 ],
 "metadata": {
  "kernelspec": {
   "display_name": "enviromental_python",
   "language": "python",
   "name": "python3"
  },
  "language_info": {
   "codemirror_mode": {
    "name": "ipython",
    "version": 3
   },
   "file_extension": ".py",
   "mimetype": "text/x-python",
   "name": "python",
   "nbconvert_exporter": "python",
   "pygments_lexer": "ipython3",
   "version": "3.10.16"
  }
 },
 "nbformat": 4,
 "nbformat_minor": 5
}
