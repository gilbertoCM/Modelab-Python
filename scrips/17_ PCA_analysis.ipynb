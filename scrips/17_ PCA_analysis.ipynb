{
 "cells": [
  {
   "cell_type": "markdown",
   "metadata": {},
   "source": [
    "# Principal Component Analysis (PCA)\n",
    "This notebook performs PCA on a selected set of environmental variables and visualizes the results with a scree plot and biplot."
   ]
  },
  {
   "cell_type": "code",
   "execution_count": null,
   "metadata": {},
   "outputs": [],
   "source": [
    "import pandas as pd\n",
    "import numpy as np\n",
    "import matplotlib.pyplot as plt\n",
    "from sklearn.decomposition import PCA\n",
    "from sklearn.preprocessing import StandardScaler"
   ]
  },
  {
   "cell_type": "code",
   "execution_count": null,
   "metadata": {},
   "outputs": [],
   "source": [
    "# Read in the data from the csv file\n",
    "CO2Data = pd.read_csv(\"../data/Terminos_lagoon_TA_DIC_2023_RawData.csv\")"
   ]
  },
  {
   "cell_type": "code",
   "execution_count": null,
   "metadata": {},
   "outputs": [],
   "source": [
    "# Select variables for PCA\n",
    "selected_vars = ['depth_m', 'do_mg_l', 'sal_psu', \n",
    "                 'turbidity_fnu', 'temp_c', 'ta_micromol_kg', \n",
    "                 'dic_micromol_kg', 'chlorophy_microg_l']\n",
    "\n",
    "# Drop missing values and scale the data\n",
    "X = CO2Data[selected_vars].dropna()\n",
    "X_scaled = StandardScaler().fit_transform(X)"
   ]
  },
  {
   "cell_type": "code",
   "execution_count": null,
   "metadata": {},
   "outputs": [],
   "source": [
    "# Perform PCA\n",
    "pca = PCA()\n",
    "principal_components = pca.fit_transform(X_scaled)\n",
    "explained_variance = pca.explained_variance_ratio_\n",
    "eigenvalues = pca.explained_variance_"
   ]
  },
  {
   "cell_type": "code",
   "execution_count": null,
   "metadata": {},
   "outputs": [],
   "source": [
    "# Scree plot\n",
    "plt.figure(figsize=(8, 5))\n",
    "plt.plot(range(1, len(eigenvalues) + 1), eigenvalues, marker='o')\n",
    "plt.axhline(y=1, color='red', linestyle='--', label='Kaiser Criterion')\n",
    "plt.title('Scree Plot - PCA')\n",
    "plt.xlabel('Principal Component')\n",
    "plt.ylabel('Eigenvalue')\n",
    "plt.legend()\n",
    "plt.grid(True)\n",
    "plt.show()"
   ]
  },
  {
   "cell_type": "markdown",
   "metadata": {},
   "source": [
    "## Simple biplot PCA"
   ]
  },
  {
   "cell_type": "code",
   "execution_count": null,
   "metadata": {},
   "outputs": [],
   "source": [
    "# Biplot function\n",
    "def biplot(scores, coeff, labels=None):\n",
    "    xs = scores[:, 0]\n",
    "    ys = scores[:, 1]\n",
    "    plt.figure(figsize=(8, 6))\n",
    "    plt.scatter(xs, ys, alpha=0.5)\n",
    "    for i in range(coeff.shape[0]):\n",
    "        plt.arrow(0, 0, coeff[i, 0]*2, coeff[i, 1]*2, \n",
    "                  color='r', alpha=0.5)\n",
    "        if labels is None:\n",
    "            plt.text(coeff[i, 0]*2.2, coeff[i, 1]*2.2, f\"Var{i+1}\", color='g')\n",
    "        else:\n",
    "            plt.text(coeff[i, 0]*2.2, coeff[i, 1]*2.2, labels[i], color='g')\n",
    "    plt.xlabel(\"PC1\")\n",
    "    plt.ylabel(\"PC2\")\n",
    "    plt.title(\"Biplot\")\n",
    "    plt.grid()\n",
    "    plt.show()"
   ]
  },
  {
   "cell_type": "code",
   "execution_count": null,
   "metadata": {},
   "outputs": [],
   "source": [
    "# Display biplot for first two principal components\n",
    "biplot(principal_components, pca.components_.T, labels=selected_vars)"
   ]
  },
  {
   "cell_type": "code",
   "execution_count": null,
   "metadata": {},
   "outputs": [],
   "source": [
    "def plot_pca_biplot(df, variables, group_col=None, label_col=None,\n",
    "                                    scale_arrows=2.5, figsize=(10, 10), title=\"PCA Biplot\",\n",
    "                                    save_path=None):\n",
    "    from sklearn.decomposition import PCA\n",
    "    from sklearn.preprocessing import StandardScaler\n",
    "    import matplotlib.pyplot as plt\n",
    "    import numpy as np\n",
    "    from matplotlib import colormaps\n",
    "    from matplotlib.patheffects import withStroke\n",
    "\n",
    "    df_filtered = df.dropna(subset=variables + ([group_col] if group_col else []) + ([label_col] if label_col else []))\n",
    "    X = df_filtered[variables]\n",
    "    X_scaled = StandardScaler().fit_transform(X)\n",
    "\n",
    "    pca = PCA(n_components=2)\n",
    "    scores = pca.fit_transform(X_scaled)\n",
    "    loadings = pca.components_.T\n",
    "\n",
    "    groups = df_filtered[group_col].values if group_col else None\n",
    "    labels = df_filtered[label_col].values if label_col else None\n",
    "    unique_groups = np.unique(groups) if groups is not None else []\n",
    "    cmap = colormaps.get_cmap('viridis').resampled(len(unique_groups)) if groups is not None else None\n",
    "    colors = {group: cmap(i) for i, group in enumerate(unique_groups)} if groups is not None else {}\n",
    "\n",
    "    fig, ax = plt.subplots(figsize=figsize)\n",
    "    ax.axhline(0, color='lightgray', lw=1)\n",
    "    ax.axvline(0, color='lightgray', lw=1)\n",
    "\n",
    "    for i, var in enumerate(variables):\n",
    "        ax.arrow(0, 0, loadings[i, 0]*scale_arrows, loadings[i, 1]*scale_arrows,\n",
    "                 color='black', linewidth=2.4, alpha=0.9,\n",
    "                 head_width=0.1, head_length=0.12, length_includes_head=True)\n",
    "        ax.text(loadings[i, 0]*scale_arrows*1.1, loadings[i, 1]*scale_arrows*1.1, var,\n",
    "                fontsize=13, ha='center', va='center', color='green',\n",
    "                path_effects=[withStroke(linewidth=3, foreground='white')])\n",
    "\n",
    "    if groups is not None:\n",
    "        for group in unique_groups:\n",
    "            idx = groups == group\n",
    "            ax.scatter(scores[idx, 0], scores[idx, 1],\n",
    "                       label=group, s=70, alpha=0.85,\n",
    "                       edgecolor='white', linewidth=0.6,\n",
    "                       color=colors[group], zorder=2)\n",
    "            if labels is not None:\n",
    "                for j in np.where(idx)[0]:\n",
    "                    ax.text(scores[j, 0], scores[j, 1], labels[j],\n",
    "                            fontsize=6.5, alpha=0.5)\n",
    "    else:\n",
    "        ax.scatter(scores[:, 0], scores[:, 1], s=50, alpha=0.75)\n",
    "\n",
    "    ax.set_xlabel('PC1', fontsize=14, weight='bold')\n",
    "    ax.set_ylabel('PC2', fontsize=14, weight='bold')\n",
    "    ax.set_title(title, fontsize=16, weight='bold')\n",
    "    if groups is not None:\n",
    "        ax.legend(title=group_col, fontsize=10, title_fontsize=11)\n",
    "    ax.set_aspect('equal')\n",
    "\n",
    "    margin = 0.5\n",
    "    ax.set_xlim(scores[:, 0].min() - margin, scores[:, 0].max() + margin)\n",
    "    ax.set_ylim(scores[:, 1].min() - margin, scores[:, 1].max() + margin)\n",
    "\n",
    "    plt.tight_layout()\n",
    "\n",
    "    if save_path:\n",
    "        dpi = 600 if save_path.endswith(('.png', '.jpg')) else None\n",
    "        plt.savefig(save_path, dpi=dpi, bbox_inches='tight')\n",
    "\n",
    "    plt.show()\n"
   ]
  },
  {
   "cell_type": "code",
   "execution_count": null,
   "metadata": {},
   "outputs": [],
   "source": [
    "# Ejemplo de uso con los datos cargados\n",
    "plot_pca_biplot(\n",
    "    df=CO2Data,\n",
    "    variables=selected_vars,\n",
    "    group_col='season',\n",
    "    label_col='sample',\n",
    "    title='PCA Biplot - Terminos Lagoon'\n",
    ")"
   ]
  }
 ],
 "metadata": {
  "kernelspec": {
   "display_name": "base",
   "language": "python",
   "name": "python3"
  },
  "language_info": {
   "codemirror_mode": {
    "name": "ipython",
    "version": 3
   },
   "file_extension": ".py",
   "mimetype": "text/x-python",
   "name": "python",
   "nbconvert_exporter": "python",
   "pygments_lexer": "ipython3",
   "version": "3.12.3"
  }
 },
 "nbformat": 4,
 "nbformat_minor": 4
}
