{
 "cells": [
  {
   "cell_type": "markdown",
   "metadata": {},
   "source": [
    "# Temario del Curso"
   ]
  },
  {
   "cell_type": "markdown",
   "metadata": {},
   "source": [
    "## Curso analisis de datos ambientales con python"
   ]
  },
  {
   "cell_type": "markdown",
   "metadata": {},
   "source": [
    "## Semana 1\n",
    "\n",
    "#### 1. Instalación de Software \n",
    "1. [Git](https://git-scm.com/)  \n",
    "2. [Anaconda](https://www.anaconda.com/)  \n",
    "3. [VSCode](https://code.visualstudio.com/)\n",
    "\n",
    ">(Extensiones de VSCode por descargar):  \n",
    "   - Python   \n",
    "   - Pylance  \n",
    "   - Jupyter   \n",
    "   - Jupyter Notebook Renderers  \n",
    "   - Rainbow CSV  \n",
    "   - Data Wrangler\n",
    "\n",
    ">**Nota: Son necesarias para el correcto manejo de las herramientas del curso**\n",
    "\n",
    "\n",
    "#### 2. Introducción a Git\n",
    "[Manual_de_Git](https://github.com/gilbertoCM/Modelab-Python/tree/a9a01229b48782b75a2381d7e04c7f5e52405db4/manuals/git_manuals)\n",
    "\n",
    "Contenido del manual:\n",
    "   - Gitbash  \n",
    "   - Creado un repositorio nuevo   \n",
    "   - Clonado del repositorio del curso  \n",
    "   - Conociendo el repositorio\n",
    "   - Introducción básica a GitHub\n",
    "\n",
    "#### 3. Introducción a los temas del curso \n",
    "- XXX Faltan mis videos (*de Git*) XXX\n",
    "- [Importancia_de_Python](https://www.youtube.com/watch?v=Rv910T1BJUw)\n",
    "- [Python_Introduction](https://youtu.be/xkZMUX_oQX4?si=C9e3thBStqIlRfy3)\n",
    "\n",
    "\n",
    "#### Conociendo VSCODE y Jupyter\n",
    "Vscode: Primeros pasos y extensiones \n",
    "   - (Listo_09_2025-03-06 19-40-49)\n",
    "\n",
    "Jupyter: Primeros pasos hola mundo \n",
    "   - (LISTO_01_2025-02_12 14-19-52_v2)\n",
    "\n",
    "Jupyter + Mardown \n",
    "   - (LISTO_02_2025-02-12 18-26-38_v2)\n",
    "\n",
    "##### Recurso en linea Sintaxis Basica\n",
    "[Sintaxis_Basica_I](https://youtu.be/yppT6GPZMyo?si=1IyQs0r0fanB4ioj)\n",
    "\n",
    "[Sintaxis_Básica_II_Tipos_operadores_y_variables](https://youtu.be/u4I9PqhqCo8?si=TAC1VbSKIgvXk08g)\n",
    "\n",
    "[Indentación_en_python](https://youtube.com/shorts/YgFDbALg4D4?si=cx4neahOT3YPQxOo)\n",
    "\n",
    "[Ejercicio_Python_Syntax](https://www.w3schools.com/python/python_comments.asp)\n",
    "\n",
    "[Ejercicio_Python_Variables](https://www.w3schools.com/python/python_variables.asp)\n",
    "\n",
    "Funciones en python\n",
    "   - Listo_03_2025-02-12 18-41-04_v3\n",
    "\n",
    "##### Recurso en linea Funciones básicas\n",
    "\n",
    "[Funciones_I](https://youtu.be/VY448UWAQ_0?si=vA94xI7qFzEE0EMc)\n",
    "\n",
    "[Funciones_II](https://youtu.be/vawEHhV_HFA?si=WqGEZehuBaaExwV4)\n",
    "\n",
    "##### Ejercicios\n",
    "[Funciones](https://www.w3schools.com/python/python_functions.asp)\n"
   ]
  },
  {
   "cell_type": "markdown",
   "metadata": {},
   "source": [
    "### Semana 2\n",
    "Estructura de base de datos, archivos CSV\n",
    "    - Listo_04_2025-02-12 13-38-44_v2\n",
    "\n",
    "Lectura de archivos csv\n",
    "    - Listo_05_2025-02-13 13-30-38_v2\n",
    "\n",
    "##### Bases de datos (CSV)\n",
    "\n",
    "Corrección de errores en el Data Base\n",
    "    - Listo_07_2025-02-28 19-21-41\n",
    "\n",
    "Exploración de data frames con panda\n",
    "    - Listo_08_2025-03-06 19-18-59\n",
    "\n",
    "Correcta presentación del Data Base \n",
    "    - Listo_06_2025-02-28 18-52-10\n",
    "\n",
    "\n",
    "*Introducción a Pandas:* \n",
    "[Pandas](https://www.w3schools.com/python/pandas/default.asp)\n",
    "\n",
    "[Pandas_Intro](https://www.w3schools.com/python/pandas/pandas_intro.asp)\n",
    "\n",
    "[Pandas_Get_Started](https://www.w3schools.com/python/pandas/pandas_getting_started.asp)\n",
    "\n",
    "[Pandas_Dataframes](https://www.w3schools.com/python/pandas/pandas_dataframes.asp)\n",
    "\n",
    "[Pandas_CSV](https://www.w3schools.com/python/pandas/pandas_csv.asp)\n",
    "\n",
    "[Pandas_Analyzing](https://www.w3schools.com/python/pandas/pandas_analyzing.asp)\n",
    "\n",
    "- Estadística descriptiva \n",
    "- Medidas de tendencia central\n",
    "- Pruebas de normalidad \n"
   ]
  },
  {
   "cell_type": "markdown",
   "metadata": {},
   "source": [
    "### Semana 3\n",
    "#### Pruebas no paramétricas\n",
    "- Wilkinson (\"t\")\n",
    "- Kruskal (\"ANOVA\")\n",
    "- Post-Hoc\n",
    "- Cajas y bigotes "
   ]
  },
  {
   "cell_type": "markdown",
   "metadata": {},
   "source": [
    "### Semana 4\n",
    "#### Pruebas paramétricas \n",
    "- t student \n",
    "- ANOVA (I y II) vías\n",
    "- Post-Hoc"
   ]
  },
  {
   "cell_type": "markdown",
   "metadata": {},
   "source": [
    "### Semana 5\n",
    "- Regresión lineal \n",
    "    - Mínimos cuadrados \n",
    "    - p < 0.005\n",
    "- Matríz de Correlación "
   ]
  },
  {
   "cell_type": "markdown",
   "metadata": {},
   "source": [
    "### Semana 6\n",
    "- FA\n",
    "- PCA"
   ]
  },
  {
   "cell_type": "markdown",
   "metadata": {},
   "source": [
    "### Semana 7 \n",
    "Kmeas (Redes Neuronales)"
   ]
  },
  {
   "cell_type": "markdown",
   "metadata": {},
   "source": [
    "### Semana 8\n",
    "- Proyecto final \n",
    "- Evaluación "
   ]
  },
  {
   "cell_type": "markdown",
   "metadata": {},
   "source": []
  }
 ],
 "metadata": {
  "language_info": {
   "name": "python"
  }
 },
 "nbformat": 4,
 "nbformat_minor": 2
}
