{
 "cells": [
  {
   "attachments": {},
   "cell_type": "markdown",
   "metadata": {},
   "source": [
    "#   Inferential statistic ANOVA"
   ]
  },
  {
   "cell_type": "code",
   "execution_count": null,
   "metadata": {},
   "outputs": [],
   "source": [
    "def import_csv(file):\n",
    "    # Read the file into a DataFrame: df\n",
    "    import pandas as pd\n",
    "    return pd.read_csv(file)"
   ]
  },
  {
   "cell_type": "code",
   "execution_count": null,
   "metadata": {},
   "outputs": [],
   "source": [
    "# Path to the file to be imported\n",
    "path = \"../data/Terminos_lagoon_TA_DIC_2023_RawData.csv\"\n",
    "\n",
    "# Import the file\n",
    "co2_data = import_csv(path)"
   ]
  },
  {
   "attachments": {},
   "cell_type": "markdown",
   "metadata": {},
   "source": [
    "![Alt text](../scrips/figures/warning.png)"
   ]
  },
  {
   "cell_type": "markdown",
   "metadata": {},
   "source": [
    "### Beware! the data are not normal. This exercise is only an example "
   ]
  },
  {
   "cell_type": "code",
   "execution_count": null,
   "metadata": {},
   "outputs": [],
   "source": [
    "import statsmodels.api as sm\n",
    "from statsmodels.formula.api import ols\n",
    "from statsmodels.stats.multicomp import pairwise_tukeyhsd\n",
    "\n",
    "def two_way_anova_tukey(df, response, factor1, factor2, alpha=0.05):\n",
    "    \"\"\"\n",
    "    Performs a two-way ANOVA and Tukey HSD post-hoc test if significant effects are found.\n",
    "\n",
    "    Parameters:\n",
    "    - df (DataFrame): The dataset.\n",
    "    - response (str): Dependent variable column.\n",
    "    - factor1 (str): First independent variable column.\n",
    "    - factor2 (str): Second independent variable column.\n",
    "    - alpha (float): Significance level (default = 0.05).\n",
    "    \"\"\"\n",
    "    # Fit the two-way ANOVA model and generate the ANOVA table\n",
    "    model = ols(f'{response} ~ C({factor1}) + C({factor2}) + C({factor1}):C({factor2})', data=df).fit()\n",
    "    anova_table = sm.stats.anova_lm(model, typ=2)\n",
    "    print(\"\\nANOVA Results:\\n\", anova_table)\n",
    "\n",
    "    # Run Tukey HSD post-hoc test if significant effects are found\n",
    "    if (anova_table['PR(>F)'] < alpha).any():\n",
    "        print(\"\\nSignificant effects detected. Running Tukey HSD post-hoc test:\")\n",
    "        df['Group'] = df[factor1].astype(str) + \" - \" + df[factor2].astype(str)\n",
    "        tukey = pairwise_tukeyhsd(df[response], df['Group'], alpha=alpha)\n",
    "        print(tukey.summary())\n",
    "    else:\n",
    "        print(\"\\nNo significant effects detected. Post-hoc test is not required.\")"
   ]
  },
  {
   "cell_type": "code",
   "execution_count": null,
   "metadata": {},
   "outputs": [],
   "source": [
    "two_way_anova_tukey(co2_data, response=\"ta_micromol_kg\", factor1=\"season\", factor2=\"estuary\")"
   ]
  }
 ],
 "metadata": {
  "kernelspec": {
   "display_name": "base",
   "language": "python",
   "name": "python3"
  },
  "language_info": {
   "codemirror_mode": {
    "name": "ipython",
    "version": 3
   },
   "file_extension": ".py",
   "mimetype": "text/x-python",
   "name": "python",
   "nbconvert_exporter": "python",
   "pygments_lexer": "ipython3",
   "version": "3.12.3"
  }
 },
 "nbformat": 4,
 "nbformat_minor": 4
}
