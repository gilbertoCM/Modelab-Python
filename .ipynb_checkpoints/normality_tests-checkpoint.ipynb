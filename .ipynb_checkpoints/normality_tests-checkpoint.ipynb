{
 "cells": [
  {
   "attachments": {},
   "cell_type": "markdown",
   "metadata": {},
   "source": [
    "#   Inferential statistic"
   ]
  },
  {
   "cell_type": "code",
   "execution_count": 3,
   "metadata": {},
   "outputs": [],
   "source": [
    "import pandas as pd\n",
    "\n",
    "# Import the air quality dataset \n",
    "\n",
    "CO2Data = pd.read_csv(\"MartinezTrejo_etal_2023_TA_DIC_RawData.csv\")"
   ]
  },
  {
   "attachments": {},
   "cell_type": "markdown",
   "metadata": {},
   "source": [
    "### Shapiro-Wilk Test\n",
    "- If the p-value of the test is greater than α = .05, then the data is assumed to be normally distributed."
   ]
  },
  {
   "cell_type": "code",
   "execution_count": 4,
   "metadata": {},
   "outputs": [
    {
     "name": "stdout",
     "output_type": "stream",
     "text": [
      "ShapiroResult(statistic=0.8797112703323364, pvalue=9.071295181684036e-08)\n"
     ]
    }
   ],
   "source": [
    "from scipy.stats import shapiro \n",
    "\n",
    "#perform Shapiro-Wilk test for normality\n",
    "\n",
    "TA = CO2Data['TA_micromol_kg']\n",
    "\n",
    "shapiro_results = shapiro(TA)\n",
    "\n",
    "print(shapiro_results)\n"
   ]
  },
  {
   "attachments": {},
   "cell_type": "markdown",
   "metadata": {},
   "source": [
    "### Kolmogorov-Smirnov Test\n",
    "- If the p-value of the test is greater than α = .05, then the data is assumed to be normally distributed."
   ]
  },
  {
   "cell_type": "code",
   "execution_count": 5,
   "metadata": {},
   "outputs": [
    {
     "name": "stdout",
     "output_type": "stream",
     "text": [
      "KstestResult(statistic=1.0, pvalue=0.0, statistic_location=2357, statistic_sign=-1)\n"
     ]
    }
   ],
   "source": [
    "from scipy.stats import kstest\n",
    "\n",
    "TA = CO2Data['TA_micromol_kg']\n",
    "\n",
    "#perform Kolmogorov-Smirnov test for normality\n",
    "\n",
    "kstest_results = kstest(TA, 'norm')\n",
    "\n",
    "print(kstest_results)\n"
   ]
  },
  {
   "cell_type": "code",
   "execution_count": null,
   "metadata": {},
   "outputs": [],
   "source": []
  }
 ],
 "metadata": {
  "kernelspec": {
   "display_name": "Python 3.9 (XPython Raw)",
   "language": "python",
   "name": "xpython-raw"
  },
  "language_info": {
   "file_extension": ".py",
   "mimetype": "text/x-python",
   "name": "python",
   "version": "3.9.16"
  }
 },
 "nbformat": 4,
 "nbformat_minor": 4
}
