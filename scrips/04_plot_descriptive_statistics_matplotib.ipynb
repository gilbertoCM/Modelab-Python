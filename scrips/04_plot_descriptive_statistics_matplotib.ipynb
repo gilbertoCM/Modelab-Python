{
 "cells": [
  {
   "cell_type": "markdown",
   "metadata": {},
   "source": [
    "#  Explore environmental data using Pandas "
   ]
  },
  {
   "cell_type": "code",
   "execution_count": null,
   "metadata": {},
   "outputs": [],
   "source": [
    "import pandas as pd\n",
    "\n",
    "# Import the air quality dataset \n",
    "CO2Data = pd.read_csv(\"../data/Terminos_lagoon_TA_DIC__2023_RawData.csv\")\n",
    "\n",
    "print(CO2Data.info())"
   ]
  },
  {
   "cell_type": "markdown",
   "metadata": {},
   "source": [
    "- Plot a simple histogram"
   ]
  },
  {
   "cell_type": "code",
   "execution_count": null,
   "metadata": {},
   "outputs": [],
   "source": [
    "import matplotlib.pyplot as plt\n",
    "\n",
    "# Select data\n",
    "data = CO2Data[\"Sal_psu\"]\n",
    "\n",
    "plt.hist(data, bins=10)\n",
    "plt.xlabel(\"Salinity (PSU)\")\n",
    "plt.ylabel(\"Probablity\")\n",
    "plt.show()"
   ]
  },
  {
   "cell_type": "markdown",
   "metadata": {},
   "source": [
    "- Normalize our inputs by the total number of counts"
   ]
  },
  {
   "cell_type": "code",
   "execution_count": null,
   "metadata": {},
   "outputs": [],
   "source": [
    "# Plot the histogram with density (nomalized)\n",
    "# Select data \n",
    "data = CO2Data[\"Sal_psu\"]\n",
    "\n",
    "\n",
    "plt.hist(data, bins=10, density=True)\n",
    "plt.xlabel(\"Salinity (PSU)\")\n",
    "plt.ylabel(\"Probablity\")\n",
    "plt.show()"
   ]
  },
  {
   "cell_type": "markdown",
   "metadata": {},
   "source": [
    "- Boxplot Demo"
   ]
  },
  {
   "cell_type": "code",
   "execution_count": null,
   "metadata": {},
   "outputs": [],
   "source": [
    "# Plot boxplot for salinity data\n",
    "data = CO2Data[\"Sal_psu\"]\n",
    "\n",
    "fig2, ax2 = plt.subplots()\n",
    "\n",
    "ax2.set_title('Notched boxes')\n",
    "ax2.boxplot(data, notch=True)\n",
    "\n",
    "plt.ylabel('Salinity ($PSU$)', fontsize = 12)\n",
    "plt.show()"
   ]
  },
  {
   "cell_type": "markdown",
   "metadata": {},
   "source": [
    "- Boxplot Demo 2"
   ]
  },
  {
   "cell_type": "code",
   "execution_count": null,
   "metadata": {},
   "outputs": [],
   "source": [
    "# Plot boxplot for TA data\n",
    "green_diamond = dict(markerfacecolor='g', marker='D')\n",
    "fig3, ax3 = plt.subplots()\n",
    "\n",
    "ax3.set_title('Changed Outlier Symbols')\n",
    "\n",
    "ax3.boxplot(data, flierprops=green_diamond)\n",
    "\n",
    "\n",
    "plt.ylabel('TA ($\\mu mol  \\; kg^{-1}$)', fontsize = 12)\n",
    "plt.show()"
   ]
  },
  {
   "cell_type": "markdown",
   "metadata": {},
   "source": [
    "## Home work\n",
    "-  ### Plot histogram of DIC and TA\n"
   ]
  },
  {
   "cell_type": "code",
   "execution_count": null,
   "metadata": {},
   "outputs": [],
   "source": []
  }
 ],
 "metadata": {
  "kernelspec": {
   "display_name": "base",
   "language": "python",
   "name": "python3"
  },
  "language_info": {
   "codemirror_mode": {
    "name": "ipython",
    "version": 3
   },
   "file_extension": ".py",
   "mimetype": "text/x-python",
   "name": "python",
   "nbconvert_exporter": "python",
   "pygments_lexer": "ipython3",
   "version": "3.11.5"
  }
 },
 "nbformat": 4,
 "nbformat_minor": 4
}
