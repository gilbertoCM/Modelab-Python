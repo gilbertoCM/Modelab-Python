{
 "cells": [
  {
   "cell_type": "markdown",
   "metadata": {},
   "source": [
    "#  Importing and explore environmental data using Pandas "
   ]
  },
  {
   "cell_type": "code",
   "execution_count": 3,
   "metadata": {},
   "outputs": [],
   "source": [
    "import pandas as pd\n",
    "\n",
    "# Import the air quality dataset \n",
    "\n",
    "CO2Data = pd.read_csv(\"MartinezTrejo_etal_2023_TA_DIC_RawData.csv\")"
   ]
  },
  {
   "cell_type": "markdown",
   "metadata": {},
   "source": [
    "## Explore a Pandas DataFrame in Python\n"
   ]
  },
  {
   "cell_type": "markdown",
   "metadata": {},
   "source": [
    "- Get the number of rows and columns in the DataFrame"
   ]
  },
  {
   "cell_type": "code",
   "execution_count": 4,
   "metadata": {},
   "outputs": [
    {
     "name": "stdout",
     "output_type": "stream",
     "text": [
      "(106, 21)\n"
     ]
    }
   ],
   "source": [
    "print(CO2Data.shape)"
   ]
  },
  {
   "cell_type": "markdown",
   "metadata": {},
   "source": [
    "- Print the first few rows of the DataFrame"
   ]
  },
  {
   "cell_type": "code",
   "execution_count": 5,
   "metadata": {},
   "outputs": [
    {
     "name": "stdout",
     "output_type": "stream",
     "text": [
      "   Sample        Date     Estuary  ... DIC_micromol_kg TA_micromol_kg dummy_data\n",
      "0  CDL01S  05/03/2020  Candelaria  ...            3915           3863     3863.0\n",
      "1  CDL01F  05/03/2020  Candelaria  ...            3698           3685     3685.0\n",
      "2  CDL02S  05/03/2020  Candelaria  ...            3724           3708     3708.0\n",
      "3  CDL02F  05/03/2020  Candelaria  ...            3667           3992     3992.0\n",
      "4  CDL03S  05/03/2020  Candelaria  ...            2928           3023     3023.0\n",
      "\n",
      "[5 rows x 21 columns]\n"
     ]
    }
   ],
   "source": [
    "print(CO2Data.head())"
   ]
  },
  {
   "cell_type": "markdown",
   "metadata": {},
   "source": [
    "- Get information about the columns in the DataFrame using th"
   ]
  },
  {
   "cell_type": "code",
   "execution_count": 6,
   "metadata": {},
   "outputs": [
    {
     "name": "stdout",
     "output_type": "stream",
     "text": [
      "<class 'pandas.core.frame.DataFrame'>\n",
      "RangeIndex: 106 entries, 0 to 105\n",
      "Data columns (total 21 columns):\n",
      " #   Column                   Non-Null Count  Dtype  \n",
      "---  ------                   --------------  -----  \n",
      " 0   Sample                   106 non-null    object \n",
      " 1   Date                     106 non-null    object \n",
      " 2   Estuary                  106 non-null    object \n",
      " 3   Area                     106 non-null    object \n",
      " 4   Station                  106 non-null    object \n",
      " 5   Layer_depth              106 non-null    object \n",
      " 6   Season                   106 non-null    object \n",
      " 7   Chlorophy_microg_L       106 non-null    float64\n",
      " 8   Cond_microsiemens_cm     106 non-null    float64\n",
      " 9   Depth_m                  106 non-null    float64\n",
      " 10  DO_percent_sat           106 non-null    float64\n",
      " 11  DO_mg_L                  106 non-null    float64\n",
      " 12  Sal_psu                  106 non-null    float64\n",
      " 13  Sp_cond_microsiemens_cm  106 non-null    float64\n",
      " 14  Turbidity_fnu            106 non-null    float64\n",
      " 15  Temp_C                   106 non-null    float64\n",
      " 16  latitude                 106 non-null    float64\n",
      " 17  longitude                106 non-null    float64\n",
      " 18  DIC_micromol_kg          106 non-null    int64  \n",
      " 19  TA_micromol_kg           106 non-null    int64  \n",
      " 20  dummy_data               100 non-null    float64\n",
      "dtypes: float64(12), int64(2), object(7)\n",
      "memory usage: 17.5+ KB\n",
      "None\n"
     ]
    }
   ],
   "source": [
    "print(CO2Data.info())"
   ]
  },
  {
   "cell_type": "markdown",
   "metadata": {},
   "source": [
    "-  Summary of the statistics for each column in the DataFrame "
   ]
  },
  {
   "cell_type": "code",
   "execution_count": 7,
   "metadata": {},
   "outputs": [
    {
     "name": "stdout",
     "output_type": "stream",
     "text": [
      "       Chlorophy_microg_L  Cond_microsiemens_cm  ...  TA_micromol_kg   dummy_data\n",
      "count          106.000000            106.000000  ...      106.000000   100.000000\n",
      "mean             6.545472          27895.183962  ...     2912.915094  2912.490000\n",
      "std             14.941262          20931.232513  ...      472.694346   480.980553\n",
      "min              0.360000             13.800000  ...     2357.000000  2357.000000\n",
      "25%              2.555000           1778.025000  ...     2585.500000  2571.250000\n",
      "50%              3.705000          33202.600000  ...     2823.000000  2816.000000\n",
      "75%              5.925000          47046.650000  ...     3053.750000  3048.750000\n",
      "max            150.900000          59988.600000  ...     4307.000000  4307.000000\n",
      "\n",
      "[8 rows x 14 columns]\n"
     ]
    }
   ],
   "source": [
    "print(CO2Data.describe())"
   ]
  },
  {
   "cell_type": "markdown",
   "metadata": {},
   "source": [
    "-  Group the data by a categorical column, and calculate the mean and standard deviation of a numerical column"
   ]
  },
  {
   "cell_type": "code",
   "execution_count": 8,
   "metadata": {},
   "outputs": [
    {
     "name": "stdout",
     "output_type": "stream",
     "text": [
      "       TA_micromol_kg             DIC_micromol_kg            \n",
      "                 mean         std            mean         std\n",
      "Season                                                       \n",
      "Dry       3092.333333  452.211935     2942.625000  521.669731\n",
      "Rainy     2532.970588  228.041262     2491.676471  259.152198\n"
     ]
    }
   ],
   "source": [
    "grouped_data = CO2Data.groupby(\"Season\")[['TA_micromol_kg', 'DIC_micromol_kg']].agg(['mean', 'std'])\n",
    "print(grouped_data)"
   ]
  },
  {
   "cell_type": "code",
   "execution_count": 9,
   "metadata": {},
   "outputs": [
    {
     "name": "stdout",
     "output_type": "stream",
     "text": [
      "                  TA_micromol_kg             DIC_micromol_kg            \n",
      "                            mean         std            mean         std\n",
      "Season Estuary                                                          \n",
      "Dry    Candelaria    3076.777778  556.680114     2917.055556  630.585893\n",
      "       Palizada      3107.888889  323.177154     2968.194444  391.242257\n",
      "Rainy  Candelaria    2537.062500  192.848635     2474.125000  306.407980\n",
      "       Palizada      2529.333333  260.962923     2507.277778  216.751092\n"
     ]
    }
   ],
   "source": [
    "grouped_data = CO2Data.groupby([\"Season\", \"Estuary\"])[['TA_micromol_kg', 'DIC_micromol_kg']].agg(['mean', 'std'])\n",
    "print(grouped_data)"
   ]
  },
  {
   "attachments": {},
   "cell_type": "markdown",
   "metadata": {},
   "source": [
    "-  Missing values in each column."
   ]
  },
  {
   "cell_type": "code",
   "execution_count": 10,
   "metadata": {},
   "outputs": [
    {
     "name": "stdout",
     "output_type": "stream",
     "text": [
      "Sample                     0\n",
      "Date                       0\n",
      "Estuary                    0\n",
      "Area                       0\n",
      "Station                    0\n",
      "Layer_depth                0\n",
      "Season                     0\n",
      "Chlorophy_microg_L         0\n",
      "Cond_microsiemens_cm       0\n",
      "Depth_m                    0\n",
      "DO_percent_sat             0\n",
      "DO_mg_L                    0\n",
      "Sal_psu                    0\n",
      "Sp_cond_microsiemens_cm    0\n",
      "Turbidity_fnu              0\n",
      "Temp_C                     0\n",
      "latitude                   0\n",
      "longitude                  0\n",
      "DIC_micromol_kg            0\n",
      "TA_micromol_kg             0\n",
      "dummy_data                 6\n",
      "dtype: int64\n"
     ]
    }
   ],
   "source": [
    "# 1. Use the Pandas isnull() function to identify the number of missing values in each column.\n",
    "\n",
    "print(CO2Data.isnull().sum())"
   ]
  },
  {
   "cell_type": "code",
   "execution_count": 11,
   "metadata": {},
   "outputs": [
    {
     "name": "stdout",
     "output_type": "stream",
     "text": [
      "Sample                     0\n",
      "Date                       0\n",
      "Estuary                    0\n",
      "Area                       0\n",
      "Station                    0\n",
      "Layer_depth                0\n",
      "Season                     0\n",
      "Chlorophy_microg_L         0\n",
      "Cond_microsiemens_cm       0\n",
      "Depth_m                    0\n",
      "DO_percent_sat             0\n",
      "DO_mg_L                    0\n",
      "Sal_psu                    0\n",
      "Sp_cond_microsiemens_cm    0\n",
      "Turbidity_fnu              0\n",
      "Temp_C                     0\n",
      "latitude                   0\n",
      "longitude                  0\n",
      "DIC_micromol_kg            0\n",
      "TA_micromol_kg             0\n",
      "dummy_data                 0\n",
      "dtype: int64\n"
     ]
    }
   ],
   "source": [
    "# Replace the missing values in the dummy_data' column with the median value of the column.\n",
    "\n",
    "CO2Data_fixed = CO2Data\n",
    "\n",
    "median_dummy_data = CO2Data['dummy_data'].median()\n",
    "\n",
    "CO2Data_fixed ['dummy_data'].fillna(median_dummy_data, inplace=True)\n",
    "\n",
    "print(CO2Data_fixed.isnull().sum())"
   ]
  }
 ],
 "metadata": {
  "kernelspec": {
   "display_name": "Python 3.9 (XPython Raw)",
   "language": "python",
   "name": "xpython-raw"
  },
  "language_info": {
   "file_extension": ".py",
   "mimetype": "text/x-python",
   "name": "python",
   "version": "3.9.13"
  }
 },
 "nbformat": 4,
 "nbformat_minor": 4
}
