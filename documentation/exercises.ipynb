{
 "cells": [
  {
   "cell_type": "markdown",
   "metadata": {},
   "source": [
    "# Exercises "
   ]
  },
  {
   "cell_type": "markdown",
   "metadata": {},
   "source": [
    "## Exercises Week 1.\n",
    "### 01_hello_world\n",
    "***Part 1: Printing \"Hello, World!\"***\n",
    "\n",
    "Task: Write a Python program that prints the message:\n",
    "\n",
    "***Part 2: Simple Arithmetic Operations***\n",
    "\n",
    "Task: Create a Python script that performs the following operations and prints the results:\n",
    "\n",
    "1. Addition: Add two numbers and print the result.\n",
    "\n",
    "2. Subtraction: Subtract one number from another and print the result.\n",
    "\n",
    "3. Multiplication: Multiply two numbers and print the result.\n",
    "\n",
    "4. Division: Divide one number by another and print the result.\n",
    "\n",
    "Hint: You can use + for addition, - for subtraction, * for multiplication, and / for division.\n",
    "\n",
    "\n",
    "### Syntax Exercises \n",
    "\n",
    "[Exercises_Python_Syntax](https://www.w3schools.com/python/python_comments.asp)\n",
    "\n",
    "[Exercises_Python_Variables](https://www.w3schools.com/python/python_variables.asp)\n",
    "\n",
    "### Function Exercises \n",
    "### 02_functions\n",
    "***Exercise:***\n",
    "\n",
    "Create composite functions that evaluate the absolute value of a number\n",
    "\n",
    "[Functions](https://www.w3schools.com/python/python_functions.asp)\n",
    "\n",
    "\n",
    "### 05_missing_values \n",
    "### Exercises:  \n",
    "    - Create a new column called \"TA_DIC_ratio\" that is the ratio of TA to DIC\n",
    "    - Calculate the mean and standard deviation of the \"TA_DIC_ratio\" for each season\n",
    "    - Calculate the mean and standard deviation of the \"TA_DIC_ratio\" for each season and area\n",
    "    - Save the results to an Excel file called \"TA_DIC_Season_Areas.xlsx\"\n",
    "\n",
    "\n",
    "### 07_plot_descriptive_statistics_matplotib\n",
    "\n",
    "Plot histogram of DIC and TA\n",
    "\n",
    "\n",
    "### 08_plot_descriptive_statistics_seaborn\n",
    "- How can you modify the units of the figures?  \n",
    "- Check the examples at https://seaborn.pydata.org/ and create your own figures. If possible, use your own data.\n",
    "\n",
    "\n",
    "### 09_normality_tests\n",
    "- Respond to the following question: When is it appropriate to use the Kolmogorov-Smirnov test instead of the Shapiro-Wilk test?\n",
    "- Based on the previous answer, perform the appropriate test to assess normality in the DIC (Dissolved Inorganic Carbon) and Salinity datasets."
   ]
  },
  {
   "cell_type": "markdown",
   "metadata": {},
   "source": [
    "## Exercises Week 2\n",
    "### 10_NonParametric_Mann_whitney\n",
    "Evaluate the Mann-Whitney U test for DIC and temperatura. Create boxplots and violin plots for these analyses.\n",
    "\n",
    "\n",
    "### 11_Nonparametric_Kruskall-Wallis\n",
    "Perform Kruskal-Wallis test and plot a box plot for DIC and temperature data.\n"
   ]
  },
  {
   "cell_type": "markdown",
   "metadata": {},
   "source": [
    "## Exercises Week 3\n",
    "### 13_Linear_regression\n",
    "Perform linear regressions of salinity vs temperature and dec vs salinity."
   ]
  },
  {
   "cell_type": "markdown",
   "metadata": {},
   "source": []
  }
 ],
 "metadata": {
  "language_info": {
   "name": "python"
  }
 },
 "nbformat": 4,
 "nbformat_minor": 2
}
