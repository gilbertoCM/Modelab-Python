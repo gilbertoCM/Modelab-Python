{
 "cells": [
  {
   "attachments": {},
   "cell_type": "markdown",
   "metadata": {},
   "source": [
    "#  Importing and explore environmental data using Pandas "
   ]
  },
  {
   "cell_type": "code",
   "execution_count": 2,
   "metadata": {},
   "outputs": [
    {
     "ename": "AttributeError",
     "evalue": "module 'pandas' has no attribute 'read_csv'",
     "output_type": "error",
     "traceback": [
      "\u001b[1;31m---------------------------------------------------------------------------\u001b[0m",
      "\u001b[1;31mAttributeError\u001b[0m                            Traceback (most recent call last)",
      "Cell \u001b[1;32mIn[2], line 5\u001b[0m\n\u001b[0;32m      1\u001b[0m \u001b[39mimport\u001b[39;00m \u001b[39mpandas\u001b[39;00m \u001b[39mas\u001b[39;00m \u001b[39mpd\u001b[39;00m\n\u001b[0;32m      3\u001b[0m \u001b[39m# Import the air quality dataset \u001b[39;00m\n\u001b[1;32m----> 5\u001b[0m CO2Data \u001b[39m=\u001b[39m pd\u001b[39m.\u001b[39;49mread_csv(\u001b[39m\"\u001b[39m\u001b[39mMartinezTrejo_etal_2023_TA_DIC_RawData.csv\u001b[39m\u001b[39m\"\u001b[39m)\n",
      "\u001b[1;31mAttributeError\u001b[0m: module 'pandas' has no attribute 'read_csv'"
     ]
    }
   ],
   "source": [
    "import pandas as pd\n",
    "\n",
    "# Import the air quality dataset \n",
    "\n",
    "CO2Data = pd.read_csv(\"MartinezTrejo_etal_2023_TA_DIC_RawData.csv\")"
   ]
  },
  {
   "attachments": {},
   "cell_type": "markdown",
   "metadata": {},
   "source": [
    "## Explore a Pandas DataFrame in Python\n"
   ]
  },
  {
   "cell_type": "markdown",
   "metadata": {},
   "source": [
    "- Get the number of rows and columns in the DataFrame"
   ]
  },
  {
   "cell_type": "code",
   "execution_count": 25,
   "metadata": {},
   "outputs": [
    {
     "name": "stdout",
     "output_type": "stream",
     "text": [
      "(106, 20)\n"
     ]
    }
   ],
   "source": [
    "print(CO2Data.shape)"
   ]
  },
  {
   "attachments": {},
   "cell_type": "markdown",
   "metadata": {},
   "source": [
    "- Print the first few rows of the DataFrame"
   ]
  },
  {
   "cell_type": "code",
   "execution_count": 26,
   "metadata": {},
   "outputs": [
    {
     "name": "stdout",
     "output_type": "stream",
     "text": [
      "   Sample        Date     Estuary  ... longitude DIC_micromol_kg TA_micromol_kg\n",
      "0  CDL01S  05/03/2020  Candelaria  ... -91.25012            3915           3863\n",
      "1  CDL01F  05/03/2020  Candelaria  ... -91.24990            3698           3685\n",
      "2  CDL02S  05/03/2020  Candelaria  ... -91.24410            3724           3708\n",
      "3  CDL02F  05/03/2020  Candelaria  ... -91.24403            3667           3992\n",
      "4  CDL03S  05/03/2020  Candelaria  ... -91.29359            2928           3023\n",
      "\n",
      "[5 rows x 20 columns]\n"
     ]
    }
   ],
   "source": [
    "print(CO2Data.head())"
   ]
  },
  {
   "attachments": {},
   "cell_type": "markdown",
   "metadata": {},
   "source": [
    "- Get information about the columns in the DataFrame using th"
   ]
  },
  {
   "cell_type": "code",
   "execution_count": 27,
   "metadata": {},
   "outputs": [
    {
     "name": "stdout",
     "output_type": "stream",
     "text": [
      "<class 'pandas.core.frame.DataFrame'>\n",
      "RangeIndex: 106 entries, 0 to 105\n",
      "Data columns (total 20 columns):\n",
      " #   Column                   Non-Null Count  Dtype  \n",
      "---  ------                   --------------  -----  \n",
      " 0   Sample                   106 non-null    object \n",
      " 1   Date                     106 non-null    object \n",
      " 2   Estuary                  106 non-null    object \n",
      " 3   Area                     106 non-null    object \n",
      " 4   Station                  106 non-null    object \n",
      " 5   Layer_depth              106 non-null    object \n",
      " 6   Season                   106 non-null    object \n",
      " 7   Chlorophy_microg_L       106 non-null    float64\n",
      " 8   Cond_microsiemens_cm     106 non-null    float64\n",
      " 9   Depth_m                  106 non-null    float64\n",
      " 10  DO_percent_sat           106 non-null    float64\n",
      " 11  DO_mg_L                  106 non-null    float64\n",
      " 12  Sal_psu                  106 non-null    float64\n",
      " 13  Sp_cond_microsiemens_cm  106 non-null    float64\n",
      " 14  Turbidity_fnu            106 non-null    float64\n",
      " 15  Temp_C                   106 non-null    float64\n",
      " 16  latitude                 106 non-null    float64\n",
      " 17  longitude                106 non-null    float64\n",
      " 18  DIC_micromol_kg          106 non-null    int64  \n",
      " 19  TA_micromol_kg           106 non-null    int64  \n",
      "dtypes: float64(11), int64(2), object(7)\n",
      "memory usage: 16.7+ KB\n",
      "None\n"
     ]
    }
   ],
   "source": [
    "print(CO2Data.info())"
   ]
  },
  {
   "attachments": {},
   "cell_type": "markdown",
   "metadata": {},
   "source": [
    "-  Summary of the statistics for each column in the DataFrame "
   ]
  },
  {
   "cell_type": "code",
   "execution_count": 28,
   "metadata": {},
   "outputs": [
    {
     "name": "stdout",
     "output_type": "stream",
     "text": [
      "       Chlorophy_microg_L  ...  TA_micromol_kg\n",
      "count          106.000000  ...      106.000000\n",
      "mean             6.545472  ...     2912.915094\n",
      "std             14.941262  ...      472.694346\n",
      "min              0.360000  ...     2357.000000\n",
      "25%              2.555000  ...     2585.500000\n",
      "50%              3.705000  ...     2823.000000\n",
      "75%              5.925000  ...     3053.750000\n",
      "max            150.900000  ...     4307.000000\n",
      "\n",
      "[8 rows x 13 columns]\n"
     ]
    }
   ],
   "source": [
    "print(CO2Data.describe())"
   ]
  },
  {
   "attachments": {},
   "cell_type": "markdown",
   "metadata": {},
   "source": [
    "-  Group the data by a categorical column, and calculate the mean and standard deviation of a numerical column"
   ]
  },
  {
   "cell_type": "code",
   "execution_count": 45,
   "metadata": {},
   "outputs": [
    {
     "name": "stderr",
     "output_type": "stream",
     "text": [
      "C:/Users/gilkn/AppData/Local/Temp/xpython_7940/1035587906.py:1: FutureWarning: Indexing with multiple keys (implicitly converted to a tuple of keys) will be deprecated, use a list instead.\n"
     ]
    },
    {
     "name": "stdout",
     "output_type": "stream",
     "text": [
      "       TA_micromol_kg             DIC_micromol_kg            \n",
      "                 mean         std            mean         std\n",
      "Season                                                       \n",
      "Dry       3092.333333  452.211935     2942.625000  521.669731\n",
      "Rainy     2532.970588  228.041262     2491.676471  259.152198\n"
     ]
    }
   ],
   "source": [
    "grouped_data = CO2Data.groupby(\"Season\")['TA_micromol_kg', 'DIC_micromol_kg'].agg(['mean', 'std'])\n",
    "print(grouped_data)"
   ]
  },
  {
   "cell_type": "code",
   "execution_count": null,
   "metadata": {},
   "outputs": [],
   "source": []
  },
  {
   "cell_type": "code",
   "execution_count": 43,
   "metadata": {},
   "outputs": [
    {
     "name": "stderr",
     "output_type": "stream",
     "text": [
      "C:/Users/gilkn/AppData/Local/Temp/xpython_7940/560814279.py:1: FutureWarning: ['Sample', 'Date', 'Area', 'Station', 'Layer_depth'] did not aggregate successfully. If any error is raised this will raise in a future version of pandas. Drop these columns/ops to avoid this warning.\n"
     ]
    },
    {
     "name": "stdout",
     "output_type": "stream",
     "text": [
      "                  Chlorophy_microg_L             ... TA_micromol_kg            \n",
      "                                mean        std  ...           mean         std\n",
      "Season Estuary                                   ...                           \n",
      "Dry    Candelaria           7.992222  24.956898  ...    3076.777778  556.680114\n",
      "       Palizada             6.770833   5.703758  ...    3107.888889  323.177154\n",
      "Rainy  Candelaria           5.168125   3.588250  ...    2537.062500  192.848635\n",
      "       Palizada             4.425556   2.662302  ...    2529.333333  260.962923\n",
      "\n",
      "[4 rows x 26 columns]\n"
     ]
    }
   ],
   "source": [
    "grouped_data = CO2Data.groupby([\"Season\", \"Estuary\"]).agg(['mean', 'std'])\n",
    "print(grouped_data)\n"
   ]
  },
  {
   "cell_type": "markdown",
   "metadata": {},
   "source": []
  },
  {
   "cell_type": "code",
   "execution_count": 29,
   "metadata": {},
   "outputs": [
    {
     "name": "stdout",
     "output_type": "stream",
     "text": [
      "Sample                     0\n",
      "Date                       0\n",
      "Estuary                    0\n",
      "Area                       0\n",
      "Station                    0\n",
      "Layer_depth                0\n",
      "Season                     0\n",
      "Chlorophy_microg_L         0\n",
      "Cond_microsiemens_cm       0\n",
      "Depth_m                    0\n",
      "DO_percent_sat             0\n",
      "DO_mg_L                    0\n",
      "Sal_psu                    0\n",
      "Sp_cond_microsiemens_cm    0\n",
      "Turbidity_fnu              0\n",
      "Temp_C                     0\n",
      "latitude                   0\n",
      "longitude                  0\n",
      "DIC_micromol_kg            0\n",
      "TA_micromol_kg             0\n",
      "dtype: int64\n"
     ]
    },
    {
     "ename": "KeyError",
     "evalue": "'PM2.5'",
     "output_type": "error",
     "traceback": [
      "\u001b[0;31m---------------------------------------------------------------------------\u001b[0m\n\u001b[0;31mKeyError\u001b[0m                                  Traceback (most recent call last)",
      "In  \u001b[0;34m[29]\u001b[0m:\nLine \u001b[0;34m9\u001b[0m:     \n",
      "File \u001b[0;34mC:\\Users\\gilkn\\anaconda3\\lib\\site-packages\\pandas\\core\\frame.py\u001b[0m, in \u001b[0;32m__getitem__\u001b[0m:\nLine \u001b[0;34m3805\u001b[0m:  indexer = \u001b[36mself\u001b[39;49;00m.columns.get_loc(key)\n",
      "File \u001b[0;34mC:\\Users\\gilkn\\anaconda3\\lib\\site-packages\\pandas\\core\\indexes\\base.py\u001b[0m, in \u001b[0;32mget_loc\u001b[0m:\nLine \u001b[0;34m3805\u001b[0m:  \u001b[34mraise\u001b[39;49;00m \u001b[36mKeyError\u001b[39;49;00m(key) \u001b[34mfrom\u001b[39;49;00m \u001b[04m\u001b[36merr\u001b[39;49;00m\n",
      "\u001b[0;31mKeyError\u001b[0m: 'PM2.5'\n\u001b[0;31m---------------------------------------------------------------------------\u001b[0m"
     ]
    }
   ],
   "source": [
    "\n",
    "\n",
    "\n",
    "# 2. Use the Pandas isnull() function to identify the number of missing values in each column.\n",
    "print(CO2Data.isnull().sum())\n",
    "\n",
    "# 3. Replace the missing values in the 'PM2.5' column with the median value of the column.\n",
    "\n",
    "median_pm25 = CO2Data['PM2.5'].median()\n",
    "\n",
    "CO2Data['PM2.5'].fillna(median_pm25, inplace=True)\n",
    "\n",
    "# 4. Replace the missing values in the 'O3' column with the mean value of the column.\n",
    "mean_o3 = CO2Data['O3'].mean()\n",
    "\n",
    "\n",
    "air_quality['O3'].fillna(mean_o3, inplace=True)"
   ]
  },
  {
   "attachments": {},
   "cell_type": "markdown",
   "metadata": {},
   "source": [
    "- Scatter plot  with linear regretion"
   ]
  },
  {
   "attachments": {},
   "cell_type": "markdown",
   "metadata": {},
   "source": [
    "- Perform  least squares (OLS) regression"
   ]
  }
 ],
 "metadata": {
  "kernelspec": {
   "display_name": "base",
   "language": "python",
   "name": "python3"
  },
  "language_info": {
   "codemirror_mode": {
    "name": "ipython",
    "version": 3
   },
   "file_extension": ".py",
   "mimetype": "text/x-python",
   "name": "python",
   "nbconvert_exporter": "python",
   "pygments_lexer": "ipython3",
   "version": "3.10.9"
  },
  "orig_nbformat": 4
 },
 "nbformat": 4,
 "nbformat_minor": 2
}
