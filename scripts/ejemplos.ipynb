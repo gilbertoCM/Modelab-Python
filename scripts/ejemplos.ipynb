{
 "cells": [
  {
   "cell_type": "markdown",
   "id": "6b13a64c",
   "metadata": {},
   "source": [
    "# Ejemplos"
   ]
  },
  {
   "cell_type": "markdown",
   "id": "642ce1c5",
   "metadata": {},
   "source": [
    "## 00_markdown"
   ]
  },
  {
   "cell_type": "markdown",
   "id": "f328f079",
   "metadata": {},
   "source": [
    "## 01_hello_world"
   ]
  },
  {
   "cell_type": "markdown",
   "id": "a9b178b3",
   "metadata": {},
   "source": [
    "## Exercises \n",
    "### Part 1: Printing \"Hello, World!\"\n",
    "Task: Write a Python program that prints the message:"
   ]
  },
  {
   "cell_type": "code",
   "execution_count": 2,
   "id": "e4380125",
   "metadata": {},
   "outputs": [
    {
     "name": "stdout",
     "output_type": "stream",
     "text": [
      "ejemplos de ejercicios\n"
     ]
    }
   ],
   "source": [
    "print(\"ejemplos de ejercicios\")"
   ]
  },
  {
   "cell_type": "markdown",
   "id": "47585436",
   "metadata": {},
   "source": [
    "### Part 2: Simple Arithmetic Operations \n",
    "Task: Create a Python script that performs the following oparations and prints the results:"
   ]
  },
  {
   "cell_type": "markdown",
   "id": "5691fa8e",
   "metadata": {},
   "source": [
    "1. Addition: Add two numbers and print the result."
   ]
  },
  {
   "cell_type": "code",
   "execution_count": 5,
   "id": "fdcfc1b7",
   "metadata": {},
   "outputs": [
    {
     "name": "stdout",
     "output_type": "stream",
     "text": [
      "15\n"
     ]
    }
   ],
   "source": [
    "a = 10\n",
    "b = 5\n",
    "c= a + b\n",
    "print(c)"
   ]
  },
  {
   "cell_type": "markdown",
   "id": "6aea21e5",
   "metadata": {},
   "source": [
    "2. Subtratction: Subtract one number from another and print the result"
   ]
  },
  {
   "cell_type": "code",
   "execution_count": 6,
   "id": "7a5de424",
   "metadata": {},
   "outputs": [
    {
     "name": "stdout",
     "output_type": "stream",
     "text": [
      "5\n"
     ]
    }
   ],
   "source": [
    "c = a - b\n",
    "print (c)"
   ]
  },
  {
   "cell_type": "markdown",
   "id": "6bf6f417",
   "metadata": {},
   "source": [
    "3. Multiplication: Multiply two numbers and print the result"
   ]
  },
  {
   "cell_type": "code",
   "execution_count": 7,
   "id": "852d2a59",
   "metadata": {},
   "outputs": [
    {
     "name": "stdout",
     "output_type": "stream",
     "text": [
      "50\n"
     ]
    }
   ],
   "source": [
    "c = a * b\n",
    "print(c)"
   ]
  },
  {
   "cell_type": "markdown",
   "id": "37ad00f4",
   "metadata": {},
   "source": [
    "4. Division: Divide one number by another and print the result "
   ]
  },
  {
   "cell_type": "code",
   "execution_count": 8,
   "id": "3cbd1dcb",
   "metadata": {},
   "outputs": [
    {
     "name": "stdout",
     "output_type": "stream",
     "text": [
      "2.0\n"
     ]
    }
   ],
   "source": [
    "c = a / b\n",
    "print(c)"
   ]
  },
  {
   "cell_type": "markdown",
   "id": "ec166477",
   "metadata": {},
   "source": [
    "## 02_functions"
   ]
  },
  {
   "cell_type": "markdown",
   "id": "8b6afd7e",
   "metadata": {},
   "source": [
    "## Exercises\n",
    "Task: Create composite functions that evaluate the absolute value of a number "
   ]
  },
  {
   "cell_type": "markdown",
   "id": "db20471d",
   "metadata": {},
   "source": [
    "### $$ g(x) = (a - 5)$$\n",
    "### $$ f(x) =\\dfrac{1}{x*5}$$\n",
    "## $$f[g(x)] = \\dfrac{1}{(a - 5)*5}$$ \n",
    "$$\n",
    "\\left| f[g(x)] \\right| = \\left| \\dfrac{1}{(a - 5) \\cdot 5} \\right|\n",
    "$$"
   ]
  },
  {
   "cell_type": "code",
   "execution_count": 9,
   "id": "7345acd0",
   "metadata": {},
   "outputs": [],
   "source": [
    "def substraction(num1):\n",
    "    return num1 - 5"
   ]
  },
  {
   "cell_type": "code",
   "execution_count": 11,
   "id": "09fb5068",
   "metadata": {},
   "outputs": [],
   "source": [
    "def subtraction_plus (substraction):\n",
    "    return substraction*5"
   ]
  },
  {
   "cell_type": "code",
   "execution_count": 17,
   "id": "e29d5a3e",
   "metadata": {},
   "outputs": [],
   "source": [
    "def denominator(x) :\n",
    "    return subtraction_plus(substraction(x))"
   ]
  },
  {
   "cell_type": "code",
   "execution_count": 19,
   "id": "ceba334e",
   "metadata": {},
   "outputs": [],
   "source": [
    "def reciprocal (x) :\n",
    "    return 1/ denominator (x)"
   ]
  },
  {
   "cell_type": "code",
   "execution_count": 25,
   "id": "847d2c81",
   "metadata": {},
   "outputs": [],
   "source": [
    "def composite_function(x):\n",
    "    return abs(reciprocal(x))"
   ]
  },
  {
   "cell_type": "code",
   "execution_count": 26,
   "id": "edb12c25",
   "metadata": {},
   "outputs": [
    {
     "data": {
      "text/plain": [
       "0.05"
      ]
     },
     "execution_count": 26,
     "metadata": {},
     "output_type": "execute_result"
    }
   ],
   "source": [
    "composite_function(1)"
   ]
  },
  {
   "cell_type": "code",
   "execution_count": 29,
   "id": "544889f2",
   "metadata": {},
   "outputs": [
    {
     "data": {
      "text/plain": [
       "0.013333333333333334"
      ]
     },
     "execution_count": 29,
     "metadata": {},
     "output_type": "execute_result"
    }
   ],
   "source": [
    "composite_function (-10)"
   ]
  },
  {
   "cell_type": "markdown",
   "id": "1522d90d",
   "metadata": {},
   "source": [
    "## 05_missing_values"
   ]
  },
  {
   "cell_type": "markdown",
   "id": "59b6b80a",
   "metadata": {},
   "source": [
    "- Create a new column called \"TA_DIC_ratio\" that is the ratio of TA to DIC\n",
    "- Calculate the mean and standard deviation of the \"TA_DIC_ratio\" for each season\n",
    "- Calculate the mean and standard deviation of the \"TA_DIC_ratio\" for each season and area\n",
    "- Save the results to an Excel file called \"TA_DIC_Season_Areas.xlsx"
   ]
  },
  {
   "cell_type": "code",
   "execution_count": null,
   "id": "01836135",
   "metadata": {},
   "outputs": [],
   "source": []
  }
 ],
 "metadata": {
  "kernelspec": {
   "display_name": "base",
   "language": "python",
   "name": "python3"
  },
  "language_info": {
   "codemirror_mode": {
    "name": "ipython",
    "version": 3
   },
   "file_extension": ".py",
   "mimetype": "text/x-python",
   "name": "python",
   "nbconvert_exporter": "python",
   "pygments_lexer": "ipython3",
   "version": "3.12.7"
  }
 },
 "nbformat": 4,
 "nbformat_minor": 5
}
