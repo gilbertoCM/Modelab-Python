{
 "cells": [
  {
   "attachments": {},
   "cell_type": "markdown",
   "metadata": {},
   "source": [
    "- Import library and read data with pandas "
   ]
  },
  {
   "cell_type": "code",
   "execution_count": null,
   "metadata": {},
   "outputs": [],
   "source": [
    "import pandas as pd\n",
    "CO2Data = pd.read_csv(\"MartinezTrejo_etal_2023_TA_DIC_RawData.csv\")"
   ]
  },
  {
   "attachments": {},
   "cell_type": "markdown",
   "metadata": {},
   "source": [
    "- Scatter plot  with linear regretion"
   ]
  },
  {
   "cell_type": "code",
   "execution_count": null,
   "metadata": {},
   "outputs": [],
   "source": [
    "import matplotlib.pyplot as plt\n",
    "from scipy import stats\n",
    "\n",
    "x = CO2Data['TA_micromol_kg']\n",
    "y = CO2Data['DIC_micromol_kg']\n",
    "\n",
    "plt.scatter(x, y, label='original data')\n",
    "\n",
    "# Add labels and title\n",
    "plt.xlabel('TA ($\\mu mol  \\; kg^{-1}$)', fontsize = 12, )\n",
    "plt.ylabel('DIC ($\\mu mol  \\; kg^{-1}$)', fontsize = 12)\n",
    "\n",
    "# Calculate the linear regression line\n",
    "slope, intercept, r_value, p_value, std_err = stats.linregress(x, y)\n",
    "\n",
    "# Plot linear regression \n",
    "\n",
    "plt.plot(x, intercept + slope*x, 'r', label='fitted line')\n",
    "\n",
    "# set the figure size\n",
    "plt.gcf().set_size_inches(6, 4)\n",
    "\n",
    "# save the plot as a PDF file paper format \n",
    "\n",
    "plt.savefig('DIC_TA_pH.pdf', dpi=300, bbox_inches='tight')\n",
    "\n",
    "plt.show()"
   ]
  },
  {
   "cell_type": "code",
   "execution_count": null,
   "metadata": {},
   "outputs": [],
   "source": [
    "print(\"r-squared:\", r_value**2)\n",
    "print(\"p_value:\", p_value)"
   ]
  },
  {
   "attachments": {},
   "cell_type": "markdown",
   "metadata": {},
   "source": [
    "- Perform  least squares (OLS) regression"
   ]
  },
  {
   "cell_type": "code",
   "execution_count": null,
   "metadata": {},
   "outputs": [],
   "source": [
    "import statsmodels.api as sm\n",
    "\n",
    "#define predictor and response variables\n",
    "x = CO2Data['TA_micromol_kg']\n",
    "y = CO2Data['DIC_micromol_kg']\n",
    "\n",
    "#add constant to predictor variables\n",
    "x = sm.add_constant(x)\n",
    "\n",
    "#fit linear regression model\n",
    "model = sm.OLS(y, x).fit()\n",
    "\n",
    "#view model summary\n",
    "print(model.summary())\n",
    "\n",
    "# export model summary to text file\n",
    "with open('model_summary.txt', 'w') as file:\n",
    "    file.write(model.summary().as_text())"
   ]
  },
  {
   "cell_type": "code",
   "execution_count": null,
   "metadata": {},
   "outputs": [],
   "source": []
  }
 ],
 "metadata": {
  "kernelspec": {
   "display_name": "Python 3 (ipykernel)",
   "language": "python",
   "name": "python3"
  },
  "language_info": {
   "codemirror_mode": {
    "name": "ipython",
    "version": 3
   },
   "file_extension": ".py",
   "mimetype": "text/x-python",
   "name": "python",
   "nbconvert_exporter": "python",
   "pygments_lexer": "ipython3",
   "version": "3.10.9"
  }
 },
 "nbformat": 4,
 "nbformat_minor": 4
}
