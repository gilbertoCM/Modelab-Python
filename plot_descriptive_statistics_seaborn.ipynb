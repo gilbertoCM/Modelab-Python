{
 "cells": [
  {
   "cell_type": "markdown",
   "metadata": {},
   "source": [
    "#  Seaborn: statistical data visualization"
   ]
  },
  {
   "cell_type": "code",
   "execution_count": 4,
   "metadata": {},
   "outputs": [
    {
     "name": "stdout",
     "output_type": "stream",
     "text": [
      "<class 'pandas.core.frame.DataFrame'>\n",
      "RangeIndex: 106 entries, 0 to 105\n",
      "Data columns (total 21 columns):\n",
      " #   Column                   Non-Null Count  Dtype  \n",
      "---  ------                   --------------  -----  \n",
      " 0   Sample                   106 non-null    object \n",
      " 1   Date                     106 non-null    object \n",
      " 2   Estuary                  106 non-null    object \n",
      " 3   Area                     106 non-null    object \n",
      " 4   Station                  106 non-null    object \n",
      " 5   Layer_depth              106 non-null    object \n",
      " 6   Season                   106 non-null    object \n",
      " 7   Chlorophy_microg_L       106 non-null    float64\n",
      " 8   Cond_microsiemens_cm     106 non-null    float64\n",
      " 9   Depth_m                  106 non-null    float64\n",
      " 10  DO_percent_sat           106 non-null    float64\n",
      " 11  DO_mg_L                  106 non-null    float64\n",
      " 12  Sal_psu                  106 non-null    float64\n",
      " 13  Sp_cond_microsiemens_cm  106 non-null    float64\n",
      " 14  Turbidity_fnu            106 non-null    float64\n",
      " 15  Temp_C                   106 non-null    float64\n",
      " 16  latitude                 106 non-null    float64\n",
      " 17  longitude                106 non-null    float64\n",
      " 18  DIC_micromol_kg          106 non-null    int64  \n",
      " 19  TA_micromol_kg           106 non-null    int64  \n",
      " 20  dummy_data               100 non-null    float64\n",
      "dtypes: float64(12), int64(2), object(7)\n",
      "memory usage: 17.5+ KB\n",
      "None\n"
     ]
    }
   ],
   "source": [
    "import pandas as pd\n",
    "\n",
    "# Import the air quality dataset \n",
    "\n",
    "CO2Data = pd.read_csv(\"MartinezTrejo_etal_2023_TA_DIC_RawData.csv\")\n",
    "\n",
    "print(CO2Data.info())"
   ]
  },
  {
   "attachments": {},
   "cell_type": "markdown",
   "metadata": {},
   "source": [
    "- load libs and set figure"
   ]
  },
  {
   "cell_type": "code",
   "execution_count": 5,
   "metadata": {},
   "outputs": [],
   "source": [
    "import seaborn as sns\n",
    "import matplotlib.pyplot as plt \n",
    "\n",
    "#create your own color array (viridis)\n",
    "\n",
    "my_colors = [\"#5ec962\", \"#3b528b\"]\n",
    "\n",
    "# add color array to set_palette\n",
    "sns.set(font_scale=2, style=\"ticks\", palette= my_colors)"
   ]
  },
  {
   "attachments": {},
   "cell_type": "markdown",
   "metadata": {},
   "source": [
    "- plot boxplot with Catplot in Seaborn"
   ]
  },
  {
   "cell_type": "code",
   "execution_count": 7,
   "metadata": {},
   "outputs": [],
   "source": [
    "ax = sns.catplot(data=CO2Data,\n",
    "                 x=\"Area\", y=\"TA_micromol_kg\",\n",
    "                hue=\"Season\", col=\"Estuary\",\n",
    "                kind=\"box\", \n",
    "                height=7, aspect=1)\n",
    "\n",
    "  \n",
    "ax.set(xlabel='', ylabel=' TA ($\\mu mol \\; kg^{-1}$)')\n",
    "\n",
    "ax.set_titles(col_template=\"{col_name}\", row_template=\"{row_name}\")\n",
    "\n",
    "plt.setp(ax._legend.get_title(), fontsize=20)\n",
    "\n",
    "sns.despine(top=False,right=False)\n",
    "\n",
    "plt.show()"
   ]
  },
  {
   "attachments": {},
   "cell_type": "markdown",
   "metadata": {},
   "source": [
    "- plot a violin with Catplot in Seaborn"
   ]
  },
  {
   "cell_type": "code",
   "execution_count": 8,
   "metadata": {},
   "outputs": [],
   "source": [
    "ax = sns.catplot(data=CO2Data, \n",
    "                x=\"Area\", y=\"TA_micromol_kg\",\n",
    "                hue=\"Season\", col=\"Estuary\", \n",
    "                kind=\"violin\", \n",
    "                height=7, aspect=1)\n",
    "\n",
    "  \n",
    "ax.set(xlabel='', ylabel=' TA ($\\mu mol \\; kg^{-1}$)')\n",
    "\n",
    "ax.set_titles(col_template=\"{col_name}\", row_template=\"{row_name}\")\n",
    "\n",
    "plt.setp(ax._legend.get_title(), fontsize=20)\n",
    "\n",
    "sns.despine(top=False,right=False)\n",
    "\n",
    "plt.show()"
   ]
  },
  {
   "attachments": {},
   "cell_type": "markdown",
   "metadata": {},
   "source": [
    "- Plotting a three-way ANOVA"
   ]
  },
  {
   "cell_type": "code",
   "execution_count": 9,
   "metadata": {},
   "outputs": [],
   "source": [
    "\n",
    "# Draw a pointplot to show pulse as a function of three categorical factors\n",
    "ax = sns.catplot(\n",
    "    data=CO2Data, x=\"Season\", \n",
    "    y=\"TA_micromol_kg\", hue=\"Estuary\", col=\"Area\",\n",
    "    capsize=.2, palette=\"YlGnBu_d\", errorbar=\"se\",\n",
    "    kind=\"point\", height=6, aspect=.75,\n",
    ")\n",
    "ax.despine(left=True)\n",
    "\n",
    "ax.set(xlabel='', ylabel=' TA ($\\mu mol \\; kg^{-1}$)')\n",
    "\n",
    "ax.set_titles(col_template=\"{col_name}\", row_template=\"{row_name}\")\n",
    "\n",
    "plt.setp(ax._legend.get_title(), fontsize=20)\n",
    "\n",
    "sns.despine(top=False,right=False)\n",
    "\n",
    "plt.show()\n"
   ]
  },
  {
   "attachments": {},
   "cell_type": "markdown",
   "metadata": {},
   "source": [
    "- Scatterplots DIC vs Salinity by Estuary "
   ]
  },
  {
   "cell_type": "code",
   "execution_count": 10,
   "metadata": {},
   "outputs": [],
   "source": [
    "ax = sns.lmplot(x=\"Sal_psu\", y=\"TA_micromol_kg\",\n",
    "                hue=\"Season\",col=\"Estuary\",\n",
    "                data=CO2Data, \n",
    "                height=7, aspect=1)\n",
    "\n",
    "ax.set(xlabel='Salinity (PSU)', ylabel=' DIC ($\\mu mol \\; kg^{-1}$)')\n",
    "\n",
    "ax.set_titles(col_template=\"{col_name}\", row_template=\"{row_name}\")\n",
    "\n",
    "plt.setp(ax._legend.get_title(), fontsize=20)\n",
    "\n",
    "sns.despine(top=False,right=False)\n",
    "\n",
    "plt.show()"
   ]
  }
 ],
 "metadata": {
  "kernelspec": {
   "display_name": "Python 3.9 (XPython Raw)",
   "language": "python",
   "name": "xpython-raw"
  },
  "language_info": {
   "file_extension": ".py",
   "mimetype": "text/x-python",
   "name": "python",
   "version": "3.9.13"
  },
  "orig_nbformat": 4
 },
 "nbformat": 4,
 "nbformat_minor": 2
}
