{
 "cells": [
  {
   "attachments": {},
   "cell_type": "markdown",
   "metadata": {},
   "source": [
    "- Import library and read data with pandas "
   ]
  },
  {
   "cell_type": "code",
   "execution_count": null,
   "metadata": {},
   "outputs": [],
   "source": [
    "import pandas as pd\n",
    "CO2Data = pd.read_csv(\"../data/Terminos_lagoon_TA_DIC__2023_RawData.csv\")"
   ]
  },
  {
   "attachments": {},
   "cell_type": "markdown",
   "metadata": {},
   "source": [
    "### Scatter plot  with linear regretion = scipy.stats.linregress\n",
    "\n",
    "A simple and quick function for performing linear regression on two variables. It calculates the slope, intercept, R-squared, p-value, and standard error. Best for basic, exploratory analysis with one independent variable."
   ]
  },
  {
   "cell_type": "code",
   "execution_count": null,
   "metadata": {},
   "outputs": [],
   "source": [
    "import matplotlib.pyplot as plt\n",
    "from scipy import stats\n",
    "\n",
    "x = CO2Data['ta_micromol_kg']\n",
    "y = CO2Data['dic_micromol_kg']\n",
    "\n",
    "plt.scatter(x, y, label='original data')\n",
    "\n",
    "# Add labels and title\n",
    "plt.xlabel('TA ($\\mu mol  \\; kg^{-1}$)', fontsize = 12, )\n",
    "plt.ylabel('DIC ($\\mu mol  \\; kg^{-1}$)', fontsize = 12)\n",
    "\n",
    "# Calculate the linear regression line\n",
    "slope, intercept, r_value, p_value, std_err = stats.linregress(x, y)\n",
    "\n",
    "# Plot linear regression \n",
    "\n",
    "plt.plot(x, intercept + slope*x, 'r', label='fitted line')\n",
    "\n",
    "# set the figure size\n",
    "plt.gcf().set_size_inches(6, 4)\n",
    "\n",
    "# save the plot as a PDF file paper format \n",
    "\n",
    "plt.savefig('DIC_TA_pH.pdf', dpi=300, bbox_inches='tight')\n",
    "\n",
    "plt.show()"
   ]
  },
  {
   "cell_type": "code",
   "execution_count": null,
   "metadata": {},
   "outputs": [],
   "source": [
    "print(\"r-squared:\", r_value**2)\n",
    "print(\"p_value:\", p_value)"
   ]
  },
  {
   "attachments": {},
   "cell_type": "markdown",
   "metadata": {},
   "source": [
    "### Perform  least squares (OLS) regression: scipy.stats.linregress\n",
    "\n",
    "A powerful and detailed linear regression tool that supports both simple and multiple linear regression. It provides a full statistical report, including p-values, confidence intervals, and diagnostic tests. Ideal for professional data analysis and scientific reporting."
   ]
  },
  {
   "cell_type": "code",
   "execution_count": null,
   "metadata": {},
   "outputs": [],
   "source": [
    "import statsmodels.api as sm\n",
    "import numpy as np\n",
    "\n",
    "#define predictor and response variables\n",
    "x = CO2Data['ta_micromol_kg']\n",
    "y = CO2Data['dic_micromol_kg']\n",
    "\n",
    "#add constant to predictor variables\n",
    "x = sm.add_constant(x)\n",
    "\n",
    "#fit linear regression model\n",
    "model = sm.OLS(y, x).fit()\n",
    "\n",
    "#view model summary\n",
    "print(model.summary())\n",
    "\n",
    "\n",
    "\n",
    "# --- Interpretación automática ---\n",
    "print(\"\\n--- Interpretation of OLS Results ---\\n\")\n",
    "\n",
    "# R-squared\n",
    "r2 = model.rsquared\n",
    "print(f\"R-squared: {r2:.3f}\")\n",
    "if r2 > 0.7:\n",
    "    print(\"➡️ The model explains a large proportion of the variance.\")\n",
    "elif r2 > 0.4:\n",
    "    print(\"➡️ The model explains a moderate proportion of the variance.\")\n",
    "else:\n",
    "    print(\"➡️ The model explains a low proportion of the variance. Consider reviewing your predictors.\")\n",
    "\n",
    "# Coefficients and p-values\n",
    "print(\"\\nCoefficients and p-values:\")\n",
    "summary_table = model.summary2().tables[1]\n",
    "for index, row in summary_table.iterrows():\n",
    "    coef = row['Coef.']\n",
    "    pval = row['P>|t|']\n",
    "    print(f\"- {index}: Coef = {coef:.4f}, p-value = {pval:.4f}\")\n",
    "    if pval < 0.05:\n",
    "        print(\"  ✅ Statistically significant (p < 0.05)\")\n",
    "    else:\n",
    "        print(\"  ⚠️ Not statistically significant (p >= 0.05)\")\n",
    "\n",
    "# Residuals check\n",
    "print(\"\\nStandard Error of the regression (SE): {:.4f}\".format(np.sqrt(model.scale)))\n",
    "print(\"➡️ Lower SE indicates better model fit, but check in context of your data scale.\")\n",
    "\n",
    "# export model summary to text file\n",
    "with open('model_summary.txt', 'w') as file:\n",
    "    file.write(model.summary().as_text())"
   ]
  },
  {
   "cell_type": "code",
   "execution_count": null,
   "metadata": {},
   "outputs": [],
   "source": [
    "\n",
    "\n",
    "# --- Interpretación automática ---# Interpretación simplificada\n",
    "print(\"\\n=== MODEL INTERPRETATION ===\\n\")\n",
    "\n",
    "# R-squared\n",
    "r2 = model.rsquared\n",
    "print(f\"R² = {r2:.3f}\")\n",
    "if r2 >= 0.7:\n",
    "    print(\"✔️ Good model fit: Explains most of the variance.\")\n",
    "elif r2 >= 0.4:\n",
    "    print(\"⚠️ Moderate model fit: Explains part of the variance.\")\n",
    "else:\n",
    "    print(\"❌ Weak model fit: Explains little variance. Review your model.\")\n",
    "\n",
    "# Extract coefficients and p-values\n",
    "results = model.summary2().tables[1]\n",
    "\n",
    "print(\"\\nCoefficients:\")\n",
    "for var, row in results.iterrows():\n",
    "     pval = row['P>|t|']\n",
    "     coef = row['Coef.']\n",
    "     significance = \"✔️ Significant (p < 0.05)\" if pval < 0.05 else \"⚠️ Not significant (p ≥ 0.05)\"\n",
    "     print(f\"- {var}: Coef = {coef:.4f}, p = {pval:.4f} → {significance}\")\n",
    "\n",
    "# Standard Error\n",
    "se = np.sqrt(model.scale)\n",
    "print(f\"\\nStandard Error of the model: {se:.4f}\")\n",
    "print(\"Lower SE indicates better precision, check relative to your data scale.\")"
   ]
  },
  {
   "cell_type": "code",
   "execution_count": null,
   "metadata": {},
   "outputs": [],
   "source": []
  },
  {
   "cell_type": "code",
   "execution_count": null,
   "metadata": {},
   "outputs": [],
   "source": [
    "print(\"\\n=== MODEL INTERPRETATION ===\\n\")\n",
    "\n",
    "# R-squared\n",
    "r2 = model.rsquared\n",
    "print(f\"R² = {r2:.3f}\")\n",
    "fit_quality = \"✔️ Good model fit\" if r2 >= 0.7 else \"⚠️ Moderate model fit\" if r2 >= 0.4 else \"❌ Weak model fit\"\n",
    "print(f\"{fit_quality}: Explains {'most' if r2 >= 0.7 else 'part' if r2 >= 0.4 else 'little'} of the variance.\")\n",
    "\n",
    "# Extract coefficients and p-values\n",
    "results = model.summary2().tables[1]\n",
    "print(\"\\nCoefficients:\")\n",
    "for var, row in results.iterrows():\n",
    "    coef, pval = row['Coef.'], row['P>|t|']\n",
    "    significance = \"✔️ Significant (p < 0.05)\" if pval < 0.05 else \"⚠️ Not significant (p ≥ 0.05)\"\n",
    "    print(f\"- {var}: Coefficient = {coef:.4f}, p = {pval:.4f} → {significance}\")\n",
    "\n",
    "# Intercept and slope\n",
    "intercept_coef, intercept_pval = results.loc['const', ['Coef.', 'P>|t|']]\n",
    "slope_var = results.index.drop('const')[0]  # assuming one predictor\n",
    "slope_coef, slope_pval = results.loc[slope_var, ['Coef.', 'P>|t|']]\n",
    "\n",
    "print(f\"\\nIntercept (const): {intercept_coef:.4f}, p = {intercept_pval:.4f} → \"\n",
    "      f\"{'✔️ Significant' if intercept_pval < 0.05 else '⚠️ Not significant'}\")\n",
    "print(f\"Slope ({slope_var}): {slope_coef:.4f}, p = {slope_pval:.4f} → \"\n",
    "      f\"{'✔️ Significant' if slope_pval < 0.05 else '⚠️ Not significant'}\")\n",
    "\n",
    "# Standard Error\n",
    "print(f\"\\nStandard Error of the model: {np.sqrt(model.scale):.4f}\")"
   ]
  },
  {
   "cell_type": "code",
   "execution_count": null,
   "metadata": {},
   "outputs": [],
   "source": []
  }
 ],
 "metadata": {
  "kernelspec": {
   "display_name": "base",
   "language": "python",
   "name": "python3"
  },
  "language_info": {
   "codemirror_mode": {
    "name": "ipython",
    "version": 3
   },
   "file_extension": ".py",
   "mimetype": "text/x-python",
   "name": "python",
   "nbconvert_exporter": "python",
   "pygments_lexer": "ipython3",
   "version": "3.12.3"
  }
 },
 "nbformat": 4,
 "nbformat_minor": 4
}
