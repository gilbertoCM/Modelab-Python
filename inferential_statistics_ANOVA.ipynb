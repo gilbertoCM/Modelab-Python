{
 "cells": [
  {
   "attachments": {},
   "cell_type": "markdown",
   "metadata": {},
   "source": [
    "#   Inferential statistic ANOVA"
   ]
  },
  {
   "cell_type": "code",
   "execution_count": 1,
   "metadata": {},
   "outputs": [],
   "source": [
    "import pandas as pd\n",
    "\n",
    "# Import the air quality dataset \n",
    "\n",
    "CO2Data = pd.read_csv(\"MartinezTrejo_etal_2023_TA_DIC_RawData.csv\")"
   ]
  },
  {
   "attachments": {},
   "cell_type": "markdown",
   "metadata": {},
   "source": [
    "![Alt text](warning.png)"
   ]
  },
  {
   "attachments": {},
   "cell_type": "markdown",
   "metadata": {},
   "source": [
    "![Alt text](UriasMPRecurso%201graphicalAbstract10.png)\n",
    "- Vallat, R. (2018)"
   ]
  },
  {
   "cell_type": "code",
   "execution_count": 2,
   "metadata": {},
   "outputs": [
    {
     "ename": "ModuleNotFoundError",
     "evalue": "No module named 'pingouin'",
     "output_type": "error",
     "traceback": [
      "\u001b[1;31m---------------------------------------------------------------------------\u001b[0m",
      "\u001b[1;31mModuleNotFoundError\u001b[0m                       Traceback (most recent call last)",
      "Cell \u001b[1;32mIn[2], line 1\u001b[0m\n\u001b[1;32m----> 1\u001b[0m \u001b[39mimport\u001b[39;00m \u001b[39mpingouin\u001b[39;00m \u001b[39mas\u001b[39;00m \u001b[39mpg\u001b[39;00m\n\u001b[0;32m      3\u001b[0m \u001b[39m# 1. This is a between subject design, so the first step is to test for equality of variances\u001b[39;00m\n\u001b[0;32m      4\u001b[0m pg\u001b[39m.\u001b[39mhomoscedasticity(data\u001b[39m=\u001b[39mCO2Data, dv\u001b[39m=\u001b[39m\u001b[39m'\u001b[39m\u001b[39mTA_micromol_kg\u001b[39m\u001b[39m'\u001b[39m, group\u001b[39m=\u001b[39m\u001b[39m'\u001b[39m\u001b[39mArea\u001b[39m\u001b[39m'\u001b[39m)\n",
      "\u001b[1;31mModuleNotFoundError\u001b[0m: No module named 'pingouin'"
     ]
    }
   ],
   "source": [
    "import pingouin as pg\n",
    "\n",
    "# 1. This is a between subject design, so the first step is to test for equality of variances\n",
    "pg.homoscedasticity(data=CO2Data, dv='TA_micromol_kg', group='Area')\n"
   ]
  },
  {
   "cell_type": "code",
   "execution_count": null,
   "metadata": {},
   "outputs": [],
   "source": [
    "# 2. If the groups have equal variances, we can use a regular one-way ANOVA\n",
    "pg.anova(data=CO2Data, dv='TA_micromol_kg', between='Area')\n"
   ]
  },
  {
   "cell_type": "code",
   "execution_count": 12,
   "metadata": {},
   "outputs": [
    {
     "data": {
      "text/html": [
       "<div>\n",
       "<style scoped>\n",
       "    .dataframe tbody tr th:only-of-type {\n",
       "        vertical-align: middle;\n",
       "    }\n",
       "\n",
       "    .dataframe tbody tr th {\n",
       "        vertical-align: top;\n",
       "    }\n",
       "\n",
       "    .dataframe thead th {\n",
       "        text-align: right;\n",
       "    }\n",
       "</style>\n",
       "<table border=\"1\" class=\"dataframe\">\n",
       "  <thead>\n",
       "    <tr style=\"text-align: right;\">\n",
       "      <th></th>\n",
       "      <th>A</th>\n",
       "      <th>B</th>\n",
       "      <th>mean(A)</th>\n",
       "      <th>mean(B)</th>\n",
       "      <th>diff</th>\n",
       "      <th>se</th>\n",
       "      <th>T</th>\n",
       "      <th>p-tukey</th>\n",
       "      <th>hedges</th>\n",
       "    </tr>\n",
       "  </thead>\n",
       "  <tbody>\n",
       "    <tr>\n",
       "      <th>0</th>\n",
       "      <td>Coast</td>\n",
       "      <td>Plume</td>\n",
       "      <td>2738.416667</td>\n",
       "      <td>2764.142857</td>\n",
       "      <td>-25.726190</td>\n",
       "      <td>98.734095</td>\n",
       "      <td>-0.260560</td>\n",
       "      <td>0.963280</td>\n",
       "      <td>-0.078445</td>\n",
       "    </tr>\n",
       "    <tr>\n",
       "      <th>1</th>\n",
       "      <td>Coast</td>\n",
       "      <td>River</td>\n",
       "      <td>2738.416667</td>\n",
       "      <td>3241.171429</td>\n",
       "      <td>-502.754762</td>\n",
       "      <td>98.734095</td>\n",
       "      <td>-5.092008</td>\n",
       "      <td>0.000005</td>\n",
       "      <td>-1.056151</td>\n",
       "    </tr>\n",
       "    <tr>\n",
       "      <th>2</th>\n",
       "      <td>Plume</td>\n",
       "      <td>River</td>\n",
       "      <td>2764.142857</td>\n",
       "      <td>3241.171429</td>\n",
       "      <td>-477.028571</td>\n",
       "      <td>99.426974</td>\n",
       "      <td>-4.797778</td>\n",
       "      <td>0.000016</td>\n",
       "      <td>-1.075547</td>\n",
       "    </tr>\n",
       "  </tbody>\n",
       "</table>\n",
       "</div>"
      ],
      "text/plain": [
       "       A      B      mean(A)  ...         T   p-tukey    hedges\n",
       "0  Coast  Plume  2738.416667  ... -0.260560  0.963280 -0.078445\n",
       "1  Coast  River  2738.416667  ... -5.092008  0.000005 -1.056151\n",
       "2  Plume  River  2764.142857  ... -4.797778  0.000016 -1.075547\n",
       "\n",
       "[3 rows x 9 columns]"
      ]
     },
     "execution_count": 12,
     "metadata": {},
     "output_type": "execute_result"
    }
   ],
   "source": [
    "# 3. If there is a main effect, we can proceed to post-hoc Tukey test\n",
    "pg.pairwise_tukey(data=CO2Data, dv='TA_micromol_kg', between='Area')"
   ]
  },
  {
   "attachments": {},
   "cell_type": "markdown",
   "metadata": {},
   "source": [
    "Vallat, R. (2018). Pingouin: statistics in Python. Journal of Open Source Software, 3(31), 1026\n",
    "- https://doi.org/10.21105/joss.01026"
   ]
  }
 ],
 "metadata": {
  "kernelspec": {
   "display_name": "Python 3 (ipykernel)",
   "language": "python",
   "name": "python3"
  },
  "language_info": {
   "codemirror_mode": {
    "name": "ipython",
    "version": 3
   },
   "file_extension": ".py",
   "mimetype": "text/x-python",
   "name": "python",
   "nbconvert_exporter": "python",
   "pygments_lexer": "ipython3",
   "version": "3.10.9"
  }
 },
 "nbformat": 4,
 "nbformat_minor": 4
}
